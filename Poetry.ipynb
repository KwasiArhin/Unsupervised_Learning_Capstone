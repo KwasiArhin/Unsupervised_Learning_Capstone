{
 "cells": [
  {
   "cell_type": "code",
   "execution_count": 1,
   "metadata": {},
   "outputs": [
    {
     "name": "stderr",
     "output_type": "stream",
     "text": [
      "/usr/local/lib/python3.7/site-packages/sklearn/utils/__init__.py:4: DeprecationWarning: Using or importing the ABCs from 'collections' instead of from 'collections.abc' is deprecated, and in 3.8 it will stop working\n",
      "  from collections import Sequence\n"
     ]
    }
   ],
   "source": [
    "import numpy as np\n",
    "import pandas as pd\n",
    "import scipy\n",
    "import sklearn\n",
    "import spacy\n",
    "import matplotlib.pyplot as plt\n",
    "%matplotlib inline\n",
    "import seaborn as sns\n",
    "import re\n",
    "from sklearn.model_selection import train_test_split\n",
    "from sklearn.feature_extraction.text import TfidfVectorizer\n",
    "from sklearn.decomposition import TruncatedSVD\n",
    "from sklearn.pipeline import make_pipeline\n",
    "from sklearn.preprocessing import Normalizer\n",
    "from sklearn.model_selection import cross_val_score\n",
    "from sklearn.linear_model import LogisticRegression\n",
    "from sklearn.ensemble import RandomForestClassifier\n",
    "from sklearn.svm import SVC\n",
    "from sklearn.ensemble import GradientBoostingClassifier\n",
    "from xgboost import XGBClassifier"
   ]
  },
  {
   "cell_type": "markdown",
   "metadata": {},
   "source": [
    "# Poetry Analysis"
   ]
  },
  {
   "cell_type": "markdown",
   "metadata": {},
   "source": [
    "Poetry is a cultural treasure of a country and its trademark. It's not unheard of people learning a new language specifically to be able to read poems in the original. While some aspects of a poem are challenging to analyze (e.g. intertexuality, themes and motifs), other characteristics are extractable and quantifiable? \n",
    "\n",
    "This capstone project responds to these questions using the English poetry data set which is available at: https://www.kaggle.com/ultrajack/poetry-analysis-using-ai-machine-learning/data. \n",
    "\n",
    "The current project accomplishes four tasks:\n",
    "\n",
    "- A: Prediction of a poem's time period (Renaissance vs. Modern) based on features generated through tf idf scores and subsequent latent semantic analysis (lsa). \n",
    "- B: Prediction of a poem's time period (Renaissance vs. Modern) based on word2vec features.\n",
    "- C: Prediction of a poem's type (love vs. non-love) using tf idf scores and lsa.\n",
    "- D: Clustering of the Texts using MeanShift, KMeans, and Spectral clustering algorithms.\n",
    "\n",
    "At this stage of the project, an entire poem text was selected as the mimimum unit of analysis. The tools at our disposal (such as SpaCy) allow us to break a text into sentences and paragraphs, however, in reality, sentences and paragraphs rarely mirror such salient structural elements of a poem as poetic lines and stanzas. Retrieval of these elements would require additional preprocessing and was outside of the scope of this short-term project. "
   ]
  },
  {
   "cell_type": "code",
   "execution_count": 2,
   "metadata": {},
   "outputs": [],
   "source": [
    "# load the downloaded dataset\n",
    "poetry = pd.read_csv('https://github.com/innawendell/Unsupervised_Learning_Capstone/blob/master/poetry.csv')"
   ]
  },
  {
   "cell_type": "code",
   "execution_count": 3,
   "metadata": {},
   "outputs": [
    {
     "data": {
      "text/html": [
       "<div>\n",
       "<style scoped>\n",
       "    .dataframe tbody tr th:only-of-type {\n",
       "        vertical-align: middle;\n",
       "    }\n",
       "\n",
       "    .dataframe tbody tr th {\n",
       "        vertical-align: top;\n",
       "    }\n",
       "\n",
       "    .dataframe thead th {\n",
       "        text-align: right;\n",
       "    }\n",
       "</style>\n",
       "<table border=\"1\" class=\"dataframe\">\n",
       "  <thead>\n",
       "    <tr style=\"text-align: right;\">\n",
       "      <th></th>\n",
       "      <th>author</th>\n",
       "      <th>content</th>\n",
       "      <th>poem name</th>\n",
       "      <th>age</th>\n",
       "      <th>type</th>\n",
       "    </tr>\n",
       "  </thead>\n",
       "  <tbody>\n",
       "    <tr>\n",
       "      <th>0</th>\n",
       "      <td>WILLIAM SHAKESPEARE</td>\n",
       "      <td>Let the bird of loudest lay\\r\\nOn the sole Ara...</td>\n",
       "      <td>The Phoenix and the Turtle</td>\n",
       "      <td>Renaissance</td>\n",
       "      <td>Mythology &amp; Folklore</td>\n",
       "    </tr>\n",
       "    <tr>\n",
       "      <th>1</th>\n",
       "      <td>DUCHESS OF NEWCASTLE MARGARET CAVENDISH</td>\n",
       "      <td>Sir Charles into my chamber coming in,\\r\\nWhen...</td>\n",
       "      <td>An Epilogue to the Above</td>\n",
       "      <td>Renaissance</td>\n",
       "      <td>Mythology &amp; Folklore</td>\n",
       "    </tr>\n",
       "    <tr>\n",
       "      <th>2</th>\n",
       "      <td>THOMAS BASTARD</td>\n",
       "      <td>Our vice runs beyond all that old men saw,\\r\\n...</td>\n",
       "      <td>Book 7, Epigram 42</td>\n",
       "      <td>Renaissance</td>\n",
       "      <td>Mythology &amp; Folklore</td>\n",
       "    </tr>\n",
       "    <tr>\n",
       "      <th>3</th>\n",
       "      <td>EDMUND SPENSER</td>\n",
       "      <td>Lo I the man, whose Muse whilome did maske,\\r\\...</td>\n",
       "      <td>from The Faerie Queene: Book I, Canto I</td>\n",
       "      <td>Renaissance</td>\n",
       "      <td>Mythology &amp; Folklore</td>\n",
       "    </tr>\n",
       "    <tr>\n",
       "      <th>4</th>\n",
       "      <td>RICHARD BARNFIELD</td>\n",
       "      <td>Long have I longd to see my love againe,\\r\\nSt...</td>\n",
       "      <td>Sonnet 16</td>\n",
       "      <td>Renaissance</td>\n",
       "      <td>Mythology &amp; Folklore</td>\n",
       "    </tr>\n",
       "  </tbody>\n",
       "</table>\n",
       "</div>"
      ],
      "text/plain": [
       "                                    author  \\\n",
       "0                      WILLIAM SHAKESPEARE   \n",
       "1  DUCHESS OF NEWCASTLE MARGARET CAVENDISH   \n",
       "2                           THOMAS BASTARD   \n",
       "3                           EDMUND SPENSER   \n",
       "4                        RICHARD BARNFIELD   \n",
       "\n",
       "                                             content  \\\n",
       "0  Let the bird of loudest lay\\r\\nOn the sole Ara...   \n",
       "1  Sir Charles into my chamber coming in,\\r\\nWhen...   \n",
       "2  Our vice runs beyond all that old men saw,\\r\\n...   \n",
       "3  Lo I the man, whose Muse whilome did maske,\\r\\...   \n",
       "4  Long have I longd to see my love againe,\\r\\nSt...   \n",
       "\n",
       "                                 poem name          age                  type  \n",
       "0               The Phoenix and the Turtle  Renaissance  Mythology & Folklore  \n",
       "1                 An Epilogue to the Above  Renaissance  Mythology & Folklore  \n",
       "2                       Book 7, Epigram 42  Renaissance  Mythology & Folklore  \n",
       "3  from The Faerie Queene: Book I, Canto I  Renaissance  Mythology & Folklore  \n",
       "4                                Sonnet 16  Renaissance  Mythology & Folklore  "
      ]
     },
     "execution_count": 3,
     "metadata": {},
     "output_type": "execute_result"
    }
   ],
   "source": [
    "# explore what the data looks like\n",
    "poetry.head()"
   ]
  },
  {
   "cell_type": "markdown",
   "metadata": {},
   "source": [
    "Further exploration of the dataset showed that the it contained a significant number of copyright notices in the 'content' column with no actual poem texts. These entries had to be removed from the dataset."
   ]
  },
  {
   "cell_type": "code",
   "execution_count": 4,
   "metadata": {},
   "outputs": [],
   "source": [
    "# cleaning function to remove the copyright notices. Tagging the rows with the copyright notices\n",
    "def copyright(row):\n",
    "    if row['content'].count('Copyright') >0:\n",
    "           return 'Copyright'\n",
    "    elif row['content'].count('copyright') >0:\n",
    "        return 'Copyright'\n",
    "    elif row['content'].count('Originally published') >0:\n",
    "        return 'Copyright'\n",
    "    elif row['content'].count('permission') >0:\n",
    "        return 'Copyright'\n",
    "    else:\n",
    "        return row['content']"
   ]
  },
  {
   "cell_type": "code",
   "execution_count": 5,
   "metadata": {},
   "outputs": [],
   "source": [
    "# application of the cleaning function to the 'content' column\n",
    "poetry['content'] = poetry.apply(copyright, axis=1)"
   ]
  },
  {
   "cell_type": "code",
   "execution_count": 6,
   "metadata": {},
   "outputs": [
    {
     "data": {
      "text/plain": [
       "95"
      ]
     },
     "execution_count": 6,
     "metadata": {},
     "output_type": "execute_result"
    }
   ],
   "source": [
    "#check how many rows were removed\n",
    "len(poetry[poetry['content']=='Copyright'])"
   ]
  },
  {
   "cell_type": "code",
   "execution_count": 7,
   "metadata": {},
   "outputs": [],
   "source": [
    "# removal of the rows with the copyright notices from the dataset\n",
    "poetry = poetry[poetry['content'] != 'Copyright']"
   ]
  },
  {
   "cell_type": "code",
   "execution_count": 8,
   "metadata": {},
   "outputs": [],
   "source": [
    "#reset index after deleting entries\n",
    "poetry = poetry.reset_index(drop=True)"
   ]
  },
  {
   "cell_type": "code",
   "execution_count": 9,
   "metadata": {},
   "outputs": [
    {
     "data": {
      "text/plain": [
       "(478, 5)"
      ]
     },
     "execution_count": 9,
     "metadata": {},
     "output_type": "execute_result"
    }
   ],
   "source": [
    "#check the final shape of the dataset\n",
    "poetry.shape"
   ]
  },
  {
   "cell_type": "code",
   "execution_count": 10,
   "metadata": {},
   "outputs": [
    {
     "name": "stdout",
     "output_type": "stream",
     "text": [
      "<class 'pandas.core.frame.DataFrame'>\n",
      "RangeIndex: 478 entries, 0 to 477\n",
      "Data columns (total 5 columns):\n",
      "author       478 non-null object\n",
      "content      478 non-null object\n",
      "poem name    476 non-null object\n",
      "age          478 non-null object\n",
      "type         478 non-null object\n",
      "dtypes: object(5)\n",
      "memory usage: 18.8+ KB\n"
     ]
    }
   ],
   "source": [
    "# check if the dataset has any null values. We are not going to handle the null values in the poem name \n",
    "# because we are not actually using poem names for our analysis. However, this could be an interesting study in its own\n",
    "# right: predicting time-period and topic based on the poem name.\n",
    "\n",
    "\n",
    "poetry.info()"
   ]
  },
  {
   "cell_type": "markdown",
   "metadata": {},
   "source": [
    "If we examine the author composition of the data, it becomes apparenet that William Shakespeare, John Donne, Sir Philip Sidney, and Edmund Spence by far dominate the dataset."
   ]
  },
  {
   "cell_type": "code",
   "execution_count": 11,
   "metadata": {},
   "outputs": [
    {
     "data": {
      "image/png": "[encoded data removed]",
      "text/plain": [
       "<Figure size 1080x504 with 1 Axes>"
      ]
     },
     "metadata": {},
     "output_type": "display_data"
    }
   ],
   "source": [
    "# create a count plot to see how many entries we have for each author\n",
    "\n",
    "plt.figure(figsize=(15,7))\n",
    "ax = sns.countplot(x=poetry['author'])\n",
    "plt.xticks(rotation=90)\n",
    "plt.title('Author Count')\n",
    "plt.show()"
   ]
  },
  {
   "cell_type": "markdown",
   "metadata": {},
   "source": [
    "Additionally, we can clearly see that we have a lot more poems from the Renaissance time period and many more poems about love than about other subjects. This sharp class imbalance ultimately prompted us to classify love vs. non-love poems. "
   ]
  },
  {
   "cell_type": "code",
   "execution_count": 12,
   "metadata": {},
   "outputs": [
    {
     "data": {
      "image/png": "[encoded data removed]",
      "text/plain": [
       "<Figure size 1224x360 with 1 Axes>"
      ]
     },
     "metadata": {},
     "output_type": "display_data"
    }
   ],
   "source": [
    "plt.figure(figsize=(17,5))\n",
    "\n",
    "sns.countplot(x=poetry['age'])\n",
    "plt.title('Poems by Age')\n",
    "plt.show()\n"
   ]
  },
  {
   "cell_type": "code",
   "execution_count": 13,
   "metadata": {},
   "outputs": [
    {
     "data": {
      "image/png": "[encoded data removed]",
      "text/plain": [
       "<Figure size 1080x360 with 1 Axes>"
      ]
     },
     "metadata": {},
     "output_type": "display_data"
    }
   ],
   "source": [
    "# create count plots for poetry age and type\n",
    "\n",
    "plt.figure(figsize=(15,5))\n",
    "\n",
    "sns.countplot(x=poetry['age'], hue=poetry['type'])\n",
    "plt.title('Poems by Type and Age')\n",
    "plt.show()"
   ]
  },
  {
   "cell_type": "markdown",
   "metadata": {},
   "source": [
    "# TASK A. PREDICTION OF THE TIME PERIOD (TF_IDF, LSA)"
   ]
  },
  {
   "cell_type": "markdown",
   "metadata": {},
   "source": [
    "Our first task is predict the time period when a poem was written: Renaissance vs. Modern. "
   ]
  },
  {
   "cell_type": "markdown",
   "metadata": {},
   "source": [
    "# I. Splitting The Data Into Training and Test Sets"
   ]
  },
  {
   "cell_type": "markdown",
   "metadata": {},
   "source": [
    "We will split our dataset into the train and test sets: 30% of our data will be reserved for testing our algorithms."
   ]
  },
  {
   "cell_type": "code",
   "execution_count": 14,
   "metadata": {},
   "outputs": [
    {
     "data": {
      "text/plain": [
       "334"
      ]
     },
     "execution_count": 14,
     "metadata": {},
     "output_type": "execute_result"
    }
   ],
   "source": [
    "# we will keep the fields 'author', 'age', and 'type' in the X here because they will be useful for cluster analysis\n",
    "# for the actual supervised machine learning algorithms, we will only use the 'content' as the X (see \n",
    "# the processor function below)\n",
    "\n",
    "\n",
    "X = poetry[['content', 'author', 'age', 'type']]\n",
    "\n",
    "# y will be the 'age' since here we are trying to predict the time period\n",
    "y = poetry['age']\n",
    "\n",
    "X_train, X_test, y_train, y_test = train_test_split(X, y, test_size=0.3, random_state=0)\n",
    "\n",
    "#check the length of our train set\n",
    "len(X_train)"
   ]
  },
  {
   "cell_type": "code",
   "execution_count": 15,
   "metadata": {},
   "outputs": [
    {
     "data": {
      "text/plain": [
       "144"
      ]
     },
     "execution_count": 15,
     "metadata": {},
     "output_type": "execute_result"
    }
   ],
   "source": [
    "#check the length of our test set\n",
    "len(X_test)"
   ]
  },
  {
   "cell_type": "markdown",
   "metadata": {},
   "source": [
    "# II. Poem Preprocessing"
   ]
  },
  {
   "cell_type": "code",
   "execution_count": 16,
   "metadata": {},
   "outputs": [],
   "source": [
    "# function for preprocessing the text, including lemmatization and punctuation removal\n",
    "\n",
    "nlp = spacy.load('en')\n",
    "def processor(dataframe, column):\n",
    "    poems_lemmas = []\n",
    "    for entry in dataframe[column]:\n",
    "        entry_parsed = nlp(entry)\n",
    "        string = ''\n",
    "        for token in entry_parsed:\n",
    "            if not token.is_punct:\n",
    "                string += token.lemma_ + ' '\n",
    "        poems_lemmas.append(string)\n",
    "    \n",
    "    # removing new lines marking\n",
    "    cleaned_poems = []\n",
    "    for entry in poems_lemmas:\n",
    "        entry = entry.replace('\\n', '')\n",
    "        cleaned_poems.append(entry)\n",
    "        \n",
    "    # removing 'r' marking\n",
    "    cleaned_poems_fin = []\n",
    "    for entry in cleaned_poems:\n",
    "        entry = entry.replace('\\r', '')\n",
    "        cleaned_poems_fin.append(entry) \n",
    "    return cleaned_poems_fin"
   ]
  },
  {
   "cell_type": "code",
   "execution_count": 17,
   "metadata": {},
   "outputs": [],
   "source": [
    "# applying the preprocessing function to the content: now our features include only the processed lemmatized text\n",
    "\n",
    "X_train_processed = processor(X_train, 'content')"
   ]
  },
  {
   "cell_type": "code",
   "execution_count": 18,
   "metadata": {},
   "outputs": [
    {
     "data": {
      "text/plain": [
       "\"twice or thrice have -PRON- lov'd thee  before -PRON- know thy face or name  so in a voice so in a shapeless flame  angels affect -PRON- oft and worshipp'd be           still when to where thou wert -PRON- come  some lovely glorious nothing -PRON- do see           but since -PRON- soul whose child love be  take limb of flesh and else could nothing do           more subtle than the parent be  love must not be but take a body too           and therefore what thou wert and who                  -PRON- bid love ask and now  that -PRON- assume thy body -PRON- allow  and fix -PRON- in thy lip eye and brow  whilst thus to ballast love -PRON- think  and so more steadily to have go  with ware which would sink admiration  -PRON- see -PRON- have love 's pinnace overfraught           ev'ry thy hair for love to work upon  be much too much some fitter must be seek           for nor in nothing nor in thing  extreme and scatt'r bright can love inhere           then as an angel face and wing  of air not pure as -PRON- yet pure doth wear           so thy love may be -PRON- love 's sphere                  just such disparity  as be twixt air and angel purity  twixt woman 's love and man 's will ever be \""
      ]
     },
     "execution_count": 18,
     "metadata": {},
     "output_type": "execute_result"
    }
   ],
   "source": [
    "# check what a random example looks like\n",
    "X_train_processed[100]"
   ]
  },
  {
   "cell_type": "code",
   "execution_count": 19,
   "metadata": {},
   "outputs": [
    {
     "data": {
      "text/plain": [
       "str"
      ]
     },
     "execution_count": 19,
     "metadata": {},
     "output_type": "execute_result"
    }
   ],
   "source": [
    "#check the data type of an entry\n",
    "type(X_train_processed[100])"
   ]
  },
  {
   "cell_type": "markdown",
   "metadata": {},
   "source": [
    "# III. Feature Generation: TF_IDF SCORES"
   ]
  },
  {
   "cell_type": "markdown",
   "metadata": {},
   "source": [
    "We will first approach the problem of age prediction by parsing by generating features using **tf_idf scores** for the words that appear in our poems. \n",
    "\n",
    "This formula below explains how the **idf score** (inverse document frequency) is calculated for each term (t) where N is the total number of documents (in our case, poem texts) and df_t is the document frequency (how many documents/ poems a term appears in).\n",
    "\n",
    "$$idf_t=log \\dfrac N{df_t}$$\n",
    "\n",
    "The idf_t allows us to identify the terms that are less important than other terms (because they are too frequent in all poems). The last step is to calcuate the **tf_idf** scores. First, we count the term frequency (how often a term appears in a document / an individual poem). This allows us to weigh repeated words/terms more heavily. To get the final tf_idf score, we multiply the term frequency by its idf score:\n",
    "\n",
    "$$tf idf_{t,d}=(tf_{t,d})(idf_t)$$\n",
    "\n",
    "\n",
    "This is a way for us to discriminate among the words and weigh more relevant words more heavily. Essentially, we assign more weight to the words that occur many times in a small number of documents/ poems and less weight to the words that appear in most of the documents / poems. It allows us to convert human text into the format which is suitable for machine learning."
   ]
  },
  {
   "cell_type": "code",
   "execution_count": 20,
   "metadata": {},
   "outputs": [],
   "source": [
    "# initialize the sklearn tfidfVectorizer \n",
    "\n",
    "vectorizer = TfidfVectorizer(max_df=0.8, # drop words that occur in more than 80% the texts\n",
    "                             min_df=2, # only use words that appear at least two times\n",
    "                             stop_words='english', \n",
    "                             lowercase=True, \n",
    "                             use_idf=True,\n",
    "                             norm=u'l2',\n",
    "                             smooth_idf=True\n",
    "                            )"
   ]
  },
  {
   "cell_type": "code",
   "execution_count": 21,
   "metadata": {},
   "outputs": [
    {
     "name": "stdout",
     "output_type": "stream",
     "text": [
      "Number of features: 3204\n"
     ]
    }
   ],
   "source": [
    "# apply the tfidfVectorizer to the processed texts\n",
    "\n",
    "X_train_tfidf=vectorizer.fit_transform(X_train_processed)\n",
    "\n",
    "print(\"Number of features: %d\" % X_train_tfidf.get_shape()[1])"
   ]
  },
  {
   "cell_type": "code",
   "execution_count": 22,
   "metadata": {},
   "outputs": [
    {
     "data": {
      "text/plain": [
       "3204"
      ]
     },
     "execution_count": 22,
     "metadata": {},
     "output_type": "execute_result"
    }
   ],
   "source": [
    "#check the length of the generated vocabulary\n",
    "len(vectorizer.vocabulary_)"
   ]
  },
  {
   "cell_type": "markdown",
   "metadata": {},
   "source": [
    "By now we have a multi-dimensional space where the number of dimensions is equal to the size of the vocabulary of our TFIDF model . As we can see, our space is made up of 3204 dimensions. We made the decision to include only the words that appear at least two times and drop the words that in 80% of the poems. We also exclude all the stop words (the most commonly used words). Each poem text in our dataset is converted into a vector and placed into our vector space. Similarity between poems can be estimated by calculating the cosine of the angle between the poem vectors. \n"
   ]
  },
  {
   "cell_type": "markdown",
   "metadata": {},
   "source": [
    "# IV. Latent Semantic Analysis and Normalization"
   ]
  },
  {
   "cell_type": "markdown",
   "metadata": {},
   "source": [
    "We will reduce the dimensionality of our matrix by applying Latent Semantic Analysis or (LSA). We can think of LSA as applying Principal Component Analysis (PCA) to a tf_idf term-document matrix. The resultant components are supposed to reflect a topic and each document / poem will receive a score for each topic where the higher scores mean that a topic is more pronounced in the document / poem. Each poem can have more than one topic and therefore can be relevant to more than one lsa component. \n",
    "\n",
    "To perform lsa, we will use Single Value Decomposition (SVD) that is handy for sparse matrices (the matrices with many zeros and few non-zero values). SVD stores only non-zero values and, therefore, offers a significant computational boost. We will reduce our feature space to 280 components and normalize the resultant matrix."
   ]
  },
  {
   "cell_type": "code",
   "execution_count": 23,
   "metadata": {},
   "outputs": [
    {
     "name": "stdout",
     "output_type": "stream",
     "text": [
      "Variance captured by all components: 0.97\n"
     ]
    }
   ],
   "source": [
    "# reduce our feature space to 280 components and normalize our training set\n",
    "svd= TruncatedSVD(280)\n",
    "\n",
    "#make a pipeline with svd and normalizer\n",
    "lsa = make_pipeline(svd, Normalizer(copy=False))\n",
    "\n",
    "# fit and transform our training set\n",
    "X_train_lsa = lsa.fit_transform(X_train_tfidf)\n",
    "\n",
    "#check how much variance is explained by the components\n",
    "variance_explained=svd.explained_variance_ratio_\n",
    "total_variance = variance_explained.sum()\n",
    "\n",
    "print(\"Variance captured by all components:\", \"%.2f\" %total_variance)"
   ]
  },
  {
   "cell_type": "markdown",
   "metadata": {},
   "source": [
    "# V. Application of The Machine Learning Algorithms"
   ]
  },
  {
   "cell_type": "markdown",
   "metadata": {},
   "source": [
    "We will use and cross-validate the following algorithms to predict the time period of a poem:\n",
    "\n",
    "1. Logistic Regression with Ridge normalization\n",
    "2. Random Forest Classifier\n",
    "3. Gradient Boosting Classifer\n",
    "4. XGB Classifier\n",
    "5. Support Vector Machine Classifier\n",
    "\n",
    "We will use **roc_auc score** (area under the receiver operating characteristic curve) as the measure of the classifiers' performance. It allows us to estimate the ratio of true positives to false positives regardless of our probability threshhold. "
   ]
  },
  {
   "cell_type": "markdown",
   "metadata": {},
   "source": [
    "# Cross-Validation on Training Set"
   ]
  },
  {
   "cell_type": "markdown",
   "metadata": {},
   "source": [
    "### 1. Logistic Regression ('l1' penalty)"
   ]
  },
  {
   "cell_type": "markdown",
   "metadata": {},
   "source": [
    "Note: fine-tuned logistic regression with Lasso penalty was tested on the training set and test set but it was excluded from the final version of the notebook because it performed worse than ridge for this particular task."
   ]
  },
  {
   "cell_type": "code",
   "execution_count": 24,
   "metadata": {},
   "outputs": [],
   "source": [
    "# fine-tune the C scores for the ridge model\n",
    "\n",
    "scores = []\n",
    "Cs = []\n",
    "for value in [0.001,0.01,0.1,1,10,100]:\n",
    "    lr = LogisticRegression(C=value)\n",
    "    score = np.mean(cross_val_score(lr, \n",
    "                                    X_train_lsa, \n",
    "                                    y_train,\n",
    "                                    scoring='roc_auc'))\n",
    "    scores.append(score)\n",
    "    Cs.append(value)"
   ]
  },
  {
   "cell_type": "code",
   "execution_count": 25,
   "metadata": {},
   "outputs": [
    {
     "data": {
      "text/html": [
       "<div>\n",
       "<style scoped>\n",
       "    .dataframe tbody tr th:only-of-type {\n",
       "        vertical-align: middle;\n",
       "    }\n",
       "\n",
       "    .dataframe tbody tr th {\n",
       "        vertical-align: top;\n",
       "    }\n",
       "\n",
       "    .dataframe thead th {\n",
       "        text-align: right;\n",
       "    }\n",
       "</style>\n",
       "<table border=\"1\" class=\"dataframe\">\n",
       "  <thead>\n",
       "    <tr style=\"text-align: right;\">\n",
       "      <th></th>\n",
       "      <th>scores</th>\n",
       "      <th>Cs</th>\n",
       "    </tr>\n",
       "  </thead>\n",
       "  <tbody>\n",
       "    <tr>\n",
       "      <th>0</th>\n",
       "      <td>0.982533</td>\n",
       "      <td>100.000</td>\n",
       "    </tr>\n",
       "    <tr>\n",
       "      <th>1</th>\n",
       "      <td>0.980380</td>\n",
       "      <td>10.000</td>\n",
       "    </tr>\n",
       "    <tr>\n",
       "      <th>2</th>\n",
       "      <td>0.974886</td>\n",
       "      <td>1.000</td>\n",
       "    </tr>\n",
       "    <tr>\n",
       "      <th>3</th>\n",
       "      <td>0.965313</td>\n",
       "      <td>0.100</td>\n",
       "    </tr>\n",
       "    <tr>\n",
       "      <th>4</th>\n",
       "      <td>0.936408</td>\n",
       "      <td>0.010</td>\n",
       "    </tr>\n",
       "    <tr>\n",
       "      <th>5</th>\n",
       "      <td>0.916442</td>\n",
       "      <td>0.001</td>\n",
       "    </tr>\n",
       "  </tbody>\n",
       "</table>\n",
       "</div>"
      ],
      "text/plain": [
       "     scores       Cs\n",
       "0  0.982533  100.000\n",
       "1  0.980380   10.000\n",
       "2  0.974886    1.000\n",
       "3  0.965313    0.100\n",
       "4  0.936408    0.010\n",
       "5  0.916442    0.001"
      ]
     },
     "execution_count": 25,
     "metadata": {},
     "output_type": "execute_result"
    }
   ],
   "source": [
    "#create a dataframe to evaluate our results\n",
    "\n",
    "df  =  pd.DataFrame(scores)\n",
    "df['Cs'] = Cs\n",
    "df.columns=['scores', 'Cs']\n",
    "\n",
    "df.sort_values(by = 'scores', ascending=False).reset_index(drop=True)"
   ]
  },
  {
   "cell_type": "markdown",
   "metadata": {},
   "source": [
    "### 2. Random Forest Classifier"
   ]
  },
  {
   "cell_type": "code",
   "execution_count": 26,
   "metadata": {},
   "outputs": [],
   "source": [
    "# fine-tune the number of esimators (trees) in the random forest\n",
    "scores = []\n",
    "parameters = []\n",
    "\n",
    "est_number = [100, 500,700, 1000, 1500] \n",
    "\n",
    "for value in est_number:\n",
    "    rfc = RandomForestClassifier(n_jobs = -1, \n",
    "                                 n_estimators = value)\n",
    "    score = np.mean(cross_val_score(rfc, \n",
    "                                    X_train_lsa, \n",
    "                                    y_train, n_jobs=-1,\n",
    "                                    scoring = 'roc_auc'))\n",
    "    scores.append(score)\n",
    "    parameters.append(value)"
   ]
  },
  {
   "cell_type": "code",
   "execution_count": 27,
   "metadata": {},
   "outputs": [
    {
     "data": {
      "text/html": [
       "<div>\n",
       "<style scoped>\n",
       "    .dataframe tbody tr th:only-of-type {\n",
       "        vertical-align: middle;\n",
       "    }\n",
       "\n",
       "    .dataframe tbody tr th {\n",
       "        vertical-align: top;\n",
       "    }\n",
       "\n",
       "    .dataframe thead th {\n",
       "        text-align: right;\n",
       "    }\n",
       "</style>\n",
       "<table border=\"1\" class=\"dataframe\">\n",
       "  <thead>\n",
       "    <tr style=\"text-align: right;\">\n",
       "      <th></th>\n",
       "      <th>scores</th>\n",
       "      <th>params</th>\n",
       "    </tr>\n",
       "  </thead>\n",
       "  <tbody>\n",
       "    <tr>\n",
       "      <th>0</th>\n",
       "      <td>0.962083</td>\n",
       "      <td>1500</td>\n",
       "    </tr>\n",
       "    <tr>\n",
       "      <th>1</th>\n",
       "      <td>0.961238</td>\n",
       "      <td>700</td>\n",
       "    </tr>\n",
       "    <tr>\n",
       "      <th>2</th>\n",
       "      <td>0.958982</td>\n",
       "      <td>1000</td>\n",
       "    </tr>\n",
       "    <tr>\n",
       "      <th>3</th>\n",
       "      <td>0.955766</td>\n",
       "      <td>500</td>\n",
       "    </tr>\n",
       "    <tr>\n",
       "      <th>4</th>\n",
       "      <td>0.926472</td>\n",
       "      <td>100</td>\n",
       "    </tr>\n",
       "  </tbody>\n",
       "</table>\n",
       "</div>"
      ],
      "text/plain": [
       "     scores  params\n",
       "0  0.962083    1500\n",
       "1  0.961238     700\n",
       "2  0.958982    1000\n",
       "3  0.955766     500\n",
       "4  0.926472     100"
      ]
     },
     "execution_count": 27,
     "metadata": {},
     "output_type": "execute_result"
    }
   ],
   "source": [
    "df = pd.DataFrame(scores)\n",
    "df['params'] = parameters\n",
    "df.columns=['scores', 'params']\n",
    "\n",
    "df.sort_values(by = 'scores', ascending=False).reset_index(drop=True)"
   ]
  },
  {
   "cell_type": "code",
   "execution_count": 28,
   "metadata": {},
   "outputs": [],
   "source": [
    "# fine-tune the max_depth of a tree\n",
    "scores = []\n",
    "parameters = []\n",
    "\n",
    "depth = [6, 8, 12, 20, 50] \n",
    "\n",
    "for value in depth:\n",
    "    rfc = RandomForestClassifier(n_jobs = -1, \n",
    "                                 n_estimators = 1500, \n",
    "                                 max_depth = value)\n",
    "    score = np.mean(cross_val_score(rfc, \n",
    "                                    X_train_lsa, \n",
    "                                    y_train, n_jobs=-1,\n",
    "                                    scoring='roc_auc'))\n",
    "    scores.append(score)\n",
    "    parameters.append(value)"
   ]
  },
  {
   "cell_type": "code",
   "execution_count": 29,
   "metadata": {},
   "outputs": [
    {
     "data": {
      "text/html": [
       "<div>\n",
       "<style scoped>\n",
       "    .dataframe tbody tr th:only-of-type {\n",
       "        vertical-align: middle;\n",
       "    }\n",
       "\n",
       "    .dataframe tbody tr th {\n",
       "        vertical-align: top;\n",
       "    }\n",
       "\n",
       "    .dataframe thead th {\n",
       "        text-align: right;\n",
       "    }\n",
       "</style>\n",
       "<table border=\"1\" class=\"dataframe\">\n",
       "  <thead>\n",
       "    <tr style=\"text-align: right;\">\n",
       "      <th></th>\n",
       "      <th>scores</th>\n",
       "      <th>params</th>\n",
       "    </tr>\n",
       "  </thead>\n",
       "  <tbody>\n",
       "    <tr>\n",
       "      <th>0</th>\n",
       "      <td>0.962083</td>\n",
       "      <td>50</td>\n",
       "    </tr>\n",
       "    <tr>\n",
       "      <th>1</th>\n",
       "      <td>0.962083</td>\n",
       "      <td>20</td>\n",
       "    </tr>\n",
       "    <tr>\n",
       "      <th>2</th>\n",
       "      <td>0.961625</td>\n",
       "      <td>12</td>\n",
       "    </tr>\n",
       "    <tr>\n",
       "      <th>3</th>\n",
       "      <td>0.960613</td>\n",
       "      <td>8</td>\n",
       "    </tr>\n",
       "    <tr>\n",
       "      <th>4</th>\n",
       "      <td>0.958056</td>\n",
       "      <td>6</td>\n",
       "    </tr>\n",
       "  </tbody>\n",
       "</table>\n",
       "</div>"
      ],
      "text/plain": [
       "     scores  params\n",
       "0  0.962083      50\n",
       "1  0.962083      20\n",
       "2  0.961625      12\n",
       "3  0.960613       8\n",
       "4  0.958056       6"
      ]
     },
     "execution_count": 29,
     "metadata": {},
     "output_type": "execute_result"
    }
   ],
   "source": [
    "df = pd.DataFrame(scores)\n",
    "df['params'] = parameters\n",
    "df.columns=['scores', 'params']\n",
    "\n",
    "df.sort_values(by = 'scores', ascending=False).reset_index(drop=True)"
   ]
  },
  {
   "cell_type": "markdown",
   "metadata": {},
   "source": [
    "### 3. Gradient Boosting Classifier"
   ]
  },
  {
   "cell_type": "code",
   "execution_count": 30,
   "metadata": {},
   "outputs": [],
   "source": [
    "#fine-tune the number of estimators (trees)\n",
    "\n",
    "scores = []\n",
    "parameters = []\n",
    "\n",
    "est_number = [100, 500,700, 1000, 1500] \n",
    "\n",
    "for value in est_number:\n",
    "    gbc = GradientBoostingClassifier(loss = 'deviance',\n",
    "                                    n_estimators = value)\n",
    "    \n",
    "    score = np.mean(cross_val_score(\n",
    "                        gbc, \n",
    "                        X_train_lsa, \n",
    "                        y_train,  \n",
    "                        n_jobs=-1,\n",
    "                        scoring='roc_auc'))\n",
    "    \n",
    "    scores.append(score)\n",
    "    parameters.append(value)"
   ]
  },
  {
   "cell_type": "code",
   "execution_count": 31,
   "metadata": {},
   "outputs": [
    {
     "data": {
      "text/html": [
       "<div>\n",
       "<style scoped>\n",
       "    .dataframe tbody tr th:only-of-type {\n",
       "        vertical-align: middle;\n",
       "    }\n",
       "\n",
       "    .dataframe tbody tr th {\n",
       "        vertical-align: top;\n",
       "    }\n",
       "\n",
       "    .dataframe thead th {\n",
       "        text-align: right;\n",
       "    }\n",
       "</style>\n",
       "<table border=\"1\" class=\"dataframe\">\n",
       "  <thead>\n",
       "    <tr style=\"text-align: right;\">\n",
       "      <th></th>\n",
       "      <th>scores</th>\n",
       "      <th>params</th>\n",
       "    </tr>\n",
       "  </thead>\n",
       "  <tbody>\n",
       "    <tr>\n",
       "      <th>0</th>\n",
       "      <td>0.949050</td>\n",
       "      <td>500</td>\n",
       "    </tr>\n",
       "    <tr>\n",
       "      <th>1</th>\n",
       "      <td>0.949050</td>\n",
       "      <td>700</td>\n",
       "    </tr>\n",
       "    <tr>\n",
       "      <th>2</th>\n",
       "      <td>0.949050</td>\n",
       "      <td>1000</td>\n",
       "    </tr>\n",
       "    <tr>\n",
       "      <th>3</th>\n",
       "      <td>0.949050</td>\n",
       "      <td>1500</td>\n",
       "    </tr>\n",
       "    <tr>\n",
       "      <th>4</th>\n",
       "      <td>0.944491</td>\n",
       "      <td>100</td>\n",
       "    </tr>\n",
       "  </tbody>\n",
       "</table>\n",
       "</div>"
      ],
      "text/plain": [
       "     scores  params\n",
       "0  0.949050     500\n",
       "1  0.949050     700\n",
       "2  0.949050    1000\n",
       "3  0.949050    1500\n",
       "4  0.944491     100"
      ]
     },
     "execution_count": 31,
     "metadata": {},
     "output_type": "execute_result"
    }
   ],
   "source": [
    "df = pd.DataFrame(scores)\n",
    "df['params'] = parameters\n",
    "df.columns=['scores', 'params']\n",
    "\n",
    "df.sort_values(by = 'scores', ascending=False).reset_index(drop=True)"
   ]
  },
  {
   "cell_type": "code",
   "execution_count": 32,
   "metadata": {},
   "outputs": [],
   "source": [
    "# fine-tune the max_depth of a tree\n",
    "scores = []\n",
    "parameters = []\n",
    "\n",
    "depth = [4, 6, 8, 10] \n",
    "\n",
    "for value in depth:\n",
    "    gbc = GradientBoostingClassifier(loss = 'deviance',\n",
    "                                    n_estimators = 500,\n",
    "                                    max_depth = value)\n",
    "    \n",
    "    score = np.mean(cross_val_score(\n",
    "                        gbc, \n",
    "                        X_train_lsa, \n",
    "                        y_train,  \n",
    "                        n_jobs=-1,\n",
    "                        scoring='roc_auc'))\n",
    "    \n",
    "    scores.append(score)\n",
    "    parameters.append(value)"
   ]
  },
  {
   "cell_type": "code",
   "execution_count": 33,
   "metadata": {},
   "outputs": [
    {
     "data": {
      "text/html": [
       "<div>\n",
       "<style scoped>\n",
       "    .dataframe tbody tr th:only-of-type {\n",
       "        vertical-align: middle;\n",
       "    }\n",
       "\n",
       "    .dataframe tbody tr th {\n",
       "        vertical-align: top;\n",
       "    }\n",
       "\n",
       "    .dataframe thead th {\n",
       "        text-align: right;\n",
       "    }\n",
       "</style>\n",
       "<table border=\"1\" class=\"dataframe\">\n",
       "  <thead>\n",
       "    <tr style=\"text-align: right;\">\n",
       "      <th></th>\n",
       "      <th>scores</th>\n",
       "      <th>params</th>\n",
       "    </tr>\n",
       "  </thead>\n",
       "  <tbody>\n",
       "    <tr>\n",
       "      <th>0</th>\n",
       "      <td>0.939058</td>\n",
       "      <td>4</td>\n",
       "    </tr>\n",
       "    <tr>\n",
       "      <th>1</th>\n",
       "      <td>0.879748</td>\n",
       "      <td>8</td>\n",
       "    </tr>\n",
       "    <tr>\n",
       "      <th>2</th>\n",
       "      <td>0.874769</td>\n",
       "      <td>6</td>\n",
       "    </tr>\n",
       "    <tr>\n",
       "      <th>3</th>\n",
       "      <td>0.874295</td>\n",
       "      <td>10</td>\n",
       "    </tr>\n",
       "  </tbody>\n",
       "</table>\n",
       "</div>"
      ],
      "text/plain": [
       "     scores  params\n",
       "0  0.939058       4\n",
       "1  0.879748       8\n",
       "2  0.874769       6\n",
       "3  0.874295      10"
      ]
     },
     "execution_count": 33,
     "metadata": {},
     "output_type": "execute_result"
    }
   ],
   "source": [
    "df = pd.DataFrame(scores)\n",
    "df['params'] = parameters\n",
    "df.columns=['scores', 'params']\n",
    "\n",
    "df.sort_values(by = 'scores', ascending=False).reset_index(drop=True)"
   ]
  },
  {
   "cell_type": "markdown",
   "metadata": {},
   "source": [
    "### 4. XGB Classifier"
   ]
  },
  {
   "cell_type": "code",
   "execution_count": 34,
   "metadata": {},
   "outputs": [],
   "source": [
    "# find an optimal number of estimators \n",
    "n_est = []\n",
    "scores = []\n",
    "\n",
    "for value in [100, 500, 700, 1000]:\n",
    "    xgb = XGBClassifier(n_jobs = -1,  \n",
    "                        n_estimators = value, \n",
    "                        booster= 'gbtree')\n",
    "    score = np.mean(cross_val_score(xgb, \n",
    "                                    X_train_lsa, \n",
    "                                    y_train, \n",
    "                                    n_jobs=-1, \n",
    "                                    scoring='roc_auc'\n",
    "                                   ))\n",
    "    scores.append(score)\n",
    "    n_est.append(value)"
   ]
  },
  {
   "cell_type": "code",
   "execution_count": 35,
   "metadata": {},
   "outputs": [
    {
     "data": {
      "text/html": [
       "<div>\n",
       "<style scoped>\n",
       "    .dataframe tbody tr th:only-of-type {\n",
       "        vertical-align: middle;\n",
       "    }\n",
       "\n",
       "    .dataframe tbody tr th {\n",
       "        vertical-align: top;\n",
       "    }\n",
       "\n",
       "    .dataframe thead th {\n",
       "        text-align: right;\n",
       "    }\n",
       "</style>\n",
       "<table border=\"1\" class=\"dataframe\">\n",
       "  <thead>\n",
       "    <tr style=\"text-align: right;\">\n",
       "      <th></th>\n",
       "      <th>scores</th>\n",
       "      <th>n_est</th>\n",
       "    </tr>\n",
       "  </thead>\n",
       "  <tbody>\n",
       "    <tr>\n",
       "      <th>1</th>\n",
       "      <td>0.953927</td>\n",
       "      <td>500</td>\n",
       "    </tr>\n",
       "    <tr>\n",
       "      <th>2</th>\n",
       "      <td>0.953927</td>\n",
       "      <td>700</td>\n",
       "    </tr>\n",
       "    <tr>\n",
       "      <th>3</th>\n",
       "      <td>0.953927</td>\n",
       "      <td>1000</td>\n",
       "    </tr>\n",
       "    <tr>\n",
       "      <th>0</th>\n",
       "      <td>0.949694</td>\n",
       "      <td>100</td>\n",
       "    </tr>\n",
       "  </tbody>\n",
       "</table>\n",
       "</div>"
      ],
      "text/plain": [
       "     scores  n_est\n",
       "1  0.953927    500\n",
       "2  0.953927    700\n",
       "3  0.953927   1000\n",
       "0  0.949694    100"
      ]
     },
     "execution_count": 35,
     "metadata": {},
     "output_type": "execute_result"
    }
   ],
   "source": [
    "df_xgb = pd.DataFrame(scores, columns = ['scores'])\n",
    "df_xgb['n_est'] = n_est\n",
    "df_xgb.sort_values(by=['scores'], ascending=False)"
   ]
  },
  {
   "cell_type": "code",
   "execution_count": 36,
   "metadata": {},
   "outputs": [],
   "source": [
    "# find the perfect depth of a tree\n",
    "\n",
    "max_depth = []\n",
    "scores = []\n",
    "\n",
    "for value in [2, 4, 6, 8]:\n",
    "    xgb = XGBClassifier(n_jobs = -1,  \n",
    "                        n_estimators = 500, \n",
    "                        booster= 'gbtree',\n",
    "                        max_depth = value)\n",
    "    score = np.mean(cross_val_score(xgb, \n",
    "                                    X_train_lsa, \n",
    "                                    y_train, \n",
    "                                    n_jobs=-1,\n",
    "                                    scoring='roc_auc'))\n",
    "    scores.append(score)\n",
    "    max_depth.append(value)"
   ]
  },
  {
   "cell_type": "code",
   "execution_count": 37,
   "metadata": {},
   "outputs": [
    {
     "data": {
      "text/html": [
       "<div>\n",
       "<style scoped>\n",
       "    .dataframe tbody tr th:only-of-type {\n",
       "        vertical-align: middle;\n",
       "    }\n",
       "\n",
       "    .dataframe tbody tr th {\n",
       "        vertical-align: top;\n",
       "    }\n",
       "\n",
       "    .dataframe thead th {\n",
       "        text-align: right;\n",
       "    }\n",
       "</style>\n",
       "<table border=\"1\" class=\"dataframe\">\n",
       "  <thead>\n",
       "    <tr style=\"text-align: right;\">\n",
       "      <th></th>\n",
       "      <th>scores</th>\n",
       "      <th>max_depth</th>\n",
       "    </tr>\n",
       "  </thead>\n",
       "  <tbody>\n",
       "    <tr>\n",
       "      <th>0</th>\n",
       "      <td>0.954051</td>\n",
       "      <td>2</td>\n",
       "    </tr>\n",
       "    <tr>\n",
       "      <th>2</th>\n",
       "      <td>0.945622</td>\n",
       "      <td>6</td>\n",
       "    </tr>\n",
       "    <tr>\n",
       "      <th>3</th>\n",
       "      <td>0.945501</td>\n",
       "      <td>8</td>\n",
       "    </tr>\n",
       "    <tr>\n",
       "      <th>1</th>\n",
       "      <td>0.944113</td>\n",
       "      <td>4</td>\n",
       "    </tr>\n",
       "  </tbody>\n",
       "</table>\n",
       "</div>"
      ],
      "text/plain": [
       "     scores  max_depth\n",
       "0  0.954051          2\n",
       "2  0.945622          6\n",
       "3  0.945501          8\n",
       "1  0.944113          4"
      ]
     },
     "execution_count": 37,
     "metadata": {},
     "output_type": "execute_result"
    }
   ],
   "source": [
    "df_xgb = pd.DataFrame(scores, columns = ['scores'])\n",
    "df_xgb['max_depth'] = max_depth\n",
    "df_xgb.sort_values(by=['scores'], ascending=False)"
   ]
  },
  {
   "cell_type": "code",
   "execution_count": 38,
   "metadata": {},
   "outputs": [],
   "source": [
    "# find the optimal learning rate\n",
    "\n",
    "learning_rates = []\n",
    "scores = []\n",
    "\n",
    "for value in [0.5, 0.1, 0.01]:\n",
    "    xgb = XGBClassifier(n_jobs = -1,  \n",
    "                        n_estimators = 500, \n",
    "                        booster= 'gbtree',\n",
    "                        max_depth = 2,\n",
    "                       learning_rate = value)\n",
    "    score = np.mean(cross_val_score(xgb, \n",
    "                                    X_train_lsa, \n",
    "                                    y_train, \n",
    "                                    n_jobs=-1,\n",
    "                                    scoring='roc_auc'))\n",
    "    scores.append(score)\n",
    "    learning_rates.append(value)"
   ]
  },
  {
   "cell_type": "code",
   "execution_count": 39,
   "metadata": {},
   "outputs": [
    {
     "data": {
      "text/html": [
       "<div>\n",
       "<style scoped>\n",
       "    .dataframe tbody tr th:only-of-type {\n",
       "        vertical-align: middle;\n",
       "    }\n",
       "\n",
       "    .dataframe tbody tr th {\n",
       "        vertical-align: top;\n",
       "    }\n",
       "\n",
       "    .dataframe thead th {\n",
       "        text-align: right;\n",
       "    }\n",
       "</style>\n",
       "<table border=\"1\" class=\"dataframe\">\n",
       "  <thead>\n",
       "    <tr style=\"text-align: right;\">\n",
       "      <th></th>\n",
       "      <th>scores</th>\n",
       "      <th>learning_rate</th>\n",
       "    </tr>\n",
       "  </thead>\n",
       "  <tbody>\n",
       "    <tr>\n",
       "      <th>1</th>\n",
       "      <td>0.954051</td>\n",
       "      <td>0.10</td>\n",
       "    </tr>\n",
       "    <tr>\n",
       "      <th>0</th>\n",
       "      <td>0.946036</td>\n",
       "      <td>0.50</td>\n",
       "    </tr>\n",
       "    <tr>\n",
       "      <th>2</th>\n",
       "      <td>0.942745</td>\n",
       "      <td>0.01</td>\n",
       "    </tr>\n",
       "  </tbody>\n",
       "</table>\n",
       "</div>"
      ],
      "text/plain": [
       "     scores  learning_rate\n",
       "1  0.954051           0.10\n",
       "0  0.946036           0.50\n",
       "2  0.942745           0.01"
      ]
     },
     "execution_count": 39,
     "metadata": {},
     "output_type": "execute_result"
    }
   ],
   "source": [
    "df_xgb = pd.DataFrame(scores, columns = ['scores'])\n",
    "df_xgb['learning_rate'] = learning_rates\n",
    "df_xgb.sort_values(by=['scores'], ascending=False)"
   ]
  },
  {
   "cell_type": "markdown",
   "metadata": {},
   "source": [
    "### 5. Support Vector Machine Classifier"
   ]
  },
  {
   "cell_type": "code",
   "execution_count": 41,
   "metadata": {},
   "outputs": [],
   "source": [
    "# fine-tune the C value\n",
    "scores = []\n",
    "Cs = []\n",
    "for value in [0.001, 0.01, 0.1, 1, 10, 20, 1e2, 1e3,1e4 ]:\n",
    "    svc = SVC(C=value, gamma='auto')\n",
    "    score = np.mean(cross_val_score(svc, \n",
    "                                    X_train_lsa, \n",
    "                                    y_train,\n",
    "                                    scoring='roc_auc'\n",
    "                                    ))\n",
    "    scores.append(score)\n",
    "    Cs.append(value)"
   ]
  },
  {
   "cell_type": "code",
   "execution_count": 42,
   "metadata": {},
   "outputs": [
    {
     "data": {
      "text/html": [
       "<div>\n",
       "<style scoped>\n",
       "    .dataframe tbody tr th:only-of-type {\n",
       "        vertical-align: middle;\n",
       "    }\n",
       "\n",
       "    .dataframe tbody tr th {\n",
       "        vertical-align: top;\n",
       "    }\n",
       "\n",
       "    .dataframe thead th {\n",
       "        text-align: right;\n",
       "    }\n",
       "</style>\n",
       "<table border=\"1\" class=\"dataframe\">\n",
       "  <thead>\n",
       "    <tr style=\"text-align: right;\">\n",
       "      <th></th>\n",
       "      <th>scores</th>\n",
       "      <th>Cs</th>\n",
       "    </tr>\n",
       "  </thead>\n",
       "  <tbody>\n",
       "    <tr>\n",
       "      <th>0</th>\n",
       "      <td>0.979470</td>\n",
       "      <td>100.000</td>\n",
       "    </tr>\n",
       "    <tr>\n",
       "      <th>1</th>\n",
       "      <td>0.979131</td>\n",
       "      <td>10.000</td>\n",
       "    </tr>\n",
       "    <tr>\n",
       "      <th>2</th>\n",
       "      <td>0.979009</td>\n",
       "      <td>20.000</td>\n",
       "    </tr>\n",
       "    <tr>\n",
       "      <th>3</th>\n",
       "      <td>0.978890</td>\n",
       "      <td>1.000</td>\n",
       "    </tr>\n",
       "    <tr>\n",
       "      <th>4</th>\n",
       "      <td>0.976158</td>\n",
       "      <td>1000.000</td>\n",
       "    </tr>\n",
       "    <tr>\n",
       "      <th>5</th>\n",
       "      <td>0.976158</td>\n",
       "      <td>10000.000</td>\n",
       "    </tr>\n",
       "    <tr>\n",
       "      <th>6</th>\n",
       "      <td>0.973248</td>\n",
       "      <td>0.100</td>\n",
       "    </tr>\n",
       "    <tr>\n",
       "      <th>7</th>\n",
       "      <td>0.959642</td>\n",
       "      <td>0.001</td>\n",
       "    </tr>\n",
       "    <tr>\n",
       "      <th>8</th>\n",
       "      <td>0.957002</td>\n",
       "      <td>0.010</td>\n",
       "    </tr>\n",
       "  </tbody>\n",
       "</table>\n",
       "</div>"
      ],
      "text/plain": [
       "     scores         Cs\n",
       "0  0.979470    100.000\n",
       "1  0.979131     10.000\n",
       "2  0.979009     20.000\n",
       "3  0.978890      1.000\n",
       "4  0.976158   1000.000\n",
       "5  0.976158  10000.000\n",
       "6  0.973248      0.100\n",
       "7  0.959642      0.001\n",
       "8  0.957002      0.010"
      ]
     },
     "execution_count": 42,
     "metadata": {},
     "output_type": "execute_result"
    }
   ],
   "source": [
    "df  =  pd.DataFrame(scores)\n",
    "df['Cs'] = Cs\n",
    "df.columns=['scores', 'Cs']\n",
    "\n",
    "df.sort_values(by = 'scores', ascending=False).reset_index(drop=True)"
   ]
  },
  {
   "cell_type": "code",
   "execution_count": 43,
   "metadata": {},
   "outputs": [],
   "source": [
    "# fine-tune the gamma\n",
    "scores = []\n",
    "gammas = []\n",
    "for value in [0.001, 0.01, 0.1, 1, 'auto']:\n",
    "    svc = SVC(C=1e2, gamma=value)\n",
    "    score = np.mean(cross_val_score(svc, X_train_lsa, y_train, scoring='roc_auc'))\n",
    "    scores.append(score)\n",
    "    gammas.append(value)"
   ]
  },
  {
   "cell_type": "code",
   "execution_count": 44,
   "metadata": {},
   "outputs": [
    {
     "data": {
      "text/html": [
       "<div>\n",
       "<style scoped>\n",
       "    .dataframe tbody tr th:only-of-type {\n",
       "        vertical-align: middle;\n",
       "    }\n",
       "\n",
       "    .dataframe tbody tr th {\n",
       "        vertical-align: top;\n",
       "    }\n",
       "\n",
       "    .dataframe thead th {\n",
       "        text-align: right;\n",
       "    }\n",
       "</style>\n",
       "<table border=\"1\" class=\"dataframe\">\n",
       "  <thead>\n",
       "    <tr style=\"text-align: right;\">\n",
       "      <th></th>\n",
       "      <th>scores</th>\n",
       "      <th>gammas</th>\n",
       "    </tr>\n",
       "  </thead>\n",
       "  <tbody>\n",
       "    <tr>\n",
       "      <th>0</th>\n",
       "      <td>0.980492</td>\n",
       "      <td>1</td>\n",
       "    </tr>\n",
       "    <tr>\n",
       "      <th>1</th>\n",
       "      <td>0.979605</td>\n",
       "      <td>0.01</td>\n",
       "    </tr>\n",
       "    <tr>\n",
       "      <th>2</th>\n",
       "      <td>0.979470</td>\n",
       "      <td>auto</td>\n",
       "    </tr>\n",
       "    <tr>\n",
       "      <th>3</th>\n",
       "      <td>0.979131</td>\n",
       "      <td>0.001</td>\n",
       "    </tr>\n",
       "    <tr>\n",
       "      <th>4</th>\n",
       "      <td>0.978926</td>\n",
       "      <td>0.1</td>\n",
       "    </tr>\n",
       "  </tbody>\n",
       "</table>\n",
       "</div>"
      ],
      "text/plain": [
       "     scores gammas\n",
       "0  0.980492      1\n",
       "1  0.979605   0.01\n",
       "2  0.979470   auto\n",
       "3  0.979131  0.001\n",
       "4  0.978926    0.1"
      ]
     },
     "execution_count": 44,
     "metadata": {},
     "output_type": "execute_result"
    }
   ],
   "source": [
    "df  =  pd.DataFrame(scores)\n",
    "df['gammas'] = gammas\n",
    "df.columns=['scores', 'gammas']\n",
    "\n",
    "df.sort_values(by = 'scores', ascending=False).reset_index(drop=True)"
   ]
  },
  {
   "cell_type": "markdown",
   "metadata": {},
   "source": [
    "# Validation On The Test Set"
   ]
  },
  {
   "cell_type": "markdown",
   "metadata": {},
   "source": [
    "Now it is time for us evaluate our fine-tuned models on the test set. This will help us decide which algorithms are performing the best."
   ]
  },
  {
   "cell_type": "code",
   "execution_count": 45,
   "metadata": {},
   "outputs": [],
   "source": [
    "# repeat the processing for our test set (apply the same function we used for the training set)\n",
    "X_test_processed = processor(X_test, 'content')"
   ]
  },
  {
   "cell_type": "code",
   "execution_count": 46,
   "metadata": {},
   "outputs": [],
   "source": [
    "# applying the vectorizer to the test set (this time we use 'transform')\n",
    "X_test_tfidf=vectorizer.transform(X_test_processed)"
   ]
  },
  {
   "cell_type": "code",
   "execution_count": 47,
   "metadata": {},
   "outputs": [],
   "source": [
    "# creation of lsa components by applying SVD and the Normalizer (once again we use transform)\n",
    "X_test_lsa = lsa.transform(X_test_tfidf)"
   ]
  },
  {
   "cell_type": "markdown",
   "metadata": {},
   "source": [
    "### 1. Logistic Regression (Ridge Normalization)"
   ]
  },
  {
   "cell_type": "code",
   "execution_count": 48,
   "metadata": {},
   "outputs": [
    {
     "name": "stdout",
     "output_type": "stream",
     "text": [
      "0.9730128610584018\n"
     ]
    }
   ],
   "source": [
    "from sklearn.metrics import roc_auc_score\n",
    "\n",
    "# initialize the fine-tuned model\n",
    "lr_test = LogisticRegression(C=1e2)\n",
    "\n",
    "#fit the model to the training set\n",
    "lr_test.fit(X_train_lsa, y_train) \n",
    "\n",
    "# predict the test set values and calculate roc_auc scores\n",
    "print(roc_auc_score(y_test, lr_test.predict_proba(X_test_lsa)[:, 1]))"
   ]
  },
  {
   "cell_type": "markdown",
   "metadata": {},
   "source": [
    "### 2. Random Forest Classifier"
   ]
  },
  {
   "cell_type": "code",
   "execution_count": 49,
   "metadata": {},
   "outputs": [
    {
     "name": "stdout",
     "output_type": "stream",
     "text": [
      "0.9525616698292221\n"
     ]
    }
   ],
   "source": [
    "# initialize the fine-tuned random forest model\n",
    "rfc_test = RandomForestClassifier(n_jobs = -1, \n",
    "                            n_estimators = 1500, \n",
    "                            max_depth = 50)\n",
    "# fit the model to the training set\n",
    "rfc_test.fit(X_train_lsa, y_train) \n",
    "\n",
    "# predict the test set values and calculate roc_auc scores\n",
    "print(roc_auc_score(y_test, rfc_test.predict_proba(X_test_lsa)[:, 1]))"
   ]
  },
  {
   "cell_type": "markdown",
   "metadata": {},
   "source": [
    "### 3. Gradient Boosting"
   ]
  },
  {
   "cell_type": "code",
   "execution_count": 50,
   "metadata": {},
   "outputs": [
    {
     "name": "stdout",
     "output_type": "stream",
     "text": [
      "0.9331646637149483\n"
     ]
    }
   ],
   "source": [
    "# initialize the fine-tuned gradient boosting classifier\n",
    "gbc_test = GradientBoostingClassifier(loss = 'deviance',\n",
    "                                    n_estimators = 500,\n",
    "                                    max_depth = 4)\n",
    "\n",
    "# fit the model to the training set\n",
    "gbc_test.fit(X_train_lsa, y_train) \n",
    "\n",
    "# predict the test set values and calculate roc_auc scores\n",
    "print(roc_auc_score(y_test, gbc_test.predict_proba(X_test_lsa)[:, 1]))"
   ]
  },
  {
   "cell_type": "markdown",
   "metadata": {},
   "source": [
    "### 4. XGBoost"
   ]
  },
  {
   "cell_type": "code",
   "execution_count": 51,
   "metadata": {},
   "outputs": [
    {
     "name": "stdout",
     "output_type": "stream",
     "text": [
      "0.9243095087497364\n"
     ]
    }
   ],
   "source": [
    "xgb_test = XGBClassifier(n_jobs = -1,  \n",
    "                        n_estimators = 500, \n",
    "                        booster= 'gbtree',\n",
    "                        max_depth = 2,\n",
    "                        learning_rate = 0.1)\n",
    "# fit the model to the training set\n",
    "xgb_test.fit(X_train_lsa, y_train)\n",
    "\n",
    "# predict the test set values and calculate roc_auc scores\n",
    "print(roc_auc_score(y_test, xgb_test.predict_proba(X_test_lsa)[:, 1]))"
   ]
  },
  {
   "cell_type": "markdown",
   "metadata": {},
   "source": [
    "### 5. Support Vector Machine Classifier"
   ]
  },
  {
   "cell_type": "code",
   "execution_count": 52,
   "metadata": {},
   "outputs": [
    {
     "name": "stdout",
     "output_type": "stream",
     "text": [
      "0.9778621125869703\n"
     ]
    }
   ],
   "source": [
    "# initialize the fine-tuned svm classifier\n",
    "svc_test = SVC(C=1e2, gamma=1, probability=True)\n",
    "\n",
    "# fit the model to the training set\n",
    "svc_test.fit(X_train_lsa, y_train) \n",
    "\n",
    "# predict the test set values and calculate roc_auc scores\n",
    "print(roc_auc_score(y_test, svc_test.predict_proba(X_test_lsa)[:, 1]))"
   ]
  },
  {
   "cell_type": "markdown",
   "metadata": {},
   "source": [
    "The results our models' performance stand as follows:\n",
    "\n",
    "| Models    |Training Set |Test Set|\n",
    "|-----------|---|---|\n",
    "| Logistic Regression (Ridge)     | 0.9825| 0.9726 | \n",
    "| Random Forest   | 0.9621| 0.9526 | \n",
    "| Gradient Boosting  | 0.9391 | 0.9332 | \n",
    "| XGB    | 0.9541 | 0.9243 | \n",
    "| SVM    | 0.980 | 0.9779| \n",
    "\n",
    "The Logistic Regression with Ridge Normalization and Support Vector Machine Classifer are the top performers. Their test set roc_auc scores were over 97%."
   ]
  },
  {
   "cell_type": "markdown",
   "metadata": {},
   "source": [
    "# Task B. Alternative Feature Generation: word2vec"
   ]
  },
  {
   "cell_type": "markdown",
   "metadata": {},
   "source": [
    "So far, we used the features which were generated from the application of LSA to the tf_idf term-document matrix. We can also try to use an alternative method of feature generation: **word2vec model**. Word2vec is a shallow unsupervised neural network that converts each word into a vector: each word is represented by many neurons and each neuron is involved in representing many words (e.g. one of the aspects of the word 'queen' is the female gender but at the same time the female gender can characterize other words such as 'girl', 'lady' etc.).  Vectors of the words that frequently appear in the same context would end up closer to one another. Proximity, therefore, means proximity of context.\n",
    "\n",
    "The model creates a vector for each individual word but what we need as an input for our superivsed learning models is one feature vector for each document / poem. One possible solution to this problem is to calculate the sum of the individual word vectors from a poem to arrive at the resultant vector. This is what we will do for our analysis. From the very start, we need to admit the limitions of applying this model to our corpus: in general, word2vec model works the best with a very large corpus. Our corpus is very limited (only 478 texts)."
   ]
  },
  {
   "cell_type": "markdown",
   "metadata": {},
   "source": [
    "# I. Poem Preprocessing"
   ]
  },
  {
   "cell_type": "code",
   "execution_count": 53,
   "metadata": {},
   "outputs": [],
   "source": [
    "# Create a transformation function for our current X_train set which we need to convert\n",
    "# to a different format in order to use word2vec\n",
    "# so far we have one string for an entire poem but we need each word to be a separate string\n",
    "\n",
    "def parser(document): \n",
    "    doc = nlp(document)\n",
    "    test_list = []\n",
    "    for entry in doc:\n",
    "        if (\n",
    "            not entry.is_punct\n",
    "        and not entry.is_stop):\n",
    "            test_list.append(str(entry.lemma_))\n",
    "    return test_list"
   ]
  },
  {
   "cell_type": "code",
   "execution_count": 54,
   "metadata": {},
   "outputs": [],
   "source": [
    "# apply the parser function to each poem in our dataset and save the result in X_mod which now contains \n",
    "# the same text but with each word (lemma) as a separate string\n",
    "\n",
    "X_mod = []\n",
    "for entry in X_train['content']:\n",
    "    result = parser(entry)\n",
    "    X_mod.append(result)"
   ]
  },
  {
   "cell_type": "code",
   "execution_count": 55,
   "metadata": {},
   "outputs": [
    {
     "data": {
      "text/plain": [
       "334"
      ]
     },
     "execution_count": 55,
     "metadata": {},
     "output_type": "execute_result"
    }
   ],
   "source": [
    "len(X_train['content'])"
   ]
  },
  {
   "cell_type": "code",
   "execution_count": 56,
   "metadata": {},
   "outputs": [
    {
     "data": {
      "text/plain": [
       "334"
      ]
     },
     "execution_count": 56,
     "metadata": {},
     "output_type": "execute_result"
    }
   ],
   "source": [
    "len(X_mod)"
   ]
  },
  {
   "cell_type": "markdown",
   "metadata": {},
   "source": [
    "# II. Application of The Word2Vec Model for Feature Generation"
   ]
  },
  {
   "cell_type": "code",
   "execution_count": 57,
   "metadata": {},
   "outputs": [
    {
     "name": "stdout",
     "output_type": "stream",
     "text": [
      "done!\n"
     ]
    }
   ],
   "source": [
    "# import the word2vec model in gensim implementation\n",
    "\n",
    "import gensim\n",
    "from gensim.models import word2vec\n",
    "\n",
    "# model parameters picked via experimentation with the cross_val_score on the training set\n",
    "\n",
    "model = word2vec.Word2Vec(\n",
    "    X_mod,\n",
    "    workers=4,     \n",
    "    min_count=5,   # Minimum word count threshold.\n",
    "    window=40,      # Number of words around target word to consider.\n",
    "    sg=0,          # Use CBOW because our corpus is small.\n",
    "    sample=1e-1 ,  # Penalize frequent words.\n",
    "    size=300,      # Word vector length.\n",
    "    hs=1           # Use hierarchical softmax.\n",
    ")\n",
    "\n",
    "print('done!')"
   ]
  },
  {
   "cell_type": "code",
   "execution_count": 58,
   "metadata": {},
   "outputs": [
    {
     "name": "stdout",
     "output_type": "stream",
     "text": [
      "1419\n"
     ]
    }
   ],
   "source": [
    "# check the size of our vocabulary\n",
    "vocab = model.wv.vocab.keys()\n",
    "print(len(vocab))"
   ]
  },
  {
   "cell_type": "code",
   "execution_count": 59,
   "metadata": {},
   "outputs": [],
   "source": [
    "# import the normalize function \n",
    "from sklearn.preprocessing import normalize\n",
    "\n",
    "\n",
    "# create a function to add up all the individual word vectors to arrive at the resultant text / poem vector\n",
    "\n",
    "def result_vector(sentence):\n",
    "    result = np.zeros(300)\n",
    "    for word in sentence:\n",
    "        if word in vocab:\n",
    "            result+=model.wv[word]\n",
    "    result = normalize(result.reshape(1, -1)).flatten()        # normalize to avoid any adverse effect of poem length\n",
    "    return result"
   ]
  },
  {
   "cell_type": "code",
   "execution_count": 60,
   "metadata": {},
   "outputs": [],
   "source": [
    "# apply the summative function and append all the resultant vectors into X_fin\n",
    "\n",
    "X_fin = []\n",
    "for sent in X_mod:\n",
    "        vec = result_vector(sent)\n",
    "        X_fin.append(vec)"
   ]
  },
  {
   "cell_type": "code",
   "execution_count": 61,
   "metadata": {},
   "outputs": [
    {
     "data": {
      "text/plain": [
       "334"
      ]
     },
     "execution_count": 61,
     "metadata": {},
     "output_type": "execute_result"
    }
   ],
   "source": [
    "len(X_fin)"
   ]
  },
  {
   "cell_type": "markdown",
   "metadata": {},
   "source": [
    "# IV. Application of the Machine Learning Algorithms"
   ]
  },
  {
   "cell_type": "markdown",
   "metadata": {},
   "source": [
    "We will use the following algorithms to predict the time period of a poem:\n",
    "\n",
    "1. Logistic Regression with Lasso normalization\n",
    "2. Support Vector Machine Classifier\n",
    "\n",
    "Once again we will evaluate the algorithms' performance based on the roc_auc scores. "
   ]
  },
  {
   "cell_type": "markdown",
   "metadata": {},
   "source": [
    "## Cross-Validation on the Training Set"
   ]
  },
  {
   "cell_type": "markdown",
   "metadata": {},
   "source": [
    "### 1. Logistic Regression: Lasso Regularization"
   ]
  },
  {
   "cell_type": "markdown",
   "metadata": {},
   "source": [
    "Note: Ridge regularization was attempted for this problem but it consistently had lower roc_auc scores than lasso regularization. It was excluded from the final version of the notebook."
   ]
  },
  {
   "cell_type": "code",
   "execution_count": 62,
   "metadata": {},
   "outputs": [],
   "source": [
    "scores = []\n",
    "Cs = []\n",
    "for value in [0.01,0.1,1,10,100, 1e6]:\n",
    "    lr = LogisticRegression(C=value, penalty='l1', max_iter = 200)\n",
    "    score = np.mean(cross_val_score(lr, \n",
    "                                    X_fin, \n",
    "                                    y_train,\n",
    "                                    scoring='roc_auc'))\n",
    "    scores.append(score)\n",
    "    Cs.append(value)"
   ]
  },
  {
   "cell_type": "code",
   "execution_count": 63,
   "metadata": {},
   "outputs": [
    {
     "data": {
      "text/html": [
       "<div>\n",
       "<style scoped>\n",
       "    .dataframe tbody tr th:only-of-type {\n",
       "        vertical-align: middle;\n",
       "    }\n",
       "\n",
       "    .dataframe tbody tr th {\n",
       "        vertical-align: top;\n",
       "    }\n",
       "\n",
       "    .dataframe thead th {\n",
       "        text-align: right;\n",
       "    }\n",
       "</style>\n",
       "<table border=\"1\" class=\"dataframe\">\n",
       "  <thead>\n",
       "    <tr style=\"text-align: right;\">\n",
       "      <th></th>\n",
       "      <th>scores</th>\n",
       "      <th>Cs</th>\n",
       "    </tr>\n",
       "  </thead>\n",
       "  <tbody>\n",
       "    <tr>\n",
       "      <th>0</th>\n",
       "      <td>0.927617</td>\n",
       "      <td>1000000.00</td>\n",
       "    </tr>\n",
       "    <tr>\n",
       "      <th>1</th>\n",
       "      <td>0.906988</td>\n",
       "      <td>100.00</td>\n",
       "    </tr>\n",
       "    <tr>\n",
       "      <th>2</th>\n",
       "      <td>0.893148</td>\n",
       "      <td>10.00</td>\n",
       "    </tr>\n",
       "    <tr>\n",
       "      <th>3</th>\n",
       "      <td>0.869107</td>\n",
       "      <td>1.00</td>\n",
       "    </tr>\n",
       "    <tr>\n",
       "      <th>4</th>\n",
       "      <td>0.500000</td>\n",
       "      <td>0.01</td>\n",
       "    </tr>\n",
       "    <tr>\n",
       "      <th>5</th>\n",
       "      <td>0.500000</td>\n",
       "      <td>0.10</td>\n",
       "    </tr>\n",
       "  </tbody>\n",
       "</table>\n",
       "</div>"
      ],
      "text/plain": [
       "     scores          Cs\n",
       "0  0.927617  1000000.00\n",
       "1  0.906988      100.00\n",
       "2  0.893148       10.00\n",
       "3  0.869107        1.00\n",
       "4  0.500000        0.01\n",
       "5  0.500000        0.10"
      ]
     },
     "execution_count": 63,
     "metadata": {},
     "output_type": "execute_result"
    }
   ],
   "source": [
    "df  =  pd.DataFrame(scores)\n",
    "df['Cs'] = Cs\n",
    "df.columns=['scores', 'Cs']\n",
    "\n",
    "df.sort_values(by = 'scores', ascending=False).reset_index(drop=True)"
   ]
  },
  {
   "cell_type": "markdown",
   "metadata": {},
   "source": [
    "### 2. Support Vector Machine Classifier"
   ]
  },
  {
   "cell_type": "code",
   "execution_count": 65,
   "metadata": {},
   "outputs": [],
   "source": [
    "# fine-tuning the C value\n",
    "scores = []\n",
    "Cs = []\n",
    "for value in [0.001, 0.01, 0.1, 1, 10, 20, 1e2, 1e3,1e4 ]:\n",
    "    svc = SVC(C=value, gamma='auto')\n",
    "    score = np.mean(cross_val_score(svc, \n",
    "                                    X_fin, \n",
    "                                    y_train,\n",
    "                                    scoring='roc_auc'))\n",
    "    scores.append(score)\n",
    "    Cs.append(value)"
   ]
  },
  {
   "cell_type": "code",
   "execution_count": 66,
   "metadata": {},
   "outputs": [
    {
     "data": {
      "text/html": [
       "<div>\n",
       "<style scoped>\n",
       "    .dataframe tbody tr th:only-of-type {\n",
       "        vertical-align: middle;\n",
       "    }\n",
       "\n",
       "    .dataframe tbody tr th {\n",
       "        vertical-align: top;\n",
       "    }\n",
       "\n",
       "    .dataframe thead th {\n",
       "        text-align: right;\n",
       "    }\n",
       "</style>\n",
       "<table border=\"1\" class=\"dataframe\">\n",
       "  <thead>\n",
       "    <tr style=\"text-align: right;\">\n",
       "      <th></th>\n",
       "      <th>scores</th>\n",
       "      <th>Cs</th>\n",
       "    </tr>\n",
       "  </thead>\n",
       "  <tbody>\n",
       "    <tr>\n",
       "      <th>0</th>\n",
       "      <td>0.892984</td>\n",
       "      <td>1000.000</td>\n",
       "    </tr>\n",
       "    <tr>\n",
       "      <th>1</th>\n",
       "      <td>0.891283</td>\n",
       "      <td>10000.000</td>\n",
       "    </tr>\n",
       "    <tr>\n",
       "      <th>2</th>\n",
       "      <td>0.876011</td>\n",
       "      <td>100.000</td>\n",
       "    </tr>\n",
       "    <tr>\n",
       "      <th>3</th>\n",
       "      <td>0.869824</td>\n",
       "      <td>1.000</td>\n",
       "    </tr>\n",
       "    <tr>\n",
       "      <th>4</th>\n",
       "      <td>0.869581</td>\n",
       "      <td>10.000</td>\n",
       "    </tr>\n",
       "    <tr>\n",
       "      <th>5</th>\n",
       "      <td>0.869581</td>\n",
       "      <td>20.000</td>\n",
       "    </tr>\n",
       "    <tr>\n",
       "      <th>6</th>\n",
       "      <td>0.868379</td>\n",
       "      <td>0.100</td>\n",
       "    </tr>\n",
       "    <tr>\n",
       "      <th>7</th>\n",
       "      <td>0.866566</td>\n",
       "      <td>0.001</td>\n",
       "    </tr>\n",
       "    <tr>\n",
       "      <th>8</th>\n",
       "      <td>0.866566</td>\n",
       "      <td>0.010</td>\n",
       "    </tr>\n",
       "  </tbody>\n",
       "</table>\n",
       "</div>"
      ],
      "text/plain": [
       "     scores         Cs\n",
       "0  0.892984   1000.000\n",
       "1  0.891283  10000.000\n",
       "2  0.876011    100.000\n",
       "3  0.869824      1.000\n",
       "4  0.869581     10.000\n",
       "5  0.869581     20.000\n",
       "6  0.868379      0.100\n",
       "7  0.866566      0.001\n",
       "8  0.866566      0.010"
      ]
     },
     "execution_count": 66,
     "metadata": {},
     "output_type": "execute_result"
    }
   ],
   "source": [
    "df  =  pd.DataFrame(scores)\n",
    "df['Cs'] = Cs\n",
    "df.columns=['scores', 'Cs']\n",
    "\n",
    "df.sort_values(by = 'scores', ascending=False).reset_index(drop=True)"
   ]
  },
  {
   "cell_type": "code",
   "execution_count": 67,
   "metadata": {},
   "outputs": [],
   "source": [
    "# fine-tuning the gamma value\n",
    "scores = []\n",
    "gammas = []\n",
    "for value in [0.001, 0.01, 0.1, 1, 'auto']:\n",
    "    svc = SVC(C=1e3, gamma=value)\n",
    "    score = np.mean(cross_val_score(svc, \n",
    "                                    X_fin, \n",
    "                                    y_train, \n",
    "                                    scoring='roc_auc'))\n",
    "    scores.append(score)\n",
    "    gammas.append(value)"
   ]
  },
  {
   "cell_type": "code",
   "execution_count": 68,
   "metadata": {},
   "outputs": [
    {
     "data": {
      "text/html": [
       "<div>\n",
       "<style scoped>\n",
       "    .dataframe tbody tr th:only-of-type {\n",
       "        vertical-align: middle;\n",
       "    }\n",
       "\n",
       "    .dataframe tbody tr th {\n",
       "        vertical-align: top;\n",
       "    }\n",
       "\n",
       "    .dataframe thead th {\n",
       "        text-align: right;\n",
       "    }\n",
       "</style>\n",
       "<table border=\"1\" class=\"dataframe\">\n",
       "  <thead>\n",
       "    <tr style=\"text-align: right;\">\n",
       "      <th></th>\n",
       "      <th>scores</th>\n",
       "      <th>gammas</th>\n",
       "    </tr>\n",
       "  </thead>\n",
       "  <tbody>\n",
       "    <tr>\n",
       "      <th>0</th>\n",
       "      <td>0.892984</td>\n",
       "      <td>auto</td>\n",
       "    </tr>\n",
       "    <tr>\n",
       "      <th>1</th>\n",
       "      <td>0.891463</td>\n",
       "      <td>0.01</td>\n",
       "    </tr>\n",
       "    <tr>\n",
       "      <th>2</th>\n",
       "      <td>0.891309</td>\n",
       "      <td>1</td>\n",
       "    </tr>\n",
       "    <tr>\n",
       "      <th>3</th>\n",
       "      <td>0.888035</td>\n",
       "      <td>0.001</td>\n",
       "    </tr>\n",
       "    <tr>\n",
       "      <th>4</th>\n",
       "      <td>0.883447</td>\n",
       "      <td>0.1</td>\n",
       "    </tr>\n",
       "  </tbody>\n",
       "</table>\n",
       "</div>"
      ],
      "text/plain": [
       "     scores gammas\n",
       "0  0.892984   auto\n",
       "1  0.891463   0.01\n",
       "2  0.891309      1\n",
       "3  0.888035  0.001\n",
       "4  0.883447    0.1"
      ]
     },
     "execution_count": 68,
     "metadata": {},
     "output_type": "execute_result"
    }
   ],
   "source": [
    "df  =  pd.DataFrame(scores)\n",
    "df['gammas'] = gammas\n",
    "df.columns=['scores', 'gammas']\n",
    "\n",
    "df.sort_values(by = 'scores', ascending=False).reset_index(drop=True)"
   ]
  },
  {
   "cell_type": "markdown",
   "metadata": {},
   "source": [
    "## Validation on the Test Set"
   ]
  },
  {
   "cell_type": "code",
   "execution_count": 69,
   "metadata": {},
   "outputs": [],
   "source": [
    "# we need to convert our test set into the appropriate format\n",
    "\n",
    "X_mod_test = []\n",
    "for entry in X_test['content']:\n",
    "    result = parser(entry)\n",
    "    X_mod_test.append(result)"
   ]
  },
  {
   "cell_type": "code",
   "execution_count": 70,
   "metadata": {},
   "outputs": [
    {
     "data": {
      "text/plain": [
       "144"
      ]
     },
     "execution_count": 70,
     "metadata": {},
     "output_type": "execute_result"
    }
   ],
   "source": [
    "len(X_test)"
   ]
  },
  {
   "cell_type": "code",
   "execution_count": 71,
   "metadata": {},
   "outputs": [
    {
     "data": {
      "text/plain": [
       "144"
      ]
     },
     "execution_count": 71,
     "metadata": {},
     "output_type": "execute_result"
    }
   ],
   "source": [
    "len(X_mod_test)"
   ]
  },
  {
   "cell_type": "code",
   "execution_count": 72,
   "metadata": {},
   "outputs": [],
   "source": [
    "# apply the summative function to the test set and append all the resultant vectors into X_fin_test\n",
    "X_fin_test = []\n",
    "for sent in X_mod_test:\n",
    "    vec = result_vector(sent)\n",
    "    X_fin_test.append(vec)"
   ]
  },
  {
   "cell_type": "markdown",
   "metadata": {},
   "source": [
    "### 1. Lasso"
   ]
  },
  {
   "cell_type": "code",
   "execution_count": 73,
   "metadata": {},
   "outputs": [
    {
     "name": "stdout",
     "output_type": "stream",
     "text": [
      "0.9576217583807717\n"
     ]
    }
   ],
   "source": [
    "# test set validation of our lasso model\n",
    "\n",
    "lr_test = LogisticRegression(C=1e6, penalty='l1', max_iter = 200)\n",
    "\n",
    "lr_test.fit(X_fin, y_train)\n",
    "print(roc_auc_score(y_test, lr_test.predict_proba(X_fin_test)[:, 1]))"
   ]
  },
  {
   "cell_type": "markdown",
   "metadata": {},
   "source": [
    "### 2. Support Vector Machine Classifier"
   ]
  },
  {
   "cell_type": "code",
   "execution_count": 74,
   "metadata": {},
   "outputs": [
    {
     "name": "stdout",
     "output_type": "stream",
     "text": [
      "0.8690702087286528\n"
     ]
    }
   ],
   "source": [
    "svc_test = SVC(C=1e3, gamma='auto', probability=True)\n",
    "\n",
    "svc_test.fit(X_fin, y_train) \n",
    "\n",
    "print(roc_auc_score(y_test, svc_test.predict_proba(X_fin_test)[:, 1]))"
   ]
  },
  {
   "cell_type": "markdown",
   "metadata": {},
   "source": [
    "Performance of the models with word2vec features:\n",
    "\n",
    "| Models    |Training Set |Test Set|\n",
    "|-----------|---|---|\n",
    "| Logistic Regression (Lasso)     | 0.9277| 0.9576 | \n",
    "| SVM    | 0.893 | 0.8691| \n"
   ]
  },
  {
   "cell_type": "markdown",
   "metadata": {},
   "source": [
    "Our word2vec model did not perform the best which was to be expected. For this kind of model to work well, we would need a much larger corpus of texts: in our case we only had 573 samples. Using a pretrained model, e.g. Google's, might not be the greatest idea since our corpus contains a very specific vocabulary with a large portion of works dating back to the Renaissance."
   ]
  },
  {
   "cell_type": "markdown",
   "metadata": {},
   "source": [
    "# TASK C. Identification of 'Love' Poems"
   ]
  },
  {
   "cell_type": "markdown",
   "metadata": {},
   "source": [
    "Another task we would like to tackle is to be able to classify poems into two classes: love vs. non-love poems. To accomplish this, we will, first, combine all nature and folklore poems into one class (non-love). We will use the tf_idf lsa features since this approach proved to be more effective than word2vec for this particular data set. We will use the same metric roc_auc score to evaluate our models' performance."
   ]
  },
  {
   "cell_type": "code",
   "execution_count": 75,
   "metadata": {},
   "outputs": [],
   "source": [
    "# since we know we are dealing with class imbalance, it is best to convert type into binary features: love vs. not love\n",
    "poetry['type'] = np.where(poetry['type'] == 'Love', 1, 0)"
   ]
  },
  {
   "cell_type": "code",
   "execution_count": 76,
   "metadata": {},
   "outputs": [
    {
     "data": {
      "text/plain": [
       "1    298\n",
       "0    180\n",
       "Name: type, dtype: int64"
      ]
     },
     "execution_count": 76,
     "metadata": {},
     "output_type": "execute_result"
    }
   ],
   "source": [
    "# We are dealing with imbalanced classes, with love poems dominating the data set. However, previous attempts showed\n",
    "# that neigher oversampling nor undersampling works well for type prediction. \n",
    "\n",
    "poetry.type.value_counts()"
   ]
  },
  {
   "cell_type": "code",
   "execution_count": 77,
   "metadata": {},
   "outputs": [
    {
     "data": {
      "image/png": "[encoded data removed]",
      "text/plain": [
       "<Figure size 1224x360 with 1 Axes>"
      ]
     },
     "metadata": {},
     "output_type": "display_data"
    }
   ],
   "source": [
    "# plot the poems by type\n",
    "\n",
    "plt.figure(figsize=(17,5))\n",
    "\n",
    "sns.countplot(x=poetry['type'])\n",
    "plt.title('Non-Love vs. Love Poems')\n",
    "plt.show()\n"
   ]
  },
  {
   "cell_type": "markdown",
   "metadata": {},
   "source": [
    "# I. Splitting the Data Set Into Training and Test Sets"
   ]
  },
  {
   "cell_type": "code",
   "execution_count": 78,
   "metadata": {},
   "outputs": [
    {
     "data": {
      "text/plain": [
       "334"
      ]
     },
     "execution_count": 78,
     "metadata": {},
     "output_type": "execute_result"
    }
   ],
   "source": [
    "X_type = poetry[['content']]\n",
    "y_type = poetry['type'] # this time we are predicting the type, not the age\n",
    "\n",
    "X_train_type, X_test_type, y_train_type, y_test_type = train_test_split(X_type, y_type, test_size=0.3, random_state=0)\n",
    "\n",
    "len(X_train_type)"
   ]
  },
  {
   "cell_type": "code",
   "execution_count": 79,
   "metadata": {},
   "outputs": [
    {
     "data": {
      "text/plain": [
       "1    217\n",
       "0    117\n",
       "Name: type, dtype: int64"
      ]
     },
     "execution_count": 79,
     "metadata": {},
     "output_type": "execute_result"
    }
   ],
   "source": [
    "y_train_type.value_counts()"
   ]
  },
  {
   "cell_type": "markdown",
   "metadata": {},
   "source": [
    "# II. Preprocessing the Training Set And Feature Generation (TF_IDF LSA)"
   ]
  },
  {
   "cell_type": "code",
   "execution_count": 80,
   "metadata": {},
   "outputs": [],
   "source": [
    "X_train_type_processed = processor(X_train_type, 'content')"
   ]
  },
  {
   "cell_type": "code",
   "execution_count": 81,
   "metadata": {},
   "outputs": [
    {
     "data": {
      "text/plain": [
       "'love in truth and fain in verse -PRON- love to show  that -PRON- dear -PRON- may take some pleasure of -PRON- pain  pleasure may because -PRON- read read may make -PRON- know  knowledge may pity win and pity grace obtain  -PRON- seek fit word to paint the black face of woe  studying invention fine -PRON- wit to entertain  oft turn other leave to see if thence would flow  some fresh and fruitful shower upon -PRON- sunburned brain  but word come halt forth want inventions stay  invention natures child flee step dame studys blow  and other foot still seem but stranger in -PRON- way  thus great with child to speak and helpless in -PRON- throe  bite -PRON- truant pen beat -PRON- for spite  fool say -PRON- muse to -PRON- look in thy heart and write '"
      ]
     },
     "execution_count": 81,
     "metadata": {},
     "output_type": "execute_result"
    }
   ],
   "source": [
    "X_train_type_processed[3]"
   ]
  },
  {
   "cell_type": "code",
   "execution_count": 82,
   "metadata": {},
   "outputs": [
    {
     "name": "stdout",
     "output_type": "stream",
     "text": [
      "Number of features: 3204\n"
     ]
    }
   ],
   "source": [
    "X_train_tfidf_type=vectorizer.fit_transform(X_train_type_processed)\n",
    "\n",
    "print(\"Number of features: %d\" % X_train_tfidf_type.get_shape()[1])"
   ]
  },
  {
   "cell_type": "code",
   "execution_count": 83,
   "metadata": {},
   "outputs": [
    {
     "name": "stdout",
     "output_type": "stream",
     "text": [
      "Variance captured by all components: 0.97\n"
     ]
    }
   ],
   "source": [
    "X_train_lsa_type = lsa.fit_transform(X_train_tfidf_type)\n",
    "\n",
    "variance_explained=svd.explained_variance_ratio_\n",
    "total_variance = variance_explained.sum()\n",
    "print(\"Variance captured by all components:\", \"%.2f\" %total_variance)"
   ]
  },
  {
   "cell_type": "markdown",
   "metadata": {},
   "source": [
    "# III. Models Application"
   ]
  },
  {
   "cell_type": "markdown",
   "metadata": {},
   "source": [
    "## Cross-Validation On The Training Set"
   ]
  },
  {
   "cell_type": "markdown",
   "metadata": {},
   "source": [
    "### 1. Logistic Regression with Ridge Normalization"
   ]
  },
  {
   "cell_type": "code",
   "execution_count": 84,
   "metadata": {},
   "outputs": [],
   "source": [
    "scores = []\n",
    "Cs = []\n",
    "for value in [0.001,0.01,0.1,1,10,100]:\n",
    "    lr = LogisticRegression(C=value)\n",
    "    score = np.mean(cross_val_score(lr, \n",
    "                                    X_train_lsa_type, \n",
    "                                    y_train_type,\n",
    "                                    scoring='roc_auc'))\n",
    "    scores.append(score)\n",
    "    Cs.append(value)"
   ]
  },
  {
   "cell_type": "code",
   "execution_count": 85,
   "metadata": {},
   "outputs": [
    {
     "data": {
      "text/html": [
       "<div>\n",
       "<style scoped>\n",
       "    .dataframe tbody tr th:only-of-type {\n",
       "        vertical-align: middle;\n",
       "    }\n",
       "\n",
       "    .dataframe tbody tr th {\n",
       "        vertical-align: top;\n",
       "    }\n",
       "\n",
       "    .dataframe thead th {\n",
       "        text-align: right;\n",
       "    }\n",
       "</style>\n",
       "<table border=\"1\" class=\"dataframe\">\n",
       "  <thead>\n",
       "    <tr style=\"text-align: right;\">\n",
       "      <th></th>\n",
       "      <th>scores</th>\n",
       "      <th>Cs</th>\n",
       "    </tr>\n",
       "  </thead>\n",
       "  <tbody>\n",
       "    <tr>\n",
       "      <th>0</th>\n",
       "      <td>0.749311</td>\n",
       "      <td>0.100</td>\n",
       "    </tr>\n",
       "    <tr>\n",
       "      <th>1</th>\n",
       "      <td>0.747771</td>\n",
       "      <td>1.000</td>\n",
       "    </tr>\n",
       "    <tr>\n",
       "      <th>2</th>\n",
       "      <td>0.723436</td>\n",
       "      <td>0.010</td>\n",
       "    </tr>\n",
       "    <tr>\n",
       "      <th>3</th>\n",
       "      <td>0.716087</td>\n",
       "      <td>10.000</td>\n",
       "    </tr>\n",
       "    <tr>\n",
       "      <th>4</th>\n",
       "      <td>0.712117</td>\n",
       "      <td>0.001</td>\n",
       "    </tr>\n",
       "    <tr>\n",
       "      <th>5</th>\n",
       "      <td>0.698222</td>\n",
       "      <td>100.000</td>\n",
       "    </tr>\n",
       "  </tbody>\n",
       "</table>\n",
       "</div>"
      ],
      "text/plain": [
       "     scores       Cs\n",
       "0  0.749311    0.100\n",
       "1  0.747771    1.000\n",
       "2  0.723436    0.010\n",
       "3  0.716087   10.000\n",
       "4  0.712117    0.001\n",
       "5  0.698222  100.000"
      ]
     },
     "execution_count": 85,
     "metadata": {},
     "output_type": "execute_result"
    }
   ],
   "source": [
    "df  =  pd.DataFrame(scores)\n",
    "df['Cs'] = Cs\n",
    "df.columns=['scores', 'Cs']\n",
    "\n",
    "df.sort_values(by = 'scores', ascending=False).reset_index(drop=True)"
   ]
  },
  {
   "cell_type": "markdown",
   "metadata": {},
   "source": [
    "### 2. Support Vector Machine Classifier"
   ]
  },
  {
   "cell_type": "code",
   "execution_count": 87,
   "metadata": {},
   "outputs": [],
   "source": [
    "scores = []\n",
    "Cs = []\n",
    "for value in [0.001, 0.01, 0.1, 1, 10, 20, 1e2, 1e3,1e4 ]:\n",
    "    svc = SVC(C=value, gamma='auto')\n",
    "    score = np.mean(cross_val_score(svc, \n",
    "                                    X_train_lsa_type, \n",
    "                                    y_train_type,\n",
    "                                    scoring='roc_auc'))\n",
    "    scores.append(score)\n",
    "    Cs.append(value)"
   ]
  },
  {
   "cell_type": "code",
   "execution_count": 88,
   "metadata": {},
   "outputs": [
    {
     "data": {
      "text/html": [
       "<div>\n",
       "<style scoped>\n",
       "    .dataframe tbody tr th:only-of-type {\n",
       "        vertical-align: middle;\n",
       "    }\n",
       "\n",
       "    .dataframe tbody tr th {\n",
       "        vertical-align: top;\n",
       "    }\n",
       "\n",
       "    .dataframe thead th {\n",
       "        text-align: right;\n",
       "    }\n",
       "</style>\n",
       "<table border=\"1\" class=\"dataframe\">\n",
       "  <thead>\n",
       "    <tr style=\"text-align: right;\">\n",
       "      <th></th>\n",
       "      <th>scores</th>\n",
       "      <th>Cs</th>\n",
       "    </tr>\n",
       "  </thead>\n",
       "  <tbody>\n",
       "    <tr>\n",
       "      <th>0</th>\n",
       "      <td>0.760187</td>\n",
       "      <td>0.001</td>\n",
       "    </tr>\n",
       "    <tr>\n",
       "      <th>1</th>\n",
       "      <td>0.760187</td>\n",
       "      <td>0.010</td>\n",
       "    </tr>\n",
       "    <tr>\n",
       "      <th>2</th>\n",
       "      <td>0.730920</td>\n",
       "      <td>20.000</td>\n",
       "    </tr>\n",
       "    <tr>\n",
       "      <th>3</th>\n",
       "      <td>0.730328</td>\n",
       "      <td>10.000</td>\n",
       "    </tr>\n",
       "    <tr>\n",
       "      <th>4</th>\n",
       "      <td>0.729202</td>\n",
       "      <td>0.100</td>\n",
       "    </tr>\n",
       "    <tr>\n",
       "      <th>5</th>\n",
       "      <td>0.728552</td>\n",
       "      <td>1.000</td>\n",
       "    </tr>\n",
       "    <tr>\n",
       "      <th>6</th>\n",
       "      <td>0.725483</td>\n",
       "      <td>100.000</td>\n",
       "    </tr>\n",
       "    <tr>\n",
       "      <th>7</th>\n",
       "      <td>0.677312</td>\n",
       "      <td>1000.000</td>\n",
       "    </tr>\n",
       "    <tr>\n",
       "      <th>8</th>\n",
       "      <td>0.677312</td>\n",
       "      <td>10000.000</td>\n",
       "    </tr>\n",
       "  </tbody>\n",
       "</table>\n",
       "</div>"
      ],
      "text/plain": [
       "     scores         Cs\n",
       "0  0.760187      0.001\n",
       "1  0.760187      0.010\n",
       "2  0.730920     20.000\n",
       "3  0.730328     10.000\n",
       "4  0.729202      0.100\n",
       "5  0.728552      1.000\n",
       "6  0.725483    100.000\n",
       "7  0.677312   1000.000\n",
       "8  0.677312  10000.000"
      ]
     },
     "execution_count": 88,
     "metadata": {},
     "output_type": "execute_result"
    }
   ],
   "source": [
    "df  =  pd.DataFrame(scores)\n",
    "df['Cs'] = Cs\n",
    "df.columns=['scores', 'Cs']\n",
    "\n",
    "df.sort_values(by = 'scores', ascending=False).reset_index(drop=True)"
   ]
  },
  {
   "cell_type": "code",
   "execution_count": 89,
   "metadata": {},
   "outputs": [],
   "source": [
    "scores = []\n",
    "gammas = []\n",
    "for value in [0.001, 0.01, 0.1, 1, 'auto']:\n",
    "    svc = SVC(C=1e-3, gamma=value)\n",
    "    score = np.mean(cross_val_score(svc, \n",
    "                                    X_train_lsa_type, \n",
    "                                    y_train_type,\n",
    "                                    scoring='roc_auc'))\n",
    "    scores.append(score)\n",
    "    gammas.append(value)"
   ]
  },
  {
   "cell_type": "code",
   "execution_count": 90,
   "metadata": {},
   "outputs": [
    {
     "data": {
      "text/html": [
       "<div>\n",
       "<style scoped>\n",
       "    .dataframe tbody tr th:only-of-type {\n",
       "        vertical-align: middle;\n",
       "    }\n",
       "\n",
       "    .dataframe tbody tr th {\n",
       "        vertical-align: top;\n",
       "    }\n",
       "\n",
       "    .dataframe thead th {\n",
       "        text-align: right;\n",
       "    }\n",
       "</style>\n",
       "<table border=\"1\" class=\"dataframe\">\n",
       "  <thead>\n",
       "    <tr style=\"text-align: right;\">\n",
       "      <th></th>\n",
       "      <th>scores</th>\n",
       "      <th>gammas</th>\n",
       "    </tr>\n",
       "  </thead>\n",
       "  <tbody>\n",
       "    <tr>\n",
       "      <th>0</th>\n",
       "      <td>0.765456</td>\n",
       "      <td>0.001</td>\n",
       "    </tr>\n",
       "    <tr>\n",
       "      <th>1</th>\n",
       "      <td>0.761932</td>\n",
       "      <td>0.01</td>\n",
       "    </tr>\n",
       "    <tr>\n",
       "      <th>2</th>\n",
       "      <td>0.760187</td>\n",
       "      <td>auto</td>\n",
       "    </tr>\n",
       "    <tr>\n",
       "      <th>3</th>\n",
       "      <td>0.753511</td>\n",
       "      <td>0.1</td>\n",
       "    </tr>\n",
       "    <tr>\n",
       "      <th>4</th>\n",
       "      <td>0.708561</td>\n",
       "      <td>1</td>\n",
       "    </tr>\n",
       "  </tbody>\n",
       "</table>\n",
       "</div>"
      ],
      "text/plain": [
       "     scores gammas\n",
       "0  0.765456  0.001\n",
       "1  0.761932   0.01\n",
       "2  0.760187   auto\n",
       "3  0.753511    0.1\n",
       "4  0.708561      1"
      ]
     },
     "execution_count": 90,
     "metadata": {},
     "output_type": "execute_result"
    }
   ],
   "source": [
    "df  =  pd.DataFrame(scores)\n",
    "df['gammas'] = gammas\n",
    "df.columns=['scores', 'gammas']\n",
    "\n",
    "df.sort_values(by = 'scores', ascending=False).reset_index(drop=True)"
   ]
  },
  {
   "cell_type": "markdown",
   "metadata": {},
   "source": [
    "## Validation on the Test Set"
   ]
  },
  {
   "cell_type": "code",
   "execution_count": 91,
   "metadata": {},
   "outputs": [],
   "source": [
    "# preprocessing of the test set\n",
    "X_test_processed = processor(X_test_type, 'content')"
   ]
  },
  {
   "cell_type": "code",
   "execution_count": 92,
   "metadata": {},
   "outputs": [
    {
     "name": "stdout",
     "output_type": "stream",
     "text": [
      "Number of features: 3204\n"
     ]
    }
   ],
   "source": [
    "# creation of tf_idf features for the test set\n",
    "\n",
    "X_test_tfidf_type=vectorizer.transform(X_test_processed)\n",
    "\n",
    "print(\"Number of features: %d\" % X_train_tfidf_type.get_shape()[1])"
   ]
  },
  {
   "cell_type": "code",
   "execution_count": 93,
   "metadata": {},
   "outputs": [],
   "source": [
    "# application of the Single Value Decomposition model and the normalizer to perform latent semantic analysis (lsa)\n",
    "\n",
    "X_test_lsa_type = lsa.transform(X_test_tfidf_type)"
   ]
  },
  {
   "cell_type": "markdown",
   "metadata": {},
   "source": [
    "### 1. Logistic Regression with Ridge Normalization"
   ]
  },
  {
   "cell_type": "code",
   "execution_count": 94,
   "metadata": {},
   "outputs": [
    {
     "data": {
      "text/plain": [
       "LogisticRegression(C=0.1, class_weight=None, dual=False, fit_intercept=True,\n",
       "          intercept_scaling=1, max_iter=100, multi_class='ovr', n_jobs=1,\n",
       "          penalty='l2', random_state=None, solver='liblinear', tol=0.0001,\n",
       "          verbose=0, warm_start=False)"
      ]
     },
     "execution_count": 94,
     "metadata": {},
     "output_type": "execute_result"
    }
   ],
   "source": [
    "lr_test = LogisticRegression(C=1e-1)\n",
    "lr_test.fit(X_train_lsa_type, y_train_type)\n"
   ]
  },
  {
   "cell_type": "code",
   "execution_count": 95,
   "metadata": {},
   "outputs": [
    {
     "name": "stdout",
     "output_type": "stream",
     "text": [
      "0.8124632569077013\n"
     ]
    }
   ],
   "source": [
    "print(roc_auc_score(y_test_type, lr_test.predict_proba(X_test_lsa_type)[:, 1]))"
   ]
  },
  {
   "cell_type": "markdown",
   "metadata": {},
   "source": [
    "### 2. Support Vector Machine Classifier"
   ]
  },
  {
   "cell_type": "code",
   "execution_count": 96,
   "metadata": {},
   "outputs": [
    {
     "data": {
      "text/plain": [
       "SVC(C=0.001, cache_size=200, class_weight=None, coef0=0.0,\n",
       "  decision_function_shape='ovr', degree=3, gamma=0.001, kernel='rbf',\n",
       "  max_iter=-1, probability=True, random_state=None, shrinking=True,\n",
       "  tol=0.001, verbose=False)"
      ]
     },
     "execution_count": 96,
     "metadata": {},
     "output_type": "execute_result"
    }
   ],
   "source": [
    "svc_test = SVC(C=1e-3, gamma=1e-3, probability=True)\n",
    "\n",
    "svc_test.fit(X_train_lsa_type, y_train_type)\n"
   ]
  },
  {
   "cell_type": "code",
   "execution_count": 97,
   "metadata": {},
   "outputs": [
    {
     "name": "stdout",
     "output_type": "stream",
     "text": [
      "0.8154027042915932\n"
     ]
    }
   ],
   "source": [
    "print(roc_auc_score(y_test_type, svc_test.predict_proba(X_test_lsa_type)[:, 1]))"
   ]
  },
  {
   "cell_type": "markdown",
   "metadata": {},
   "source": [
    "Below are the results for the two models predicting poem type:\n",
    "\n",
    "| Models    |Training Set |Test Set|\n",
    "|-----------|---|---|\n",
    "| Logistic Regression (Lasso)     | 0.7493| 0.812 | \n",
    "| SVM    | 0.76 | 0.815| "
   ]
  },
  {
   "cell_type": "markdown",
   "metadata": {},
   "source": [
    "Our logistic regression with ridge normalization performed and SVM classifer we were able to achieve roc-auc score of over `0.80` on the test set."
   ]
  },
  {
   "cell_type": "markdown",
   "metadata": {},
   "source": [
    "# TASK D. Clustering of The Text"
   ]
  },
  {
   "cell_type": "markdown",
   "metadata": {},
   "source": [
    "The last task we will undertake will be clustering of the poems based on their text and tf_idf lsa components. We will use the following clustering methods:\n",
    " - KMeans Clustering\n",
    " - Spectral Clustering\n",
    " \n",
    " Mean-Shift Clustering was attempted in the experimentation stages of the project but did not prove effective. Therefore, it was removed from the final version of the notebook."
   ]
  },
  {
   "cell_type": "markdown",
   "metadata": {},
   "source": [
    "# I. Clustering Solutions"
   ]
  },
  {
   "cell_type": "markdown",
   "metadata": {},
   "source": [
    "Our clustering solutions will be based on all the lsa components. However, for plotting these solutions in 2D, we will use only the first two components. Our training and test set plots will be helpful for us to check relative stability of the clusters."
   ]
  },
  {
   "cell_type": "markdown",
   "metadata": {},
   "source": [
    "## 1. KMeans and Spectral Clustering"
   ]
  },
  {
   "cell_type": "markdown",
   "metadata": {},
   "source": [
    "### a. Two-Cluster Solution "
   ]
  },
  {
   "cell_type": "code",
   "execution_count": 99,
   "metadata": {},
   "outputs": [],
   "source": [
    "from sklearn.cluster import KMeans\n",
    "\n",
    "# initialize the algorithm\n",
    "\n",
    "km = KMeans(n_clusters = 2, random_state=10) \n",
    "\n",
    "# fit and predict the clusters of the training set\n",
    "y_pred_km = km.fit_predict(X_train_lsa)"
   ]
  },
  {
   "cell_type": "code",
   "execution_count": 100,
   "metadata": {},
   "outputs": [],
   "source": [
    "# predict the clusters of the test set\n",
    "y_pred_km_test = km.predict(X_test_lsa)"
   ]
  },
  {
   "cell_type": "code",
   "execution_count": 101,
   "metadata": {},
   "outputs": [
    {
     "data": {
      "image/png": "[encoded data removed]",
      "text/plain": [
       "<Figure size 1080x360 with 2 Axes>"
      ]
     },
     "metadata": {},
     "output_type": "display_data"
    }
   ],
   "source": [
    "# plot the results of the KMeans Clustering using the first 2 lsa components \n",
    "plt.figure(figsize=(15,5))\n",
    "\n",
    "plt.subplot(121)\n",
    "plt.scatter(X_train_lsa[:, 0], X_train_lsa[:, 1], c=y_pred_km)\n",
    "plt.title('KMeans Clustering of The Training Set \\n Into Two Clusters')\n",
    "\n",
    "plt.subplot(122)\n",
    "plt.scatter(X_test_lsa[:, 0], X_test_lsa[:, 1], c=y_pred_km_test)\n",
    "plt.title('KMeans Clustering of The Test Set \\n Into Two Clusters')\n",
    "\n",
    "\n",
    "plt.show()"
   ]
  },
  {
   "cell_type": "markdown",
   "metadata": {},
   "source": [
    "KMeans produces a consisten two-cluster solution for the training and test sets."
   ]
  },
  {
   "cell_type": "code",
   "execution_count": 102,
   "metadata": {},
   "outputs": [],
   "source": [
    "# import the spectral clustering algorithm\n",
    "from sklearn.cluster import SpectralClustering\n",
    "\n",
    "# initialize the algorithm\n",
    "sc = SpectralClustering(n_clusters=2, n_jobs = -1, random_state=10)\n",
    "\n",
    "# fit and predict the clustering of the training set\n",
    "sc_pred = sc.fit_predict(X_train_lsa)"
   ]
  },
  {
   "cell_type": "code",
   "execution_count": 103,
   "metadata": {},
   "outputs": [],
   "source": [
    "# spectral clustering has no 'predict method' so we have to do a new fit_predict on the test set\n",
    "sc_pred_test = sc.fit_predict(X_test_lsa)"
   ]
  },
  {
   "cell_type": "code",
   "execution_count": 104,
   "metadata": {},
   "outputs": [
    {
     "data": {
      "image/png": "[encoded data removed]",
      "text/plain": [
       "<Figure size 1080x360 with 2 Axes>"
      ]
     },
     "metadata": {},
     "output_type": "display_data"
    }
   ],
   "source": [
    "# Plof the results of the spectral clustering using the first two lsa components\n",
    "\n",
    "plt.figure(figsize=(15,5))\n",
    "\n",
    "plt.subplot(122)\n",
    "plt.scatter(X_train_lsa[:, 0], X_train_lsa[:, 1], c=sc_pred)\n",
    "plt.title('Spectral Clustering of The Training Set \\n Into Two Clusters')\n",
    "\n",
    "plt.subplot(121)\n",
    "plt.scatter(X_test_lsa[:, 0], X_test_lsa[:, 1], c=sc_pred_test)\n",
    "plt.title('Spectral Clustering of The Test Set \\n Into Two Clusters')\n",
    "\n",
    "\n",
    "plt.show()"
   ]
  },
  {
   "cell_type": "markdown",
   "metadata": {},
   "source": [
    "Spectral Clustering algorithm also manages to produce consisten clustering. However, we should note that we cannot use 'predict' on the test set (instead, we are forced to utilize 'fit_predict') and thus we approach the test set as a new clustering problem and create a clustering solution from scratch."
   ]
  },
  {
   "cell_type": "markdown",
   "metadata": {},
   "source": [
    "### b. Four-Cluster Solution"
   ]
  },
  {
   "cell_type": "code",
   "execution_count": 105,
   "metadata": {},
   "outputs": [],
   "source": [
    "# initialize the KMeans algorithm\n",
    "km_four = KMeans(n_clusters = 4, random_state=10) \n",
    "\n",
    "# fit it to the the training set and predict its clustering\n",
    "y_pred_km_four = km_four.fit_predict(X_train_lsa)"
   ]
  },
  {
   "cell_type": "code",
   "execution_count": 106,
   "metadata": {},
   "outputs": [],
   "source": [
    "# predict the clustering of the test set\n",
    "y_pred_km_test_four = km_four.predict(X_test_lsa)"
   ]
  },
  {
   "cell_type": "code",
   "execution_count": 107,
   "metadata": {},
   "outputs": [
    {
     "data": {
      "image/png": "[encoded data removed]",
      "text/plain": [
       "<Figure size 1080x360 with 2 Axes>"
      ]
     },
     "metadata": {},
     "output_type": "display_data"
    }
   ],
   "source": [
    "# plot the first two lsa components and its clustering into four clusters by KMeans\n",
    "\n",
    "plt.figure(figsize=(15,5))\n",
    "\n",
    "plt.subplot(121)\n",
    "plt.scatter(X_train_lsa[:, 0], X_train_lsa[:, 1], c=y_pred_km_four)\n",
    "plt.title('KMeans Clustering of The Training Set \\n Into Four Clusters')\n",
    "\n",
    "plt.subplot(122)\n",
    "plt.scatter(X_test_lsa[:, 0], X_test_lsa[:, 1], c=y_pred_km_test_four)\n",
    "plt.title('KMeans Clustering of The Test Set \\n Into Four Clusters')\n",
    "\n",
    "plt.show()"
   ]
  },
  {
   "cell_type": "markdown",
   "metadata": {},
   "source": [
    "The clusters look stable. The datapoints overlap points to the fact that they are separated in other dimensions which we are not plotting."
   ]
  },
  {
   "cell_type": "code",
   "execution_count": 108,
   "metadata": {},
   "outputs": [],
   "source": [
    "# initialize the spectral clustering algorithm\n",
    "sc_four = SpectralClustering(n_clusters=4, random_state=10)\n",
    "\n",
    "# fit it to the the training set and predict its clustering\n",
    "sc_pred_four = sc_four.fit_predict(X_train_lsa)"
   ]
  },
  {
   "cell_type": "code",
   "execution_count": 109,
   "metadata": {},
   "outputs": [],
   "source": [
    "# no predict method for spectral clustering, have to apply clustering to a new sample (X_test_lsa)\n",
    "sc_pred_four_test = sc_four.fit_predict(X_test_lsa)"
   ]
  },
  {
   "cell_type": "code",
   "execution_count": 110,
   "metadata": {},
   "outputs": [
    {
     "data": {
      "image/png": "[encoded data removed]",
      "text/plain": [
       "<Figure size 1080x360 with 2 Axes>"
      ]
     },
     "metadata": {},
     "output_type": "display_data"
    }
   ],
   "source": [
    "# plot the first two lsa components and its clustering into four clusters by Spectral Clustering\n",
    "plt.figure(figsize=(15,5))\n",
    "\n",
    "plt.subplot(121)\n",
    "plt.scatter(X_train_lsa[:, 0], X_train_lsa[:, 1], c=sc_pred_four)\n",
    "plt.title('Spectral Clustering of The Training Set \\n Into Four Clusters')\n",
    "\n",
    "plt.subplot(122)\n",
    "plt.scatter(X_test_lsa[:, 0], X_test_lsa[:, 1], c=sc_pred_four_test)\n",
    "plt.title('Spectral Clustering of The Test Set \\n Into Four Clusters')\n",
    "\n",
    "plt.show()"
   ]
  },
  {
   "cell_type": "markdown",
   "metadata": {},
   "source": [
    "Even though difference in color is the result of a new clustering solution, spectral clustering does not seem to produce a stable four-cluster solution. Therefore, our final investigation of clusters will be based on the KMeans solutions."
   ]
  },
  {
   "cell_type": "code",
   "execution_count": 111,
   "metadata": {},
   "outputs": [
    {
     "name": "stderr",
     "output_type": "stream",
     "text": [
      "/usr/local/lib/python3.7/site-packages/ipykernel_launcher.py:3: SettingWithCopyWarning: \n",
      "A value is trying to be set on a copy of a slice from a DataFrame.\n",
      "Try using .loc[row_indexer,col_indexer] = value instead\n",
      "\n",
      "See the caveats in the documentation: http://pandas.pydata.org/pandas-docs/stable/indexing.html#indexing-view-versus-copy\n",
      "  This is separate from the ipykernel package so we can avoid doing imports until\n",
      "/usr/local/lib/python3.7/site-packages/ipykernel_launcher.py:4: SettingWithCopyWarning: \n",
      "A value is trying to be set on a copy of a slice from a DataFrame.\n",
      "Try using .loc[row_indexer,col_indexer] = value instead\n",
      "\n",
      "See the caveats in the documentation: http://pandas.pydata.org/pandas-docs/stable/indexing.html#indexing-view-versus-copy\n",
      "  after removing the cwd from sys.path.\n"
     ]
    }
   ],
   "source": [
    "# create columns for the assigned clusters \n",
    "\n",
    "X_test['labels_kmtwo'] = y_pred_km_test # two-cluster solution\n",
    "X_test['labels_kmfour'] = y_pred_km_test_four # four-cluster solution"
   ]
  },
  {
   "cell_type": "code",
   "execution_count": 112,
   "metadata": {},
   "outputs": [
    {
     "name": "stderr",
     "output_type": "stream",
     "text": [
      "/usr/local/lib/python3.7/site-packages/ipykernel_launcher.py:3: SettingWithCopyWarning: \n",
      "A value is trying to be set on a copy of a slice from a DataFrame.\n",
      "Try using .loc[row_indexer,col_indexer] = value instead\n",
      "\n",
      "See the caveats in the documentation: http://pandas.pydata.org/pandas-docs/stable/indexing.html#indexing-view-versus-copy\n",
      "  This is separate from the ipykernel package so we can avoid doing imports until\n",
      "/usr/local/lib/python3.7/site-packages/ipykernel_launcher.py:4: SettingWithCopyWarning: \n",
      "A value is trying to be set on a copy of a slice from a DataFrame.\n",
      "Try using .loc[row_indexer,col_indexer] = value instead\n",
      "\n",
      "See the caveats in the documentation: http://pandas.pydata.org/pandas-docs/stable/indexing.html#indexing-view-versus-copy\n",
      "  after removing the cwd from sys.path.\n"
     ]
    }
   ],
   "source": [
    "# create columns for the assigned clusters in the training set\n",
    "\n",
    "X_train['labels_kmtwo'] = km.labels_ # two-cluster solution\n",
    "X_train['labels_kmfour'] = km_four.labels_ # four-cluster solution"
   ]
  },
  {
   "cell_type": "code",
   "execution_count": 113,
   "metadata": {},
   "outputs": [
    {
     "data": {
      "text/html": [
       "<div>\n",
       "<style scoped>\n",
       "    .dataframe tbody tr th:only-of-type {\n",
       "        vertical-align: middle;\n",
       "    }\n",
       "\n",
       "    .dataframe tbody tr th {\n",
       "        vertical-align: top;\n",
       "    }\n",
       "\n",
       "    .dataframe thead th {\n",
       "        text-align: right;\n",
       "    }\n",
       "</style>\n",
       "<table border=\"1\" class=\"dataframe\">\n",
       "  <thead>\n",
       "    <tr style=\"text-align: right;\">\n",
       "      <th></th>\n",
       "      <th>content</th>\n",
       "      <th>author</th>\n",
       "      <th>age</th>\n",
       "      <th>type</th>\n",
       "      <th>labels_kmtwo</th>\n",
       "      <th>labels_kmfour</th>\n",
       "    </tr>\n",
       "  </thead>\n",
       "  <tbody>\n",
       "    <tr>\n",
       "      <th>64</th>\n",
       "      <td>Hark, hark! the lark at heaven's gate sings, \\...</td>\n",
       "      <td>WILLIAM SHAKESPEARE</td>\n",
       "      <td>Renaissance</td>\n",
       "      <td>Nature</td>\n",
       "      <td>0</td>\n",
       "      <td>0</td>\n",
       "    </tr>\n",
       "    <tr>\n",
       "      <th>159</th>\n",
       "      <td>Pack, clouds away! and welcome day!\\r\\nWith ni...</td>\n",
       "      <td>THOMAS HEYWOOD</td>\n",
       "      <td>Renaissance</td>\n",
       "      <td>Love</td>\n",
       "      <td>0</td>\n",
       "      <td>2</td>\n",
       "    </tr>\n",
       "    <tr>\n",
       "      <th>208</th>\n",
       "      <td>When thou must home to shades of underground,\\...</td>\n",
       "      <td>THOMAS CAMPION</td>\n",
       "      <td>Renaissance</td>\n",
       "      <td>Love</td>\n",
       "      <td>1</td>\n",
       "      <td>3</td>\n",
       "    </tr>\n",
       "    <tr>\n",
       "      <th>81</th>\n",
       "      <td>Loving in truth, and fain in verse my love to ...</td>\n",
       "      <td>SIR PHILIP SIDNEY</td>\n",
       "      <td>Renaissance</td>\n",
       "      <td>Love</td>\n",
       "      <td>0</td>\n",
       "      <td>1</td>\n",
       "    </tr>\n",
       "    <tr>\n",
       "      <th>344</th>\n",
       "      <td>O sweet everlasting Voices, be still;\\r\\nGo to...</td>\n",
       "      <td>WILLIAM BUTLER YEATS</td>\n",
       "      <td>Modern</td>\n",
       "      <td>Nature</td>\n",
       "      <td>0</td>\n",
       "      <td>0</td>\n",
       "    </tr>\n",
       "  </tbody>\n",
       "</table>\n",
       "</div>"
      ],
      "text/plain": [
       "                                               content                author  \\\n",
       "64   Hark, hark! the lark at heaven's gate sings, \\...   WILLIAM SHAKESPEARE   \n",
       "159  Pack, clouds away! and welcome day!\\r\\nWith ni...        THOMAS HEYWOOD   \n",
       "208  When thou must home to shades of underground,\\...        THOMAS CAMPION   \n",
       "81   Loving in truth, and fain in verse my love to ...     SIR PHILIP SIDNEY   \n",
       "344  O sweet everlasting Voices, be still;\\r\\nGo to...  WILLIAM BUTLER YEATS   \n",
       "\n",
       "             age    type  labels_kmtwo  labels_kmfour  \n",
       "64   Renaissance  Nature             0              0  \n",
       "159  Renaissance    Love             0              2  \n",
       "208  Renaissance    Love             1              3  \n",
       "81   Renaissance    Love             0              1  \n",
       "344       Modern  Nature             0              0  "
      ]
     },
     "execution_count": 113,
     "metadata": {},
     "output_type": "execute_result"
    }
   ],
   "source": [
    "X_train.head()"
   ]
  },
  {
   "cell_type": "markdown",
   "metadata": {},
   "source": [
    "# II. Clusters vs. Original Classes"
   ]
  },
  {
   "cell_type": "markdown",
   "metadata": {},
   "source": [
    "If we compare our newly created clusters with the original classes, we will notice that there is not much overlap. Two-cluster solution separates the poems into the clusters that contain all ages and all types."
   ]
  },
  {
   "cell_type": "code",
   "execution_count": 114,
   "metadata": {},
   "outputs": [
    {
     "data": {
      "image/png": "[encoded data removed]",
      "text/plain": [
       "<Figure size 1080x360 with 2 Axes>"
      ]
     },
     "metadata": {},
     "output_type": "display_data"
    }
   ],
   "source": [
    "# plot the original time periods (age) and types and clusters\n",
    "\n",
    "plt.figure(figsize=(15,5))\n",
    "plt.subplot(121)\n",
    "\n",
    "sns.countplot('age', data=X_train, hue = 'labels_kmtwo')\n",
    "plt.title('Poem Age. KMeans Two Cluster Solution')\n",
    "\n",
    "plt.subplot(122)\n",
    "sns.countplot('type', data=X_train, hue = 'labels_kmtwo')\n",
    "plt.title('Poem Type. KMeans Two Cluster Solution')\n",
    "\n",
    "plt.show()"
   ]
  },
  {
   "cell_type": "markdown",
   "metadata": {},
   "source": [
    "The four-cluster solution does not look much more promising either. We notice some interesting patterns, e.g. cluster two tends to have more poems from the Renaissance whereas cluster zero has more modern poems. "
   ]
  },
  {
   "cell_type": "code",
   "execution_count": 115,
   "metadata": {},
   "outputs": [
    {
     "data": {
      "image/png": "[encoded data removed]",
      "text/plain": [
       "<Figure size 1080x360 with 2 Axes>"
      ]
     },
     "metadata": {},
     "output_type": "display_data"
    }
   ],
   "source": [
    "# plot the original time periods (age) and types and clusters\n",
    "\n",
    "plt.figure(figsize=(15,5))\n",
    "plt.subplot(121)\n",
    "\n",
    "sns.countplot('age', data=X_train, hue = 'labels_kmfour')\n",
    "plt.title('Poem Age. KMeans Two Cluster Solution for the Training Set')\n",
    "\n",
    "plt.subplot(122)\n",
    "sns.countplot('type', data=X_train, hue = 'labels_kmfour')\n",
    "plt.title('Poem Type. KMeans Two Cluster Solution for the Training Set')\n",
    "\n",
    "plt.show()"
   ]
  },
  {
   "cell_type": "markdown",
   "metadata": {},
   "source": [
    "# II. Interpretation of the Clustering Solutions"
   ]
  },
  {
   "cell_type": "markdown",
   "metadata": {},
   "source": [
    "In order for us to acquire a deeper understanding of the clusering solutions, we will need to take a look at the components. We will pick the first five components, since it is unrealistic to look at all 300 of them. "
   ]
  },
  {
   "cell_type": "markdown",
   "metadata": {},
   "source": [
    "### a. LSA Components"
   ]
  },
  {
   "cell_type": "markdown",
   "metadata": {},
   "source": [
    "### 1. LSA Component 0. Celebtration of love and beauty"
   ]
  },
  {
   "cell_type": "markdown",
   "metadata": {},
   "source": [
    "Our analysis of the top matching poems for the lsa component zero show that these poems portray noble love, beauty, or a maiden in a positive light. "
   ]
  },
  {
   "cell_type": "code",
   "execution_count": 116,
   "metadata": {},
   "outputs": [
    {
     "name": "stdout",
     "output_type": "stream",
     "text": [
      "Component 0:  content\n",
      "If yet I have not all thy love,\\r\\nDear, I shall never have it all;\\r\\nI cannot breathe one other sigh, to move,\\r\\nNor can intreat one other tear to fall;\\r\\nAnd all my treasure, which should purchase thee\\r\\nSighs, tears, and oaths, and lettersI have spent.\\r\\nYet no more can be due to me,\\r\\nThan at the bargain made was meant;\\r\\nIf then thy gift of love were partial,\\r\\nThat some to me, some should to others fall,\\r\\n         Dear, I shall never have thee all.\\r\\n\\r\\nOr if then thou gavest me all,\\r\\nAll was but all, which thou hadst then;\\r\\nBut if in thy heart, since, there be or shall\\r\\nNew love created be, by other men,\\r\\nWhich have their stocks entire, and can in tears,\\r\\nIn sighs, in oaths, and letters, outbid me,\\r\\nThis new love may beget new fears,\\r\\nFor this love was not vow'd by thee.\\r\\nAnd yet it was, thy gift being general;\\r\\nThe ground, thy heart, is mine; whatever shall\\r\\n         Grow there, dear, I should have it all.\\r\\n\\r\\nYet I would not have all yet,\\r\\nHe that hath all can have no more;\\r\\nAnd since my love doth every day admit\\r\\nNew growth, thou shouldst have new rewards in store;\\r\\nThou canst not every day give me thy heart,\\r\\nIf thou canst give it, then thou never gavest it;\\r\\nLove's riddles are, that though thy heart depart,\\r\\nIt stays at home, and thou with losing savest it;\\r\\nBut we will have a way more liberal,\\r\\nThan changing hearts, to join them; so we shall\\r\\n         Be one, and one another's all.    0.461174\n",
      "Name: 0, dtype: float64 \n",
      " \n",
      " content\n",
      "Forget this rotten world, and unto thee\\r\\nLet thine own times as an old story be.\\r\\nBe not concern'd; study not why, nor when;\\r\\nDo not so much as not believe a man.\\r\\nFor though to err, be worst, to try truths forth\\r\\nIs far more business than this world is worth.\\r\\nI'he world is but a carcass; thou art fed\\r\\nBy it, but as a worm, that carcass bred;\\r\\nAnd why shouldst thou, poor worm, consider more,\\r\\nWhen this world will grow better than before,\\r\\nThan those thy fellow-worms do think upon\\r\\nThat carcass's last resurrection?\\r\\nForget this world, and scarce think of it so,\\r\\nAs of old clothes, cast off a year ago.\\r\\nTo be thus stupid is alacrity;\\r\\nMen thus lethargic have best memory.\\r\\nLook upward; that's towards her, whose happy state\\r\\nWe now lament not, but congratulate.\\r\\nShe, to whom all this world was but a stage,\\r\\nWhere all sat heark'ning how her youthful age\\r\\nShould be employ'd, because in all she did\\r\\nSome figure of the golden times was hid.\\r\\nWho could not lack, what'er this world could give,\\r\\nBecause she was the form, that made it live;\\r\\nNor could complain that this world was unfit\\r\\nTo be stay'd in, then when she was in it;\\r\\nShe, that first tried indifferent desires\\r\\nBy virtue, and virtue by religious fires;\\r\\nShe, to whose person paradise adher'd,\\r\\nAs courts to princes; she, whose eyes enspher'd\\r\\nStar-light enough t' have made the South control,\\r\\n(Had she been there) the star-full Northern Pole;\\r\\nShe, she is gone; she is gone; when thou knowest this,\\r\\nWhat fragmentary rubbish this world is\\r\\nThou knowest, and that it is not worth a thought;\\r\\nHe honours it too much that thinks it nought.\\r\\nThink then, my soul, that death is but a groom,\\r\\nWhich brings a taper to the outward room,\\r\\nWhence thou spiest first a little glimmering light,\\r\\nAnd after brings it nearer to thy sight;\\r\\nFor such approaches doth heaven make in death.\\r\\nThink thyself labouring now with broken breath,\\r\\nAnd think those broken and soft notes to be\\r\\nDivision, and thy happiest harmony.\\r\\nThink thee laid on thy death-bed, loose and slack,\\r\\nAnd think that but unbinding of a pack,\\r\\nTo take one precious thing, thy soul, from thence.\\r\\nThink thyself parch'd with fever's violence;\\r\\nAnger thine ague more, by calling it\\r\\nThy physic; chide the slackness of the fit.\\r\\nThink that thou hear'st thy knell, and think no more,\\r\\nBut that, as bells call'd thee to church before,\\r\\nSo this to the Triumphant Church calls thee.\\r\\nThink Satan's sergeants round about thee be,\\r\\nAnd think that but for legacies they thrust;\\r\\nGive one thy pride, to'another give thy lust;\\r\\nGive them those sins which they gave thee before,\\r\\nAnd trust th' immaculate blood to wash thy score.\\r\\nThink thy friends weeping round, and think that they\\r\\nWeep but because they go not yet thy way.\\r\\nThink that they close thine eyes, and think in this,\\r\\nThat they confess much in the world amiss,\\r\\nWho dare not trust a dead man's eye with that\\r\\nWhich they from God and angels cover not.\\r\\nThink that they shroud thee up, and think from thence\\r\\nThey reinvest thee in white innocence.\\r\\nThink that thy body rots, and (if so low,\\r\\nThy soul exalted so, thy thoughts can go)\\r\\nThink thee a prince, who of themselves create\\r\\nWorms, which insensibly devour their state.\\r\\nThink that they bury thee, and think that rite\\r\\nLays thee to sleep but a Saint Lucy's night.    0.429667\n",
      "Name: 0, dtype: float64 \n",
      " \n",
      " content\n",
      "Who will in fairest book of nature know\\r\\nHow virtue may best lodg'd in beauty be,\\r\\nLet him but learn of love to read in thee,\\r\\nStella, those fair lines which true goodness show.\\r\\nThere shall he find all vices' overthrow,\\r\\nNot by rude force, but sweetest sovereignty\\r\\nOf reason, from whose light those night-birds fly;\\r\\nThat inward sun in thine eyes shineth so.\\r\\nAnd, not content to be perfection's heir\\r\\nThyself, dost strive all minds that way to move,\\r\\nWho mark in thee what is in thee most fair.\\r\\nSo while thy beauty draws thy heart to love,\\r\\nAs fast thy virtue bends that love to good:\\r\\nBut \"Ah,\" Desire still cries, \"Give me some food!\"    0.418714\n",
      "Name: 0, dtype: float64 \n",
      " \n",
      " content\n",
      "Lo I the man, whose Muse whilome did maske,\\r\\nAs time her taught in lowly Shepheards weeds,\\r\\nAm now enforst a far unfitter taske,\\r\\nFor trumpets sterne to chaunge mine Oaten reeds,\\r\\nAnd sing of Knights and Ladies gentle deeds;\\r\\nWhose prayses having slept in silence long,\\r\\nMe, all too meane, the sacred Muse areeds\\r\\nTo blazon broad emongst her learned throng:\\r\\nFierce warres and faithful loves shall moralize my song.\\r\\nHelpe then, O holy Virgin chiefe of nine,\\r\\nThy weaker Novice to performe thy will,\\r\\nLay forth out of thine everlasting scryne\\r\\nThe antique rolles, which there lye hidden still,\\r\\nOf Faerie knights and fairest Tanaquill,\\r\\nWhom that most noble Briton Prince so long\\r\\nSought through the world, and suffered so much ill,\\r\\nThat I must rue his undeserved wrong:\\r\\nO helpe thou my weake wit, and sharpen my dull tong.\\r\\nAnd thou most dreaded impe of highest Jove,\\r\\nFaire Venus sonne, that with thy cruell dart\\r\\nAt that good knight so cunningly didst rove,\\r\\nThat glorious fire it kindled in his hart,\\r\\nLay now thy deadly Heben bow apart,\\r\\nAnd with thy mother milde come to mine ayde:\\r\\nCome both, and with you bring triumphant Mart,\\r\\nIn loves and gentle jollities arrayd,\\r\\nAfter his murdrous spoiles and bloudy rage allayd.\\r\\nAnd with them eke, O Goddesse heavenly bright,\\r\\nMirrour of grace and Majestie divine,\\r\\nGreat Lady of the greatest Isle, whose light\\r\\nLike Phoebus lampe throughout the world doth shine,\\r\\nShed thy faire beames into my feeble eyne,\\r\\nAnd raise my thoughts too humble and too vile,\\r\\nTo thinke of that true glorious type of thine,\\r\\nThe argument of mine afflicted stile:\\r\\nThe which to heare, vouchsafe, O dearest dred a-while.\\r\\n\\r\\ni\\r\\nA Gentle Knight was pricking on the plaine,\\r\\nY cladd in mightie armes and silver shielde,\\r\\nWherein old dints of deepe wounds did remaine,\\r\\nThe cruell markes of many a bloudy fielde;\\r\\nYet armes till that time did he never wield:\\r\\nHis angry steede did chide his foming bitt,\\r\\nAs much disdayning to the curbe to yield:\\r\\nFull jolly knight he seemd, and faire did sitt,\\r\\nAs one for knightly giusts and fierce encounters fitt.\\r\\n\\r\\nii\\r\\nBut on his brest a bloudie Crosse he bore,\\r\\nThe deare remembrance of his dying Lord,\\r\\nFor whose sweete sake that glorious badge he wore,\\r\\nAnd dead as living ever him ador'd:\\r\\nUpon his shield the like was also scor'd,\\r\\nFor soveraine hope, which in his helpe he had:\\r\\nRight faithfull true he was in deede and word,\\r\\nBut of his cheere did seeme too solemne sad;\\r\\nYet nothing did he dread, but ever was ydrad.\\r\\n\\r\\niii\\r\\nUpon a great adventure he was bond,\\r\\nThat greatest Gloriana to him gave,\\r\\nThat greatest Glorious Queene of Faerie lond,\\r\\nTo winne him worship, and her grace to have,\\r\\nWhich of all earthly things he most did crave;\\r\\nAnd ever as he rode, his hart did earne\\r\\nTo prove his puissance in battell brave\\r\\nUpon his foe, and his new force to learne;\\r\\nUpon his foe, a Dragon horrible and stearne.\\r\\n\\r\\niv\\r\\nA lovely Ladie rode him faire beside,\\r\\nUpon a lowly Asse more white then snow,\\r\\nYet she much whiter, but the same did hide\\r\\nUnder a vele, that wimpled was full low,\\r\\nAnd over all a blacke stole she did throw,\\r\\nAs one that inly mournd: so was she sad,\\r\\nAnd heavie sat upon her palfrey slow;\\r\\nSeemed in heart some hidden care she had,\\r\\nAnd by her in a line a milke white lambe she lad.\\r\\n\\r\\nv\\r\\nSo pure an innocent, as that same lambe,\\r\\nShe was in life and every vertuous lore,\\r\\nAnd by descent from Royall lynage came\\r\\nOf ancient Kings and Queenes, that had of yore\\r\\nTheir scepters stretcht from East to Westerne shore,\\r\\nAnd all the world in their subjection held;\\r\\nTill that infernall feend with foule uprore\\r\\nForwasted all their land, and them expeld:\\r\\nWhom to avenge, she had this Knight from far compeld.\\r\\n\\r\\nvi\\r\\nBehind her farre away a Dwarfe did lag,\\r\\nThat lasie seemd in being ever last,\\r\\nOr wearied with bearing of her bag\\r\\nOf needments at his backe. Thus as they past,\\r\\nThe day with cloudes was suddeine overcast,\\r\\nAnd angry Jove an hideous storme of raine\\r\\nDid poure into his Lemans lap so fast,\\r\\nThat every wight to shrowd it did constrain,\\r\\nAnd this faire couple eke to shroud themselves were fain.\\r\\n\\r\\nvii\\r\\nEnforst to seeke some covert nigh at hand,\\r\\nA shadie grove not far away they spide,\\r\\nThat promist ayde the tempest to withstand:\\r\\nWhose loftie trees yclad with sommers pride,\\r\\nDid spred so broad, that heavens light did hide,\\r\\nNot perceable with power of any starre:\\r\\nAnd all within were pathes and alleies wide,\\r\\nWith footing worne, and leading inward farre:\\r\\nFaire harbour that them seemes; so in they entred arre.\\r\\n\\r\\nviii\\r\\nAnd foorth they passe, with pleasure forward led,\\r\\nJoying to heare the birdes sweete harmony,\\r\\nWhich therein shrouded from the tempest dred,\\r\\nSeemd in their song to scorne the cruell sky.\\r\\nMuch can they prayse the trees so straight and hy,\\r\\nThe sayling Pine, the Cedar proud and tall,\\r\\nThe vine-prop Elme, the Poplar never dry,\\r\\nThe builder Oake, sole king of forrests all,\\r\\nThe Aspine good for staves, the Cypresse funerall.\\r\\n\\r\\nix\\r\\nThe Laurell, meed of mightie Conquerours\\r\\nAnd Poets sage, the Firre that weepeth still,\\r\\nThe Willow worne of forlorne Paramours,\\r\\nThe Eugh obedient to the benders will,\\r\\nThe Birch for shaftes, the Sallow for the mill,\\r\\nThe Mirrhe sweete bleeding in the bitter wound,\\r\\nThe warlike Beech, the Ash for nothing ill,\\r\\nThe fruitfull Olive, and the Platane round,\\r\\nThe carver Holme, the Maple seeldom inward sound.\\r\\n\\r\\nx\\r\\nLed with delight, they thus beguile the way,\\r\\nUntill the blustring storme is overblowne;\\r\\nWhen weening to returne, whence they did stray,\\r\\nThey cannot find that path, which first was showne,\\r\\nBut wander too and fro in wayes unknowne,\\r\\nFurthest from end then, when they neerest weene,\\r\\nThat makes them doubt, their wits be not their owne:\\r\\nSo many pathes, so many turnings seene,\\r\\nThat which of them to take, in diverse doubt they been.\\r\\n\\r\\nxi\\r\\nAt last resolving forward still to fare,\\r\\nTill that some end they finde or in or out,\\r\\nThat path they take, that beaten seemd most bare,\\r\\nAnd like to lead the labyrinth about;\\r\\nWhich when by tract they hunted had throughout,\\r\\nAt length it brought them to a hollow cave,\\r\\nAmid the thickest woods. The Champion stout\\r\\nEftsoones dismounted from his courser brave,\\r\\nAnd to the Dwarfe a while his needlesse spere he gave.\\r\\n\\r\\nxii\\r\\nBe well aware, quoth then that Ladie milde,\\r\\nLeast suddaine mischiefe ye too rash provoke:\\r\\nThe danger hid, the place unknowne and wilde,\\r\\nBreeds dreadfull doubts: Oft fire is without smoke,\\r\\nAnd perill without show: therefore your stroke\\r\\nSir knight with-hold, till further triall made.\\r\\nAh Ladie (said he) shame were to revoke\\r\\nThe forward footing for an hidden shade:\\r\\nVertue gives her selfe light, through darkenesse for to wade.\\r\\n\\r\\nxiii\\r\\nYea but (quoth she) the perill of this place\\r\\nI better wot then you, though now too late\\r\\nTo wish you backe returne with foule disgrace,\\r\\nYet wisedome warnes, whilest foot is in the gate,\\r\\nTo stay the steppe, ere forced to retrate.\\r\\nThis is the wandring wood, this Errours den,\\r\\nA monster vile, whom God and man does hate:\\r\\nTherefore I read beware. Fly fly (quoth then\\r\\nThe fearefull Dwarfe:) this is no place for living men.\\r\\n\\r\\nxiv\\r\\nBut full of fire and greedy hardiment,\\r\\nThe youthfull knight could not for ought be staide,\\r\\nBut forth unto the darksome hole he went,\\r\\nAnd looked in: his glistring armor made\\r\\nA litle glooming light, much like a shade,\\r\\nBy which he saw the ugly monster plaine,\\r\\nHalfe like a serpent horribly displaide,\\r\\nBut th'other halfe did womans shape retaine,\\r\\nMost lothsom, filthie, foule, and full of vile disdaine.\\r\\n\\r\\nxv\\r\\nAnd as she lay upon the durtie ground,\\r\\nHer huge long taile her den all overspred,\\r\\nYet was in knots and many boughtes upwound,\\r\\nPointed with mortall sting. Of her there bred\\r\\nA thousand yong ones, which she dayly fed,\\r\\nSucking upon her poisonous dugs, eachone\\r\\nOf sundry shapes, yet all ill favored:\\r\\nSoone as that uncouth light upon them shone,\\r\\nInto her mouth they crept, and suddain all were gone.\\r\\n\\r\\nxvi\\r\\nTheir dam upstart, out of her den effraide,\\r\\nAnd rushed forth, hurling her hideous taile\\r\\nAbout her cursed head, whose folds displaid\\r\\nWere stretcht now forth at length without entraile.\\r\\nShe lookt about, and seeing one in mayle\\r\\nArmed to point, sought backe to turne againe;\\r\\nFor light she hated as the deadly bale,\\r\\nAy wont in desert darknesse to remaine,\\r\\nWhere plaine none might her see, nor she see any plaine.\\r\\n\\r\\nxvii\\r\\nWhich when the valiant Elfe perceiv'd, he lept\\r\\nAs Lyon fierce upon the flying pray,\\r\\nAnd with his trenchand blade her boldly kept\\r\\nFrom turning backe, and forced her to stay:\\r\\nTherewith enrag'd she loudly gan to bray,\\r\\nAnd turning fierce, her speckled taile advaunst,\\r\\nThreatning her angry sting, him to dismay:\\r\\nWho nought aghast, his mightie hand enhaunst:\\r\\nThe stroke down from her head unto her shoulder glaunst.\\r\\n\\r\\nxviii\\r\\nMuch daunted with that dint, her sence was dazd,\\r\\nYet kindling rage, her selfe she gathered round,\\r\\nAnd all attonce her beastly body raizd\\r\\nWith doubled forces high above the ground:\\r\\nTho wrapping up her wrethed sterne arownd,\\r\\nLept fierce upon his shield, and her huge traine\\r\\nAll suddenly about his body wound,\\r\\nThat hand or foot to stirre he strove in vaine:\\r\\nGod helpe the man so wrapt in Errours endlesse traine.\\r\\n\\r\\nxix\\r\\nHis Lady sad to see his sore constraint,\\r\\nCride out, Now now Sir knight, shew what ye bee,\\r\\nAdd faith unto your force, and be not faint:\\r\\nStrangle her, else she sure will strangle thee.\\r\\nThat when he heard, in great perplexitie,\\r\\nHis gall did grate for griefe and high disdaine,\\r\\nAnd knitting all his force got one hand free,\\r\\nWherewith he grypt her gorge with so great paine,\\r\\nThat soone to loose her wicked bands did her constraine.\\r\\n\\r\\nxx\\r\\nTherewith she spewd out of her filthy maw\\r\\nA floud of poyson horrible and blacke,\\r\\nFull of great lumpes of flesh and gobbets raw,\\r\\nWhich stunck so vildly, that it forst him slacke\\r\\nHis grasping hold, and from her turne him backe:\\r\\nHer vomit full of bookes and papers was,\\r\\nWith loathly frogs and toades, which eyes did lacke,\\r\\nAnd creeping sought way in the weedy gras:\\r\\nHer filthy parbreake all the place defiled has.\\r\\n\\r\\nxxi\\r\\nAs when old father Nilus gins to swell\\r\\nWith timely pride above the Aegyptian vale,\\r\\nHis fattie waves do fertile slime outwell,\\r\\nAnd overflow each plaine and lowly dale:\\r\\nBut when his later spring gins to avale,\\r\\nHuge heapes of mudd he leaves, wherein there breed\\r\\nTen thousand kindes of creatures, partly male\\r\\nAnd partly female of his fruitfull seed;\\r\\nSuch ugly monstrous shapes elsewhere may no man reed.\\r\\n\\r\\nxxii\\r\\nThe same so sore annoyed has the knight,\\r\\nThat welnigh choked with the deadly stinke,\\r\\nHis forces faile, ne can no longer fight.\\r\\nWhose corage when the feend perceiv'd to shrinke,\\r\\nShe poured forth out of her hellish sinke\\r\\nHer fruitfull cursed spawne of serpents small,\\r\\nDeformed monsters, fowle, and blacke as inke,\\r\\nWhich swarming all about his legs did crall,\\r\\nAnd him encombred sore, but could not hurt at all.\\r\\n\\r\\nxxiii\\r\\nAs gentle Shepheard in sweete even-tide,\\r\\nWhen ruddy Phoebus gins to welke in west,\\r\\nHigh on an hill, his flocke to vewen wide,\\r\\nMarkes which do byte their hasty supper best;\\r\\nA cloud of combrous gnattes do him molest,\\r\\nAll striving to infixe their feeble stings,\\r\\nThat from their noyance he no where can rest,\\r\\nBut with his clownish hands their tender wings\\r\\nHe brusheth oft, and oft doth mar their murmurings.\\r\\n\\r\\nxxiv\\r\\nThus ill bestedd, and fearefull more of shame,\\r\\nThen of the certaine perill he stood in,\\r\\nHalfe furious unto his foe he came,\\r\\nResolv'd in minde all suddenly to win,\\r\\nOr soone to lose, before he once would lin;\\r\\nAnd strooke at her with more then manly force,\\r\\nThat from her body full of filthie sin\\r\\nHe raft her hatefull head without remorse;\\r\\nA streame of cole black bloud forth gushed from her corse.\\r\\n\\r\\nxxv\\r\\nHer scattred brood, soone as their Parent deare\\r\\nThey saw so rudely falling to the ground,\\r\\nGroning full deadly, all with troublous feare,\\r\\nGathred themselves about her body round,\\r\\nWeening their wonted entrance to have found\\r\\nAt her wide mouth: but being there withstood\\r\\nThey flocked all about her bleeding wound,\\r\\nAnd sucked up their dying mothers blood,\\r\\nMaking her death their life, and eke her hurt their good.\\r\\n\\r\\nxxvi\\r\\nThat detestable sight him much amazde,\\r\\nTo see th'unkindly Impes of heaven accurst,\\r\\nDevoure their dam; on whom while so he gazd,\\r\\nHaving all satisfide their bloudy thurst,\\r\\nTheir bellies swolne he saw with fulnesse burst,\\r\\nAnd bowels gushing forth: well worthy end\\r\\nOf such as drunke her life, the which them nurst;\\r\\nNow needeth him no lenger labour spend,\\r\\nHis foes have slaine themselves, with whom he should contend.\\r\\n\\r\\nxxvii\\r\\nHis Ladie seeing all, that chaunst, from farre\\r\\nApprocht in hast to greet his victorie,\\r\\nAnd said, Faire knight, borne under happy starre,\\r\\nWho see your vanquisht foes before you lye:\\r\\nWell worthy be you of that Armorie,\\r\\nWherein ye have great glory wonne this day,\\r\\nAnd proov'd your strength on a strong enimie,\\r\\nYour first adventure: many such I pray,\\r\\nAnd henceforth ever wish, that like succeed it may.\\r\\n\\r\\nxxviii\\r\\nThen mounted he upon his Steede againe,\\r\\nAnd with the Lady backward sought to wend;\\r\\nThat path he kept, which beaten was most plame,\\r\\nNe ever would to any by-way bend,\\r\\nBut still did follow one unto the end,\\r\\nThe which at last out of the wood them brought.\\r\\nSo forward on his way (with God to frend)\\r\\nHe passed forth, and new adventure sought;\\r\\nLong way he travelled, before he heard of ought.\\r\\n\\r\\nxxix\\r\\nAt length they chaunst to meet upon the way\\r\\nAn aged Sire, in long blacke weedes yclad,\\r\\nHis feete all bare, his beard all hoarie gray,\\r\\nAnd by his belt his booke he hanging had;\\r\\nSober he seemde, and very sagely sad,\\r\\nAnd to the ground his eyes were lowly bent,\\r\\nSimple in shew, and voyde of malice bad,\\r\\nAnd all the way he prayed, as he went,\\r\\nAnd often knockt his brest, as one that did repent.\\r\\n\\r\\nxxx\\r\\nHe faire the knight saluted, louting low,\\r\\nWho faire him quited, as that courteous was:\\r\\nAnd after asked him, if he did know\\r\\nOf straunge adventures, which abroad did pas.\\r\\nAh my deare Sonne (quoth he) how should, alas,\\r\\nSilly old man, that lives in hidden cell,\\r\\nBidding his beades all day for his trespas,\\r\\nTydings of warre and worldly trouble tell?\\r\\nWith holy father sits not with such things to mell.\\r\\n\\r\\nxxxi\\r\\nBut if of daunger which hereby doth dwell,\\r\\nAnd homebred evill ye desire to heare,\\r\\nOf a straunge man I can you tidings tell,\\r\\nThat wasteth all this countrey farre and neare.\\r\\nOf such (said he) I chiefly do inquere,\\r\\nAnd shall you well reward to shew the place,\\r\\nIn which that wicked wight his dayes doth weare:\\r\\nFor to all knighthood it is foule disgrace,\\r\\nThat such a cursed creature lives so long a space.\\r\\n\\r\\nxxxii\\r\\nFar hence (quoth he) in wastfull wildernesse\\r\\nHis dwelling is, by which no living wight\\r\\nMay ever passe, but thorough great distresse.\\r\\nNow (sayd the Lady) draweth toward night,\\r\\nAnd well I wote, that of your later fight\\r\\nYe all forwearied be: for what so strong,\\r\\nBut wanting rest will also want of might?\\r\\nThe Sunne that measures heaven all day long,\\r\\nAt night doth baite his steedes the Ocean waves emong.\\r\\n\\r\\nxxxiii\\r\\nThen with the Sunne take Sir, your timely rest,\\r\\nAnd with new day new worke at once begin:\\r\\nUntroubled night they say gives counsell best.\\r\\nRight well Sir knight ye have advised bin,\\r\\n(Quoth then that aged man;) the way to win\\r\\nIs wisely to advise: now day is spent;\\r\\nTherefore with me ye may take up your In\\r\\nFor this same night. The knight was well content:\\r\\nSo with that godly father to his home they went.\\r\\n\\r\\nxxxiv\\r\\nA little lowly Hermitage it was,\\r\\nDowne in a dale, hard by a forests side,\\r\\nFar from resort of people, that did pas\\r\\nIn travell to and froe: a little wyde\\r\\nThere was an holy Chappell edifyde,\\r\\nWherein the Hermite dewly wont to say\\r\\nHis holy things each morne and eventyde:\\r\\nThereby a Christall streame did gently play,\\r\\nWhich from a sacred fountaine welled forth alway.\\r\\n\\r\\nxxxv\\r\\nArrived there, the little house they fill,\\r\\nNe looke for entertainement, where none was:\\r\\nRest is their feast, and all things at their will;\\r\\nThe noblest mind the best contentment has.\\r\\nWith faire discourse the evening so they pas:\\r\\nFor that old man of pleasing wordes had store,\\r\\nAnd well could file his tongue as smooth as glas;\\r\\nHe told of Saintes and Popes, and evermore\\r\\nHe strowd an Ave-Mary after and before.\\r\\n\\r\\nxxxvi\\r\\nThe drouping Night thus creepeth on them fast,\\r\\nAnd the sad humour loading their eye liddes,\\r\\nAs messenger of Morpheus on them cast\\r\\nSweet slombring deaw, the which to sleepe them biddes.\\r\\nUnto their lodgings then his guestes he riddes:\\r\\nWhere when all drownd in deadly sleepe he findes,\\r\\nHe to his study goes, and there amiddes\\r\\nHis Magick bookes and artes of sundry kindes,\\r\\nHe seekes out mighty charmes, to trouble sleepy mindes.\\r\\n\\r\\nxxxvii\\r\\nThen choosing out few wordes most horrible,\\r\\n(Let none them read) thereof did verses frame,\\r\\nWith which and other spelles like terrible,\\r\\nHe bad awake blacke Plutoes griesly Dame,\\r\\nAnd cursed heaven, and spake reprochfull shame\\r\\nOf highest God, the Lord of life and light;\\r\\nA bold bad man, that dar'd to call by name\\r\\nGreat Gorgon, Prince of darknesse and dead night,\\r\\nAt which Cocytus quakes, and Styx is put to flight.\\r\\n\\r\\nxxxviii\\r\\nAnd forth he cald out of deepe darknesse dred\\r\\nLegions of Sprights, the which like little flyes\\r\\nFluttring about his ever damned hed,\\r\\nA-waite whereto their service he applyes,\\r\\nTo aide his friends, or fray his enimies:\\r\\nOf those he chose out two, the falsest twoo,\\r\\nAnd fittest for to forge true-seeming lyes;\\r\\nThe one of them he gave a message too,\\r\\nThe other by him selfe staide other worke to doo.\\r\\n\\r\\nxxxix\\r\\nHe making speedy way through spersed ayre,\\r\\nAnd through the world of waters wide and peepe,\\r\\nTo Morpheus house doth hastily repaire.\\r\\nAmid the bowels of the earth full steepe,\\r\\nAnd low, where dawning day doth never peepe,\\r\\nHis dwelling is; there Tethys his wet bed\\r\\nDoth ever wash, and Cynthia still doth steepe\\r\\nIn silver deaw his ever-drouping hed,\\r\\nWhiles sad Night over him her mantle black doth spred.\\r\\n\\r\\nxl\\r\\nWhose double gates he findeth locked fast,\\r\\nThe one faire fram'd of burnisht Yvory,\\r\\nThe other all with silver overcast;\\r\\nAnd wakefull dogges before them farre do lye\\r\\nWatching to banish Care their enimy,\\r\\nWho oft is wont to trouble gentle Sleepe.\\r\\nBy them the Sprite doth passe in quietly,\\r\\nAnd unto Morpheus comes, whom drowned deepe\\r\\nIn drowsie fit he findes: of nothing he takes keepe.\\r\\n\\r\\nxli\\r\\nAnd more, to lulle him in his slumber soft,\\r\\nA trickling streame from high rocke tumbling downe\\r\\nAnd ever-drizling raine upon the loft,\\r\\nMixt with a murmuring winde, much like the sowne\\r\\nOf swarming Bees, did cast him in a swowne:\\r\\nNo other noyse, nor peoples troublous cryes,\\r\\nAs still are wont t'annoy the walled towne,\\r\\nMight there be heard: but carelesse Quiet lyes,\\r\\nWrapt in eternall silence farre from enemyes.\\r\\n\\r\\nxlii\\r\\nThe messenger approching to him spake,\\r\\nBut his wast wordes returnd to him in vaine:\\r\\nSo sound he slept, that nought mought him awake.\\r\\nThen rudely he him thrust, and pusht with paine,\\r\\nWhereat he gan to stretch: but he againe\\r\\nShooke him so hard, that forced him to speake.\\r\\nAs one then in a dreame, whose dryer braine\\r\\nIn tost with troubled sights and fancies weake,\\r\\nHe mumbled soft, but would not all his silence breake.\\r\\n\\r\\nxliii\\r\\nThe Sprite then gan more boldly him to wake,\\r\\nAnd threatned unto him the dreaded name\\r\\nOf Hecate: whereat he gan to quake,\\r\\nAnd lifting up his lumpish head, with blame\\r\\nHalfe angry asked him, for what he came.\\r\\nHither (quoth he) me Archimago sent,\\r\\nHe that the stubborne Sprites can wisely tame,\\r\\nHe bids thee to him send for his intent\\r\\nA fit false dreame, that can delude the sleepers sent.\\r\\n\\r\\nxliv\\r\\nThe God obayde, and calling forth straight way\\r\\nA diverse dreame out of his prison darke,\\r\\nDelivered it to him, and downe did lay\\r\\nHis heavie head, devoide of carefull carke,\\r\\nWhose sences all were straight benumbed and starke.\\r\\nHe backe returning by the Yvorie dore,\\r\\nRemounted up as light as chearefull Larke,\\r\\nAnd on his litle winges the dreame he bore\\r\\nIn hast unto his Lord, where he him left afore.\\r\\n\\r\\nxlv\\r\\nWho all this while with charmes and hidden artes,\\r\\nHad made a Lady of that other Spright,\\r\\nAnd fram'd of liquid ayre her tender partes\\r\\nSo lively, and so like in all mens sight,\\r\\nThat weaker sence it could have ravisht quight:\\r\\nThe maker selfe for all his wondrous witt,\\r\\nWas nigh beguiled with so goodly sight:\\r\\nHer all in white he clad, and over it\\r\\nCast a blacke stole, most like to seeme for Una fit.\\r\\n\\r\\nxlvi\\r\\nNow when that ydle dreame was to him brought,\\r\\nUnto that Elfin knight he bad him fly,\\r\\nWhere he slept soundly void of evill thought\\r\\nAnd with false shewes abuse his fantasy,\\r\\nIn sort as he him schooled privily:\\r\\nAnd that new creature borne without her dew,\\r\\nFull of the makers guile, with usage sly\\r\\nHe taught to imitate that Lady trew,\\r\\nWhose semblance she did carrie under feigned hew.\\r\\n\\r\\nxlvii\\r\\nThus well instructed, to their worke they hast,\\r\\nAnd comming where the knight in slomber lay,\\r\\nThe one upon his hardy head him plast,\\r\\nAnd made him dreame of loves and lustfull play,\\r\\nThat nigh his manly hart did melt away,\\r\\nBathed in wanton blis and wicked joy:\\r\\nThen seemed him his Lady by him lay,\\r\\nAnd to him playnd, how that false winged boy,\\r\\nHer chast hart had subdewd, to learne Dame pleasures toy.\\r\\n\\r\\nxlviii\\r\\nAnd she her selfe of beautie soveraigne Queene,\\r\\nFaire Venus seemde unto his bed to bring\\r\\nHer, whom he waking evermore did weene,\\r\\nTo be the chastest flowre, that ay did spring\\r\\nOn earthly braunch, the daughter of a king,\\r\\nNow a loose Leman to vile service bound:\\r\\nAnd eke the Graces seemed all to sing,\\r\\nHymen {i}{_o} Hymen, dauncing all around,\\r\\nWhile freshest Flora her with Yvie girlond crownd.\\r\\n\\r\\nxlix\\r\\nIn this great passion of unwonted lust,\\r\\nOr wonted feare of doing ought amis,\\r\\nHe started up, as seeming to mistrust\\r\\nSome secret ill, or hidden foe of his:\\r\\nLo there before his face his Lady is,\\r\\nUnder blake stole hyding her bayted hooke,\\r\\nAnd as halfe blushing offred him to kis,\\r\\nWith gentle blandishment and lovely looke,\\r\\nMost like that virgin true, which for her knight him took.\\r\\n\\r\\nl\\r\\nAll cleane dismayd to see so uncouth sight,\\r\\nAnd halfe enraged at her shamelesse guise,\\r\\nHe thought have slaine her in his fierce despight:\\r\\nBut hasty heat tempring with sufferance wise,\\r\\nHe stayde his hand, and gan himselfe advise\\r\\nTo prove his sense, and tempt her faigned truth.\\r\\nWringing her hands in wemens pitteous wise,\\r\\nTho can she weepe, to stirre up gentle ruth,\\r\\nBoth for her noble bloud, and for her tender youth.\\r\\n\\r\\nli\\r\\nAnd said, Ah Sir, my liege Lord and my love,\\r\\nShall I accuse the hidden cruell fate,\\r\\nAnd mightie causes wrought in heaven above,\\r\\nOr the blind God, that doth me thus amate,\\r\\nFor hoped love to winne me certaine hate?\\r\\nYet thus perforce he bids me do, or die.\\r\\nDie is my dew: yet rew my wretched state\\r\\nYou, whom my hard avenging destinie\\r\\nHath made judge of my life or death indifferently.\\r\\n\\r\\nlii\\r\\nYour owne deare sake forst me at first to leave\\r\\nMy Fathers kingdome, There she stopt with teares;\\r\\nHer swollen hart her speach seemd to bereave,\\r\\nAnd then againe begun, My weaker yeares\\r\\nCaptiv'd to fortune and frayle worldly feares,\\r\\nFly to your faith for succour and sure ayde:\\r\\nLet me not dye in languor and long teares.\\r\\nWhy Dame (quoth he) what hath ye thus dismayd?\\r\\nWhat frayes ye, that were wont to comfort me affrayd?\\r\\n\\r\\nliii\\r\\nLove of your selfe, she said, and deare constraint\\r\\nLets me not sleepe, but wast the wearie night\\r\\nIn secret anguish and unpittied plaint,\\r\\nWhiles you in carelesse sleepe are drowned quight.\\r\\nHer doubtfull words made that redoubted knight\\r\\nSuspect her truth: yet since no'untruth he knew,\\r\\nHer fawning love with foule disdainefull spight\\r\\nHe would not shend, but said, Deare dame I rew,\\r\\nThat for my sake unknowne such griefe unto you grew.\\r\\n\\r\\nliv\\r\\nAssure your selfe, it fell not all to ground;\\r\\nFor all so deare as life is to my hart,\\r\\nI deeme your love, and hold me to you bound;\\r\\nNe let vaine feares procure your needlesse smart,\\r\\nWhere cause is none, but to your rest depart.\\r\\nNot all content, yet seemd she to appease\\r\\nHer mournefull plaintes, beguiled of her art,\\r\\nAnd fed with words, that could not chuse but please,\\r\\nSo slyding softly forth, she turnd as to her ease.\\r\\n\\r\\nlv\\r\\nLong after lay he musing at her mood,\\r\\nMuch griev'd to think that gentle Dame so light,\\r\\nFor whose defence he was to shed his blood.\\r\\nAt last dull wearinesse of former fight\\r\\nHaving yrockt a sleepe his irkesome spright,\\r\\nThat troublous dreame gan freshly tosse his braine,\\r\\nWith bowres, and beds, and Ladies deare delight:\\r\\nBut when he saw his labour all was vaine,\\r\\nWith that misformed spright he backe returnd againe.    0.413151\n",
      "Name: 0, dtype: float64 \n",
      " \n",
      " content\n",
      "When forty winters shall besiege thy brow\\r\\nAnd dig deep trenches in thy beautys field,\\r\\nThy youths proud livery, so gazed on now,\\r\\nWill be a tattered weed, of small worth held.\\r\\nThen being asked where all thy beauty lies\\r\\nWhere all the treasure of thy lusty days\\r\\nTo say within thine own deep-sunken eyes\\r\\nWere an all-eating shame and thriftless praise.\\r\\nHow much more praise deserved thy beautys use \\r\\nIf thou couldst answer \"This fair child of mine\\r\\nShall sum my count and make my old excuse\", \\r\\nProving his beauty by succession thine.\\r\\n    This were to be new made when thou art old,\\r\\n    And see thy blood warm when thou feelst it cold.    0.401863\n",
      "Name: 0, dtype: float64\n"
     ]
    }
   ],
   "source": [
    "# we will print the top five poems that have the highest score for component 0\n",
    "\n",
    "poems_by_component=pd.DataFrame(X_train_lsa,index=X_train['content'])\n",
    "\n",
    "# print the top scoring poems for this components this way in order to avoid white spaces\n",
    "\n",
    "print('Component 0: ', poems_by_component.loc[:,0].sort_values(ascending=False)[0:1], '\\n', '\\n',\n",
    "        poems_by_component.loc[:,0].sort_values(ascending=False)[1:2], '\\n', '\\n',\n",
    "        poems_by_component.loc[:,0].sort_values(ascending=False)[2:3], '\\n','\\n',\n",
    "        poems_by_component.loc[:,0].sort_values(ascending=False)[3:4], '\\n', '\\n',\n",
    "        poems_by_component.loc[:,0].sort_values(ascending=False)[4:5])"
   ]
  },
  {
   "cell_type": "markdown",
   "metadata": {},
   "source": [
    "### LSA Component 1. 'Fading'"
   ]
  },
  {
   "cell_type": "markdown",
   "metadata": {},
   "source": [
    "Top matching poems for the first component describe a woman who undergoes a drastic change. The overarching metaphor: 'fading.'"
   ]
  },
  {
   "cell_type": "code",
   "execution_count": 117,
   "metadata": {},
   "outputs": [
    {
     "name": "stdout",
     "output_type": "stream",
     "text": [
      "Component 1:  content\n",
      "Look in thy glass and tell the face thou viewest,\\r\\nNow is the time that face should form another,\\r\\nWhose fresh repair if now thou not renewest,\\r\\nThou dost beguile the world, unbless some mother.\\r\\nFor where is she so fair whose uneared womb\\r\\nDisdains the tillage of thy husbandry?\\r\\nOr who is he so fond will be the tomb\\r\\nOf his self-love, to stop posterity?\\r\\nThou art thy mothers glass, and she in thee\\r\\nCalls back the lovely April of her prime;\\r\\nSo thou through windows of thine age shalt see,\\r\\nDespite of wrinkles, this thy golden time.\\r\\n    But if thou live remembred not to be,\\r\\n    Die single, and thine image dies with thee.                                                                                                                                                                                                                                                                                                                           0.457551\n",
      "But love whilst that thou mayst be loved again,\\r\\nNow whilst thy May hath filled thy lap with flowers,\\r\\nNow whilst thy beauty bears without a stain,\\r\\nNow use the summer smiles, ere winter lowers.\\r\\nAnd whilst thou spreadst unto the rising sun\\r\\nThe fairest flower that ever saw the light,\\r\\nNow joy thy time before thy sweet be done,\\r\\nAnd, Delia, think thy morning must have night,\\r\\nAnd that thy brightness sets at length to west,\\r\\nWhen thou wilt close up that which now thou shewst;\\r\\nAnd think the same becomes thy fading best\\r\\nWhich then shall most inveil and shadow most.\\r\\nMen do not weigh the stalk for what it was,\\r\\nWhen once they find her flower, her glory, pass.                                                                                                                                                                                                                                                                                       0.438096\n",
      "But love whilst that thou mayst be loved again,\\r\\nNow whilst thy May hath filed thy lap with flowers,\\r\\nNow whilst thy beauty bears without a stain,\\r\\nNow use the summer smiles, ere winter lowers.\\r\\nAnd whilst thou spreadst unto the rising sun\\r\\nThe fairest flower that ever saw the light,\\r\\nNow joy thy time before thy sweet be done,\\r\\nAnd, Delia, think thy morning must have night,\\r\\nAnd that thy brightness sets at length to west,\\r\\nWhen thou wilt close up that which now thou shewst;\\r\\nAnd think the same becomes they fading best\\r\\nWhich then shall most inveil and shadow most.\\r\\nMen do not weigh the stalk for what it was,\\r\\nWhen once they find her flower, her glory, pass.                                                                                                                                                                                                                                                                                       0.413525\n",
      "O thou, my lovely boy, who in thy powr\\r\\nDost hold times fickle glass his sickle hour,\\r\\nWho hast by waning grown, and therein showst\\r\\nThy lovers withering, as thy sweet self growst\\r\\nIn nature, sovereign mistress over wrack,\\r\\nAs thou goest onwards still will pluck thee back,\\r\\nShe keeps thee to this purpose, that her skill\\r\\nMay time disgrace, and wretched minute kill.\\r\\nYet fear her, O thou minion of her pleasure;\\r\\nShe may detain but not still keep her treasure.\\r\\n   Her audit, though delayed, answered must be,\\r\\n   And her quietus is to render thee.                                                                                                                                                                                                                                                                                                                                                                                                              0.405477\n",
      "Poor soul, the centre of my sinful earth,\\r\\n[......] these rebel powers that thee array,\\r\\nWhy dost thou pine within and suffer dearth,\\r\\nPainting thy outward walls so costly gay?\\r\\nWhy so large cost, having so short a lease,\\r\\nDost thou upon thy fading mansion spend?\\r\\nShall worms, inheritors of this excess,\\r\\nEat up thy charge? Is this thy body's end?\\r\\nThen soul, live thou upon thy servant's loss\\r\\nAnd let that pine to aggravate thy store;\\r\\nBuy terms divine in selling hours of dross;\\r\\nWithin be fed, without be rich no more.\\r\\nSo shalt thou feed on Death, that feeds on men,\\r\\nAnd, Death once dead, there's no more dying then.                                                                                                                                                                                                                                                                                                                                 0.392523\n",
      "When forty winters shall besiege thy brow\\r\\nAnd dig deep trenches in thy beautys field,\\r\\nThy youths proud livery, so gazed on now,\\r\\nWill be a tattered weed, of small worth held.\\r\\nThen being asked where all thy beauty lies\\r\\nWhere all the treasure of thy lusty days\\r\\nTo say within thine own deep-sunken eyes\\r\\nWere an all-eating shame and thriftless praise.\\r\\nHow much more praise deserved thy beautys use \\r\\nIf thou couldst answer \"This fair child of mine\\r\\nShall sum my count and make my old excuse\", \\r\\nProving his beauty by succession thine.\\r\\n    This were to be new made when thou art old,\\r\\n    And see thy blood warm when thou feelst it cold.                                                                                                                                                                                                                                                                                                                0.383075\n",
      "No more be grieved at that which thou hast done:\\r\\nRoses have thorns, and silver fountains mud,\\r\\nClouds and eclipses stain both moon and sun,\\r\\nAnd loathsome canker lives in sweetest bud.\\r\\nAll men make faults, and even I in this,\\r\\nAuthorizing thy trespass with compare,\\r\\nMyself corrupting salving thy amiss,\\r\\nExcusing thy sins more than thy sins are:\\r\\nFor to thy sensual fault I bring in sense\\r\\nThy adverse party is thy advocate\\r\\nAnd gainst myself a lawful plea commence.\\r\\nSuch civil war is in my love and hate,\\r\\n   That I an accessory needs must be\\r\\n   To that sweet thief which sourly robs from me.                                                                                                                                                                                                                                                                                                                                                          0.353917\n",
      "If all the world and love were young,\\r\\nAnd truth in every Shepherds tongue,\\r\\nThese pretty pleasures might me move,\\r\\nTo live with thee, and be thy love.\\r\\n\\r\\nTime drives the flocks from field to fold,\\r\\nWhen Rivers rage and Rocks grow cold,\\r\\nAnd Philomel becometh dumb,\\r\\nThe rest complains of cares to come.\\r\\n\\r\\nThe flowers do fade, and wanton fields,\\r\\nTo wayward winter reckoning yields,\\r\\nA honey tongue, a heart of gall,\\r\\nIs fancys spring, but sorrows fall.\\r\\n\\r\\nThy gowns, thy shoes, thy beds of Roses,\\r\\nThy cap, thy kirtle, and thy posies\\r\\nSoon break, soon wither, soon forgotten:\\r\\nIn folly ripe, in reason rotten.\\r\\n\\r\\nThy belt of straw and Ivy buds,\\r\\nThe Coral clasps and amber studs,\\r\\nAll these in me no means can move\\r\\nTo come to thee and be thy love.\\r\\n\\r\\nBut could youth last, and love still breed,\\r\\nHad joys no date, nor age no need,\\r\\nThen these delights my mind might move\\r\\nTo live with thee, and be thy love.    0.353726\n",
      "If all the world and love were young,\\r\\nAnd truth in every Shepherds tongue,\\r\\nThese pretty pleasures might me move,\\r\\nTo live with thee, and be thy love.\\r\\n\\r\\nTime drives the flocks from field to fold,\\r\\nWhen Rivers rage and Rocks grow cold,\\r\\nAnd Philomel becometh dumb,\\r\\nThe rest complains of cares to come.\\r\\n\\r\\nThe flowers do fade, and wanton fields,\\r\\nTo wayward winter reckoning yields,\\r\\nA honey tongue, a heart of gall,\\r\\nIs fancys spring, but sorrows fall.\\r\\n\\r\\nThy gowns, thy shoes, thy beds of Roses,\\r\\nThy cap, thy kirtle, and thy posies\\r\\nSoon break, soon wither, soon forgotten:\\r\\nIn folly ripe, in reason rotten.\\r\\n\\r\\nThy belt of straw and Ivy buds,\\r\\nThe Coral clasps and amber studs,\\r\\nAll these in me no means can move\\r\\nTo come to thee and be thy love.\\r\\n\\r\\nBut could youth last, and love still breed,\\r\\nHad joys no date, nor age no need,\\r\\nThen these delights my mind might move\\r\\nTo live with thee, and be thy love.    0.353726\n",
      "Potuia, potuia\\r\\nWhite grave goddess,\\r\\nPity my sadness,\\r\\nO silence of Paros.\\r\\n\\r\\nI am not of these about thy feet,\\r\\nThese garments and decorum;\\r\\nI am thy brother,\\r\\nThy lover of aforetime crying to thee,\\r\\nAnd thou hearest me not.\\r\\n\\r\\nI have whispered thee in thy solitudes\\r\\nOf our loves in Phrygia,\\r\\nThe far ecstasy of burning noons\\r\\nWhen the fragile pipes\\r\\nCeased in the cypress shade,\\r\\nAnd the brown fingers of the shepherd\\r\\nMoved over slim shoulders;\\r\\nAnd only the cicada sang.\\r\\n\\r\\nI have told thee of the hills\\r\\nAnd the lisp of reeds\\r\\nAnd the sun upon thy breasts,\\r\\n\\r\\nAnd thou hearest me not,\\r\\nPotuia, potuia\\r\\nThou hearest me not.                                                                                                                                                                                                                                                                                                 0.349598\n",
      "Name: 1, dtype: float64\n"
     ]
    }
   ],
   "source": [
    "print('Component 1: ', poems_by_component.loc[:,1].sort_values(ascending=False)[0:10])"
   ]
  },
  {
   "cell_type": "markdown",
   "metadata": {},
   "source": [
    "### Component 2. Death"
   ]
  },
  {
   "cell_type": "markdown",
   "metadata": {},
   "source": [
    "LSA component two portrays death. As we can see, there are some duplicate entries in our dataset. However, due to time constrains, it is not possible for us to remove all the duplicates."
   ]
  },
  {
   "cell_type": "code",
   "execution_count": 118,
   "metadata": {},
   "outputs": [
    {
     "name": "stdout",
     "output_type": "stream",
     "text": [
      "Component 2:  content\n",
      "The ancient songs\\r\\nPass deathward mournfully.\\r\\n\\r\\nCold lips that sing no more, and withered wreaths,\\r\\nRegretful eyes, and drooping breasts and wings\\r\\nSymbols of ancient songs\\r\\nMournfully passing\\r\\nDown to the great white surges,\\r\\nWatched of none         - -\\r\\nSave the frail sea-birds\\r\\nAnd the lithe pale girls,\\r\\nDaughters of Okeanos.\\r\\n\\r\\nAnd the songs pass\\r\\nFrom the green land\\r\\nWhich lies upon the waves as a leaf\\r\\nOn the flowers of hyacinth;\\r\\nAnd they pass from the waters,\\r\\nThe manifold winds and the dim moon,\\r\\nAnd they come,\\r\\nSilently winging through soft Kimmerian dusk,\\r\\nTo the quiet level lands\\r\\nThat she keeps for us all,\\r\\nThat she wrought for us all for sleep\\r\\nIn the silver days of the earth's dawning\\r\\nProserpine, daughter of Zeus.\\r\\n\\r\\nAnd we turn from the Kuprian's breasts,\\r\\nAnd we turn from thee,\\r\\nPhoibos Apollon,\\r\\nAnd we turn from the music of old\\r\\nAnd the hills that we loved and the meads,\\r\\nAnd we turn from the fiery day,\\r\\nAnd the lips that were over-sweet;\\r\\nFor silently\\r\\nBrushing the fields with red-shod feet,\\r\\nWith purple robe\\r\\nSearing the flowers as with a sudden flame,\\r\\nDeath,\\r\\nThou hast come upon us.\\r\\n\\r\\nAnd of all the ancient songs\\r\\nPassing to the swallow-blue halls\\r\\nBy the dark streams of Persephone,\\r\\nThis only remains:\\r\\nThat in the end we turn to thee,\\r\\nDeath,\\r\\nThat we turn to thee, singing\\r\\nOne last song.\\r\\n\\r\\nO Death,\\r\\nThou art an healing wind\\r\\nThat blowest over white flowers\\r\\nA-tremble with dew;\\r\\nThou art a wind flowing\\r\\nOver long leagues of lonely sea;\\r\\nThou art the dusk and the fragrance;\\r\\nThou art the lips of love mournfully smiling;\\r\\nThou art the pale peace of one\\r\\nSatiate with old desires;\\r\\nThou art the silence of beauty,\\r\\nAnd we look no more for the morning;\\r\\nWe yearn no more for the sun,\\r\\nSince with thy white hands,\\r\\nDeath,\\r\\nThou crownest us with the pallid chaplets,\\r\\nThe slim colorless poppies\\r\\nWhich in thy garden alone\\r\\nSoftly thou gatherest.\\r\\n\\r\\nAnd silently;\\r\\nAnd with slow feet approaching;\\r\\nAnd with bowed head and unlit eyes,\\r\\nWe kneel before thee:\\r\\nAnd thou, leaning towards us, Caressingly layest upon us\\r\\nFlowers from thy thin cold hands,\\r\\nAnd, smiling as a chaste woman Knowing love in her heart,\\r\\nThou sealest our eyes\\r\\nAnd the illimitable quietude\\r\\nComes gently upon us.    0.390864\n",
      "Name: 2, dtype: float64 \n",
      " \n",
      " content\n",
      "The ancient songs\\r\\nPass deathward mournfully.\\r\\n\\r\\nCold lips that sing no more, and withered wreaths,\\r\\nRegretful eyes, and drooping breasts and wings\\r\\nSymbols of ancient songs\\r\\nMournfully passing\\r\\nDown to the great white surges,\\r\\nWatched of none         - -\\r\\nSave the frail sea-birds\\r\\nAnd the lithe pale girls,\\r\\nDaughters of Okeanos.\\r\\n\\r\\nAnd the songs pass\\r\\nFrom the green land\\r\\nWhich lies upon the waves as a leaf\\r\\nOn the flowers of hyacinth;\\r\\nAnd they pass from the waters,\\r\\nThe manifold winds and the dim moon,\\r\\nAnd they come,\\r\\nSilently winging through soft Kimmerian dusk,\\r\\nTo the quiet level lands\\r\\nThat she keeps for us all,\\r\\nThat she wrought for us all for sleep\\r\\nIn the silver days of the earth's dawning\\r\\nProserpine, daughter of Zeus.\\r\\n\\r\\nAnd we turn from the Kuprian's breasts,\\r\\nAnd we turn from thee,\\r\\nPhoibos Apollon,\\r\\nAnd we turn from the music of old\\r\\nAnd the hills that we loved and the meads,\\r\\nAnd we turn from the fiery day,\\r\\nAnd the lips that were over-sweet;\\r\\nFor silently\\r\\nBrushing the fields with red-shod feet,\\r\\nWith purple robe\\r\\nSearing the flowers as with a sudden flame,\\r\\nDeath,\\r\\nThou hast come upon us.\\r\\n\\r\\nAnd of all the ancient songs\\r\\nPassing to the swallow-blue halls\\r\\nBy the dark streams of Persephone,\\r\\nThis only remains:\\r\\nThat in the end we turn to thee,\\r\\nDeath,\\r\\nThat we turn to thee, singing\\r\\nOne last song.\\r\\n\\r\\nO Death,\\r\\nThou art an healing wind\\r\\nThat blowest over white flowers\\r\\nA-tremble with dew;\\r\\nThou art a wind flowing\\r\\nOver long leagues of lonely sea;\\r\\nThou art the dusk and the fragrance;\\r\\nThou art the lips of love mournfully smiling;\\r\\nThou art the pale peace of one\\r\\nSatiate with old desires;\\r\\nThou art the silence of beauty,\\r\\nAnd we look no more for the morning;\\r\\nWe yearn no more for the sun,\\r\\nSince with thy white hands,\\r\\nDeath,\\r\\nThou crownest us with the pallid chaplets,\\r\\nThe slim colorless poppies\\r\\nWhich in thy garden alone\\r\\nSoftly thou gatherest.\\r\\n\\r\\nAnd silently;\\r\\nAnd with slow feet approaching;\\r\\nAnd with bowed head and unlit eyes,\\r\\nWe kneel before thee:\\r\\nAnd thou, leaning towards us, Caressingly layest upon us\\r\\nFlowers from thy thin cold hands,\\r\\nAnd, smiling as a chaste woman Knowing love in her heart,\\r\\nThou sealest our eyes\\r\\nAnd the illimitable quietude\\r\\nComes gently upon us.    0.390864\n",
      "Name: 2, dtype: float64 \n",
      " \n",
      " content\n",
      "We passed old farmer Boothby in the field.\\r\\nRugged and straight he stood; his body steeled\\r\\nWith stubbornness and age. We met his eyes\\r\\nThat never flinched or turned to compromise,\\r\\nAnd Luck, he cried, good luck!and waved an arm,\\r\\nKnotted and sailor-like, such as no farm\\r\\nIn all of Maine could boast of; and away\\r\\nHe turned again to pitch his new-cut hay...\\r\\nWe walked on leisurely until a bend\\r\\nShowed him once more, now working toward the end\\r\\nOf one great path; wearing his eighty years\\r\\nLike banners lifted in a wind of cheers.\\r\\n\\r\\nThen we turned off abruptlytook the road\\r\\nCutting the village, the one with the commanding\\r\\nView of the river. And we strode\\r\\nMore briskly now to the long pier that showed\\r\\nWhere the frail boats were kept at Indian Landing.\\r\\nIn the canoe we stepped; our paddles dipped\\r\\nLeisurely downwards, and the slim bark slipped\\r\\nMore on than in the water. Smoothly then\\r\\nWe shot its nose against the rippling current,\\r\\nFeeling the rising rivers half-deterrent\\r\\nPull on the paddle as we turned the blade\\r\\nTo keep from swerving round; while we delayed\\r\\nTo watch the curious wave-eaten locks;\\r\\nOr pass, with lazy turns, the picnic-rocks....\\r\\nBlue eels flew under us, and fishes darted\\r\\nA thousand ways; the once broad channel shrunk.\\r\\nAnd over us the wise and noble-hearted\\r\\nTwilight leaned down; the sunset mists were parted,\\r\\nAnd we, with thoughts on tiptoe, slunk\\r\\nDown the green, twisting alleys of the Kennebunk,\\r\\n\\r\\nMotionless in the meadows\\r\\nThe trees, the rocks, the cows...\\r\\nAnd quiet dripped from the shadows\\r\\nLike rain from heavy boughs.\\r\\n\\r\\nThe tree-toads started ringing\\r\\nTheir ceaseless silver bells;\\r\\nA land-locked breeze came swinging\\r\\nIts censer of earthy smells.\\r\\n\\r\\nThe rivers tiny canon\\r\\nStretched into dusky lands;\\r\\nLike a dark and silent companion\\r\\nEvening held out her hands.\\r\\n\\r\\nHushed were the dawns bravados;\\r\\nLoud noon was a silenced cry\\r\\nAnd quiet slipped from the shadows\\r\\nAs stars slip out of the sky...\\r\\n\\r\\nIt must have been an hour more, or later,\\r\\nWhen, tramping homeward through the piney wood,\\r\\nWe felt the years fly back; the brotherhood\\r\\nOf forests took usand we saw the satyr!\\r\\nThere in a pool, up to his neck, he stood\\r\\nAnd grinned to see us stare, incredulous\\r\\nToo startled to remember fear or flight.\\r\\nFeeling the menace in the crafty night,\\r\\nWe turned to runwhen lo, he called to us!\\r\\nUsing our very names he called. We drew\\r\\nWith creaking courage down the avenue\\r\\nOf birches till we saw, with clearing sight,\\r\\n(No longer through a tricky, pale-green light)\\r\\nFamiliar turns and shrubs, the friendly path,\\r\\nAnd Farmer Boothby in his woodland bath!\\r\\nThe woods became his background; every tree\\r\\nSeemed part of him, and stood erect, and shared\\r\\nThe beauty of that gnarled serenity;\\r\\nThe quiet vigor of age that smiled and squared\\r\\nIts shoulders against Time ... And even night\\r\\nFlowed in and out of him, as though content\\r\\nWith such a native element;\\r\\nHappy to move about a spirit quite\\r\\nAs old, as placid and as confident...\\r\\nSideways we turned. Still glistening and unclad\\r\\nHe leaped up on the bank, light as a lad,\\r\\nHis body in the moonlight dripping stars...\\r\\n\\r\\nWe went on homeward, through the pasture-bars.    0.272114\n",
      "Name: 2, dtype: float64 \n",
      " \n",
      " content\n",
      "We passed old farmer Boothby in the field.\\r\\nRugged and straight he stood; his body steeled\\r\\nWith stubbornness and age. We met his eyes\\r\\nThat never flinched or turned to compromise,\\r\\nAnd Luck, he cried, good luck!and waved an arm,\\r\\nKnotted and sailor-like, such as no farm\\r\\nIn all of Maine could boast of; and away\\r\\nHe turned again to pitch his new-cut hay...\\r\\nWe walked on leisurely until a bend\\r\\nShowed him once more, now working toward the end\\r\\nOf one great path; wearing his eighty years\\r\\nLike banners lifted in a wind of cheers.\\r\\n\\r\\nThen we turned off abruptlytook the road\\r\\nCutting the village, the one with the commanding\\r\\nView of the river. And we strode\\r\\nMore briskly now to the long pier that showed\\r\\nWhere the frail boats were kept at Indian Landing.\\r\\nIn the canoe we stepped; our paddles dipped\\r\\nLeisurely downwards, and the slim bark slipped\\r\\nMore on than in the water. Smoothly then\\r\\nWe shot its nose against the rippling current,\\r\\nFeeling the rising rivers half-deterrent\\r\\nPull on the paddle as we turned the blade\\r\\nTo keep from swerving round; while we delayed\\r\\nTo watch the curious wave-eaten locks;\\r\\nOr pass, with lazy turns, the picnic-rocks....\\r\\nBlue eels flew under us, and fishes darted\\r\\nA thousand ways; the once broad channel shrunk.\\r\\nAnd over us the wise and noble-hearted\\r\\nTwilight leaned down; the sunset mists were parted,\\r\\nAnd we, with thoughts on tiptoe, slunk\\r\\nDown the green, twisting alleys of the Kennebunk,\\r\\n\\r\\nMotionless in the meadows\\r\\nThe trees, the rocks, the cows...\\r\\nAnd quiet dripped from the shadows\\r\\nLike rain from heavy boughs.\\r\\n\\r\\nThe tree-toads started ringing\\r\\nTheir ceaseless silver bells;\\r\\nA land-locked breeze came swinging\\r\\nIts censer of earthy smells.\\r\\n\\r\\nThe rivers tiny canon\\r\\nStretched into dusky lands;\\r\\nLike a dark and silent companion\\r\\nEvening held out her hands.\\r\\n\\r\\nHushed were the dawns bravados;\\r\\nLoud noon was a silenced cry\\r\\nAnd quiet slipped from the shadows\\r\\nAs stars slip out of the sky...\\r\\n\\r\\nIt must have been an hour more, or later,\\r\\nWhen, tramping homeward through the piney wood,\\r\\nWe felt the years fly back; the brotherhood\\r\\nOf forests took usand we saw the satyr!\\r\\nThere in a pool, up to his neck, he stood\\r\\nAnd grinned to see us stare, incredulous\\r\\nToo startled to remember fear or flight.\\r\\nFeeling the menace in the crafty night,\\r\\nWe turned to runwhen lo, he called to us!\\r\\nUsing our very names he called. We drew\\r\\nWith creaking courage down the avenue\\r\\nOf birches till we saw, with clearing sight,\\r\\n(No longer through a tricky, pale-green light)\\r\\nFamiliar turns and shrubs, the friendly path,\\r\\nAnd Farmer Boothby in his woodland bath!\\r\\nThe woods became his background; every tree\\r\\nSeemed part of him, and stood erect, and shared\\r\\nThe beauty of that gnarled serenity;\\r\\nThe quiet vigor of age that smiled and squared\\r\\nIts shoulders against Time ... And even night\\r\\nFlowed in and out of him, as though content\\r\\nWith such a native element;\\r\\nHappy to move about a spirit quite\\r\\nAs old, as placid and as confident...\\r\\nSideways we turned. Still glistening and unclad\\r\\nHe leaped up on the bank, light as a lad,\\r\\nHis body in the moonlight dripping stars...\\r\\n\\r\\nWe went on homeward, through the pasture-bars.    0.272114\n",
      "Name: 2, dtype: float64 \n",
      " \n",
      " content\n",
      "                                  1 \\r\\n\\r\\nWhen the world turns completely upside down\\r\\nYou say well emigrate to the Eastern Shore\\r\\nAboard a river-boat from Baltimore;\\r\\nWell live among wild peach trees, miles from town,\\r\\nYoull wear a coonskin cap, and I a gown\\r\\nHomespun, dyed butternuts dark gold color.\\r\\nLost, like your lotus-eating ancestor,\\r\\nWell swim in milk and honey till we drown.\\r\\n\\r\\nThe winter will be short, the summer long,\\r\\nThe autumn amber-hued, sunny and hot,\\r\\nTasting of cider and of scuppernong;\\r\\nAll seasons sweet, but autumn best of all.\\r\\nThe squirrels in their silver fur will fall\\r\\nLike falling leaves, like fruit, before your shot.\\r\\n\\r\\n\\r\\n                                  2 \\r\\n\\r\\nThe autumn frosts will lie upon the grass\\r\\nLike bloom on grapes of purple-brown and gold.\\r\\nThe misted early mornings will be cold;\\r\\nThe little puddles will be roofed with glass.\\r\\nThe sun, which burns from copper into brass,\\r\\nMelts these at noon, and makes the boys unfold\\r\\nTheir knitted mufflers; full as they can hold\\r\\nFat pockets dribble chestnuts as they pass.\\r\\n\\r\\nPeaches grow wild, and pigs can live in clover;\\r\\nA barrel of salted herrings lasts a year;\\r\\nThe spring begins before the winters over.\\r\\nBy February you may find the skins\\r\\nOf garter snakes and water moccasins\\r\\nDwindled and harsh, dead-white and cloudy-clear.\\r\\n\\r\\n\\r\\n                                  3 \\r\\n\\r\\nWhen April pours the colors of a shell\\r\\nUpon the hills, when every little creek\\r\\nIs shot with silver from the Chesapeake\\r\\nIn shoals new-minted by the ocean swell,\\r\\nWhen strawberries go begging, and the sleek\\r\\nBlue plums lie open to the blackbirds beak,\\r\\nWe shall live well  we shall live very well.\\r\\n\\r\\nThe months between the cherries and the peaches\\r\\nAre brimming cornucopias which spill\\r\\nFruits red and purple, sombre-bloomed and black;\\r\\nThen, down rich fields and frosty river beaches\\r\\nWell trample bright persimmons, while you kill\\r\\nBronze partridge, speckled quail, and canvasback.\\r\\n\\r\\n\\r\\n                                  4 \\r\\n\\r\\nDown to the Puritan marrow of my bones\\r\\nTheres something in this richness that I hate.\\r\\nI love the look, austere, immaculate,\\r\\nOf landscapes drawn in pearly monotones.\\r\\nTheres something in my very blood that owns\\r\\nBare hills, cold silver on a sky of slate,\\r\\nA thread of water, churned to milky spate\\r\\nStreaming through slanted pastures fenced with stones.\\r\\n\\r\\nI love those skies, thin blue or snowy gray,\\r\\nThose fields sparse-planted, rendering meagre sheaves;\\r\\nThat spring, briefer than apple-blossoms breath,\\r\\nSummer, so much too beautiful to stay,\\r\\nSwift autumn, like a bonfire of leaves,\\r\\nAnd sleepy winter, like the sleep of death.    0.237922\n",
      "Name: 2, dtype: float64\n"
     ]
    }
   ],
   "source": [
    "# print this way to avoid white spaces\n",
    "print('Component 2: ', poems_by_component.loc[:,2].sort_values(ascending=False)[0:1], '\\n', '\\n',\n",
    "        poems_by_component.loc[:,2].sort_values(ascending=False)[1:2], '\\n', '\\n',\n",
    "        poems_by_component.loc[:,2].sort_values(ascending=False)[2:3], '\\n','\\n',\n",
    "        poems_by_component.loc[:,2].sort_values(ascending=False)[3:4], '\\n', '\\n',\n",
    "        poems_by_component.loc[:,2].sort_values(ascending=False)[4:5])"
   ]
  },
  {
   "cell_type": "markdown",
   "metadata": {},
   "source": [
    "### 3. Component 3: A weak man"
   ]
  },
  {
   "cell_type": "raw",
   "metadata": {},
   "source": [
    "Top matching poems for this component depict a weak man who is in a vulnerable situation."
   ]
  },
  {
   "cell_type": "code",
   "execution_count": 119,
   "metadata": {},
   "outputs": [
    {
     "name": "stdout",
     "output_type": "stream",
     "text": [
      "Component 3:  content\n",
      "Madam, withouten many words\\r\\n    Once I am sure ye will or no ...\\r\\nAnd if ye will, then leave your bourds\\r\\n    And use your wit and show it so,\\r\\nAnd with a beck ye shall me call;\\r\\n    And if of one that burneth alway\\r\\nYe have any pity at all,\\r\\n    Answer him fair with & {.} or nay.\\r\\nIf it be &, {.} I shall be fain;\\r\\n    If it be nay, friends as before;\\r\\nYe shall another man obtain,\\r\\n    And I mine own and yours no more.    0.658182\n",
      "Name: 3, dtype: float64 \n",
      " \n",
      " content\n",
      "Womanhood, wanton, ye want:\\r\\nYour meddling, mistress, is mannerless;\\r\\nPlenty of ill, of goodness scant,\\r\\nYe rail at riot, reckless:\\r\\nTo praise your port it is needless;\\r\\nFor all your draff yet and your dregs,\\r\\nAs well borne as ye full oft time begs.\\r\\n\\r\\nWhy so coy and full of scorn?\\r\\nMine horse is sold, I ween, you say;\\r\\nMy new furred gown, when it is worn...\\r\\nPut up your purse, ye shall not pay!\\r\\nBy crede, I trust to see the day,\\r\\nAs proud a pea-hen as ye spread,\\r\\nOf me and other ye may have need!\\r\\n\\r\\nThough angelic be your smiling,\\r\\nYet is your tongue an adders tail,\\r\\nFull like a scorpion stinging\\r\\nAll those by whom ye have avail.\\r\\nGood mistress Anne, there ye do shail:\\r\\nWhat prate ye, pretty pigesnye?\\r\\nI trust to quite you ere I die!\\r\\n\\r\\nYour key is meet for every lock,\\r\\nYour key is common and hangeth out;\\r\\nYour key is ready, we need not knock,\\r\\nNor stand long wresting there about;\\r\\nOf your door-gate ye have no doubt:\\r\\nBut one thing is, that ye be lewd:\\r\\nHold your tongue now, all beshrewd!\\r\\n\\r\\nTo mistress Anne, that farly sweet,\\r\\nThat wones at The Key in Thames Street.\\r\\n     0.587574\n",
      "Name: 3, dtype: float64 \n",
      " \n",
      " content\n",
      "Ye old mule that think yourself so fair,\\r\\nLeave off with craft your beauty to repair,\\r\\nFor it is true, without any fable,\\r\\nNo man setteth more by riding in your saddle.\\r\\nToo much travail so do your train appair.\\r\\n        Ye old mule\\r\\nWith false savour though you deceive th'air,\\r\\nWhoso taste you shall well perceive your lair\\r\\nSavoureth somewhat of a Kappurs stable.\\r\\n        Ye old mule\\r\\nYe must now serve to market and to fair,\\r\\nAll for the burden, for panniers a pair.\\r\\nFor since gray hairs been powdered in your sable,\\r\\nThe thing ye seek for, you must yourself enable\\r\\nTo purchase it by payment and by prayer,\\r\\n        Ye old mule.    0.489288\n",
      "Name: 3, dtype: float64 \n",
      " \n",
      " content\n",
      "Lucks, my fair falcon, and your fellows all,\\r\\n   How well pleasant it were your liberty!\\r\\nYe not forsake me that fair might ye befall.\\r\\nBut they that sometime liked my company:\\r\\nLike lice away from dead bodies they crawl.\\r\\nLo what a proof in light adversity!\\r\\nBut ye my birds, I swear by all your bells,\\r\\nYe be my friends, and so be but few else.    0.455076\n",
      "Name: 3, dtype: float64 \n",
      " \n",
      " content\n",
      "I joy to see how in your drawen work,\\r\\nYour selfe unto the Bee ye doe compare;\\r\\nAnd me unto the Spyder that doth lurke,\\r\\nIn close awayt to catch her unaware.\\r\\nRight so your selfe were caught in cunning snare\\r\\nOf a deare for, and thralled to his love:\\r\\nIn whose streight bands ye now captived are\\r\\nSo firmely, that ye never may remove.\\r\\nBut as your whole worke is woven all about,\\r\\nWith woodbynd flowers and fragrant Enlantine:\\r\\nSo sweet your prison you in time shall prove,\\r\\nWith many deare delights bedecked fyne,\\r\\nAnd all thensforth eternall peace shall see\\r\\nBetweene the Spyder and the gentle Bee.    0.419688\n",
      "Name: 3, dtype: float64\n"
     ]
    }
   ],
   "source": [
    "# print this way to avoid white spaces\n",
    "print('Component 3: ', poems_by_component.loc[:,3].sort_values(ascending=False)[0:1], '\\n', '\\n',\n",
    "        poems_by_component.loc[:,3].sort_values(ascending=False)[1:2], '\\n', '\\n',\n",
    "        poems_by_component.loc[:,3].sort_values(ascending=False)[2:3], '\\n','\\n',\n",
    "        poems_by_component.loc[:,3].sort_values(ascending=False)[3:4], '\\n', '\\n',\n",
    "        poems_by_component.loc[:,3].sort_values(ascending=False)[4:5])"
   ]
  },
  {
   "cell_type": "markdown",
   "metadata": {},
   "source": [
    "### 4. Component 4: Farewell to love"
   ]
  },
  {
   "cell_type": "markdown",
   "metadata": {},
   "source": [
    "What unites the top matching poems for this component? They explore the topic of forgotten or fading love. They also often use nature-related metaphors."
   ]
  },
  {
   "cell_type": "code",
   "execution_count": 120,
   "metadata": {},
   "outputs": [
    {
     "name": "stdout",
     "output_type": "stream",
     "text": [
      "Component 4:  content\n",
      "If all the world and love were young,\\r\\nAnd truth in every Shepherds tongue,\\r\\nThese pretty pleasures might me move,\\r\\nTo live with thee, and be thy love.\\r\\n\\r\\nTime drives the flocks from field to fold,\\r\\nWhen Rivers rage and Rocks grow cold,\\r\\nAnd Philomel becometh dumb,\\r\\nThe rest complains of cares to come.\\r\\n\\r\\nThe flowers do fade, and wanton fields,\\r\\nTo wayward winter reckoning yields,\\r\\nA honey tongue, a heart of gall,\\r\\nIs fancys spring, but sorrows fall.\\r\\n\\r\\nThy gowns, thy shoes, thy beds of Roses,\\r\\nThy cap, thy kirtle, and thy posies\\r\\nSoon break, soon wither, soon forgotten:\\r\\nIn folly ripe, in reason rotten.\\r\\n\\r\\nThy belt of straw and Ivy buds,\\r\\nThe Coral clasps and amber studs,\\r\\nAll these in me no means can move\\r\\nTo come to thee and be thy love.\\r\\n\\r\\nBut could youth last, and love still breed,\\r\\nHad joys no date, nor age no need,\\r\\nThen these delights my mind might move\\r\\nTo live with thee, and be thy love.                                                                                                                                                                                                                                                                                                   0.453327\n",
      "If all the world and love were young,\\r\\nAnd truth in every Shepherds tongue,\\r\\nThese pretty pleasures might me move,\\r\\nTo live with thee, and be thy love.\\r\\n\\r\\nTime drives the flocks from field to fold,\\r\\nWhen Rivers rage and Rocks grow cold,\\r\\nAnd Philomel becometh dumb,\\r\\nThe rest complains of cares to come.\\r\\n\\r\\nThe flowers do fade, and wanton fields,\\r\\nTo wayward winter reckoning yields,\\r\\nA honey tongue, a heart of gall,\\r\\nIs fancys spring, but sorrows fall.\\r\\n\\r\\nThy gowns, thy shoes, thy beds of Roses,\\r\\nThy cap, thy kirtle, and thy posies\\r\\nSoon break, soon wither, soon forgotten:\\r\\nIn folly ripe, in reason rotten.\\r\\n\\r\\nThy belt of straw and Ivy buds,\\r\\nThe Coral clasps and amber studs,\\r\\nAll these in me no means can move\\r\\nTo come to thee and be thy love.\\r\\n\\r\\nBut could youth last, and love still breed,\\r\\nHad joys no date, nor age no need,\\r\\nThen these delights my mind might move\\r\\nTo live with thee, and be thy love.                                                                                                                                                                                                                                                                                                   0.453327\n",
      "Farewell love and all thy laws forever;\\r\\nThy baited hooks shall tangle me no more.\\r\\nSenec and Plato call me from thy lore\\r\\nTo perfect wealth, my wit for to endeavour.\\r\\nIn blind error when I did persever,\\r\\nThy sharp repulse, that pricketh aye so sore,\\r\\nHath taught me to set in trifles no store\\r\\nAnd scape forth, since liberty is lever.\\r\\nTherefore farewell; go trouble younger hearts\\r\\nAnd in me claim no more authority.\\r\\nWith idle youth go use thy property\\r\\nAnd thereon spend thy many brittle darts,\\r\\nFor hitherto though I have lost all my time,\\r\\nMe lusteth no lenger rotten boughs to climb.                                                                                                                                                                                                                                                                                                                                                                                                                                                                                                                                                                                                                                                                 0.248280\n",
      "No more be grieved at that which thou hast done:\\r\\nRoses have thorns, and silver fountains mud,\\r\\nClouds and eclipses stain both moon and sun,\\r\\nAnd loathsome canker lives in sweetest bud.\\r\\nAll men make faults, and even I in this,\\r\\nAuthorizing thy trespass with compare,\\r\\nMyself corrupting salving thy amiss,\\r\\nExcusing thy sins more than thy sins are:\\r\\nFor to thy sensual fault I bring in sense\\r\\nThy adverse party is thy advocate\\r\\nAnd gainst myself a lawful plea commence.\\r\\nSuch civil war is in my love and hate,\\r\\n   That I an accessory needs must be\\r\\n   To that sweet thief which sourly robs from me.                                                                                                                                                                                                                                                                                                                                                                                                                                                                                                                                                                                                                                                         0.245270\n",
      "Care for thy soul as thing of greatest price,\\r\\n      Made to the end to taste of power divine,\\r\\nDevoid of guilt, abhorring sin and vice,\\r\\n      Apt by Gods grace to virtue to incline.\\r\\nCare for it so as by thy retchless train\\r\\nIt be not brought to taste eternal pain.\\r\\n\\r\\nCare for thy corse, but chiefly for souls sake;\\r\\n      Cut off excess, sustaining food is best;\\r\\nTo vanquish pride but comely clothing take;\\r\\n      Seek after skill, deep ignorance detest.\\r\\nCare so, I say, the flesh to feed and clothe\\r\\nThat thou harm not thy soul and body both.\\r\\n\\r\\nCare for the world to do thy body right;\\r\\n      Rack not thy wit to win thy wicked ways;\\r\\nSeek not to oppress the weak by wrongful might;\\r\\n      To pay thy due do banish all delays.\\r\\nCare to dispend according to thy store,\\r\\nAnd in like sort be mindful of the poor.\\r\\n\\r\\nCare for thy soul, as for thy chiefest stay;\\r\\n      Care for thy body for thy souls avail;\\r\\nCare for the world for bodys help alway;\\r\\n      Care yet but so as virtue may prevail.\\r\\nCare in such sort that thou be sure of this:\\r\\nCare keep thee not from heaven and heavenly bliss.                                                                                                            0.237528\n",
      "Come live with me and be my love,\\r\\nAnd we will all the pleasures prove,\\r\\nThat Valleys, groves, hills, and fields,\\r\\nWoods, or steepy mountain yields.\\r\\n\\r\\nAnd we will sit upon the Rocks,\\r\\nSeeing the Shepherds feed their flocks,\\r\\nBy shallow Rivers to whose falls\\r\\nMelodious birds sing Madrigals.\\r\\n\\r\\nAnd I will make thee beds of Roses\\r\\nAnd a thousand fragrant posies,\\r\\nA cap of flowers, and a kirtle\\r\\nEmbroidered all with leaves of Myrtle;\\r\\n\\r\\nA gown made of the finest wool\\r\\nWhich from our pretty Lambs we pull;\\r\\nFair lined slippers for the cold,\\r\\nWith buckles of the purest gold;\\r\\n\\r\\nA belt of straw and Ivy buds,\\r\\nWith Coral clasps and Amber studs:\\r\\nAnd if these pleasures may thee move,\\r\\nCome live with me, and be my love.\\r\\n\\r\\nThe Shepherds Swains shall dance and sing\\r\\nFor thy delight each May-morning:\\r\\nIf these delights thy mind may move,\\r\\nThen live with me, and be my love.                                                                                                                                                                                                                                                                                                                                        0.232272\n",
      "Twice or thrice had I lov'd thee,\\r\\nBefore I knew thy face or name;\\r\\nSo in a voice, so in a shapeless flame\\r\\nAngels affect us oft, and worshipp'd be;\\r\\n         Still when, to where thou wert, I came,\\r\\nSome lovely glorious nothing I did see.\\r\\n         But since my soul, whose child love is,\\r\\nTakes limbs of flesh, and else could nothing do,\\r\\n         More subtle than the parent is\\r\\nLove must not be, but take a body too;\\r\\n         And therefore what thou wert, and who,\\r\\n                I bid Love ask, and now\\r\\nThat it assume thy body, I allow,\\r\\nAnd fix itself in thy lip, eye, and brow.\\r\\n\\r\\nWhilst thus to ballast love I thought,\\r\\nAnd so more steadily to have gone,\\r\\nWith wares which would sink admiration,\\r\\nI saw I had love's pinnace overfraught;\\r\\n         Ev'ry thy hair for love to work upon\\r\\nIs much too much, some fitter must be sought;\\r\\n         For, nor in nothing, nor in things\\r\\nExtreme, and scatt'ring bright, can love inhere;\\r\\n         Then, as an angel, face, and wings\\r\\nOf air, not pure as it, yet pure, doth wear,\\r\\n         So thy love may be my love's sphere;\\r\\n                Just such disparity\\r\\nAs is 'twixt air and angels' purity,\\r\\n'Twixt women's love, and men's, will ever be.    0.224480\n",
      "Twice or thrice had I lov'd thee,\\r\\nBefore I knew thy face or name;\\r\\nSo in a voice, so in a shapeless flame\\r\\nAngels affect us oft, and worshipp'd be;\\r\\n         Still when, to where thou wert, I came,\\r\\nSome lovely glorious nothing I did see.\\r\\n         But since my soul, whose child love is,\\r\\nTakes limbs of flesh, and else could nothing do,\\r\\n         More subtle than the parent is\\r\\nLove must not be, but take a body too;\\r\\n         And therefore what thou wert, and who,\\r\\n                I bid Love ask, and now\\r\\nThat it assume thy body, I allow,\\r\\nAnd fix itself in thy lip, eye, and brow.\\r\\n\\r\\nWhilst thus to ballast love I thought,\\r\\nAnd so more steadily to have gone,\\r\\nWith wares which would sink admiration,\\r\\nI saw I had love's pinnace overfraught;\\r\\n         Ev'ry thy hair for love to work upon\\r\\nIs much too much, some fitter must be sought;\\r\\n         For, nor in nothing, nor in things\\r\\nExtreme, and scatt'ring bright, can love inhere;\\r\\n         Then, as an angel, face, and wings\\r\\nOf air, not pure as it, yet pure, doth wear,\\r\\n         So thy love may be my love's sphere;\\r\\n                Just such disparity\\r\\nAs is 'twixt air and angels' purity,\\r\\n'Twixt women's love, and men's, will ever be.    0.224480\n",
      "O come, soft rest of cares! come, Night!\\r\\n       Come, naked Virtues only tire,\\r\\nThe reaped harvest of the light\\r\\n    Bound up in sheaves of sacred fire,\\r\\n       Love calls to war:\\r\\n             Sighs his alarms,\\r\\n       Lips his swords are,\\r\\n             The fields his arms.\\r\\n\\r\\nCome, Night, and lay thy velvet hand\\r\\n    On glorious Days outfacing face;\\r\\nAnd all thy crowned flames command\\r\\n    For torches to our nuptial grace.\\r\\n       Love calls to war:\\r\\n             Sighs his alarms,\\r\\n       Lips his swords are,\\r\\n             The field his arms.                                                                                                                                                                                                                                                                                                                                                                                                                                                                                                                                                                                                                                                                                                  0.212486\n",
      "But love whilst that thou mayst be loved again,\\r\\nNow whilst thy May hath filled thy lap with flowers,\\r\\nNow whilst thy beauty bears without a stain,\\r\\nNow use the summer smiles, ere winter lowers.\\r\\nAnd whilst thou spreadst unto the rising sun\\r\\nThe fairest flower that ever saw the light,\\r\\nNow joy thy time before thy sweet be done,\\r\\nAnd, Delia, think thy morning must have night,\\r\\nAnd that thy brightness sets at length to west,\\r\\nWhen thou wilt close up that which now thou shewst;\\r\\nAnd think the same becomes thy fading best\\r\\nWhich then shall most inveil and shadow most.\\r\\nMen do not weigh the stalk for what it was,\\r\\nWhen once they find her flower, her glory, pass.                                                                                                                                                                                                                                                                                                                                                                                                                                                                                                                                                                                      0.206746\n",
      "Name: 4, dtype: float64\n"
     ]
    }
   ],
   "source": [
    "print('Component 4: ', poems_by_component.loc[:,4].sort_values(ascending=False)[0:10])"
   ]
  },
  {
   "cell_type": "markdown",
   "metadata": {},
   "source": [
    "### b. Cluster Centers "
   ]
  },
  {
   "cell_type": "markdown",
   "metadata": {},
   "source": [
    " - Two-cluster solution:"
   ]
  },
  {
   "cell_type": "code",
   "execution_count": 121,
   "metadata": {},
   "outputs": [
    {
     "data": {
      "text/html": [
       "<div>\n",
       "<style scoped>\n",
       "    .dataframe tbody tr th:only-of-type {\n",
       "        vertical-align: middle;\n",
       "    }\n",
       "\n",
       "    .dataframe tbody tr th {\n",
       "        vertical-align: top;\n",
       "    }\n",
       "\n",
       "    .dataframe thead th {\n",
       "        text-align: right;\n",
       "    }\n",
       "</style>\n",
       "<table border=\"1\" class=\"dataframe\">\n",
       "  <thead>\n",
       "    <tr style=\"text-align: right;\">\n",
       "      <th></th>\n",
       "      <th>0</th>\n",
       "      <th>1</th>\n",
       "      <th>2</th>\n",
       "      <th>3</th>\n",
       "      <th>4</th>\n",
       "    </tr>\n",
       "  </thead>\n",
       "  <tbody>\n",
       "    <tr>\n",
       "      <th>0</th>\n",
       "      <td>0.188006</td>\n",
       "      <td>-0.075273</td>\n",
       "      <td>0.004964</td>\n",
       "      <td>0.009982</td>\n",
       "      <td>-0.000164</td>\n",
       "    </tr>\n",
       "    <tr>\n",
       "      <th>1</th>\n",
       "      <td>0.323220</td>\n",
       "      <td>0.251585</td>\n",
       "      <td>0.025597</td>\n",
       "      <td>-0.003929</td>\n",
       "      <td>0.017134</td>\n",
       "    </tr>\n",
       "  </tbody>\n",
       "</table>\n",
       "</div>"
      ],
      "text/plain": [
       "          0         1         2         3         4\n",
       "0  0.188006 -0.075273  0.004964  0.009982 -0.000164\n",
       "1  0.323220  0.251585  0.025597 -0.003929  0.017134"
      ]
     },
     "execution_count": 121,
     "metadata": {},
     "output_type": "execute_result"
    }
   ],
   "source": [
    "# first five lsa components scores of the cluster centers\n",
    "pd.DataFrame(km.cluster_centers_).iloc[:, :5]"
   ]
  },
  {
   "cell_type": "markdown",
   "metadata": {},
   "source": [
    "- `cluster 0`: the most relvenant components include 0 ('celebration of love and beauty') and 3 ('a weak man'). Component 2 ('death') is somewhat important.\n",
    "\n",
    "- `cluster 1`: most important components are 0 ('celebration of love and beauty'), 1 ('fading'). Component 4 ('farewell to love') is also relevant. Component 2 ('death') is somewhat important. Component 3 ('a weak man') is not relevant. \n",
    "\n",
    "The most obvious differences between the two clusters are connected with component 1 ('fading') which is very important for cluster one and nowhere nearly as important for cluster 0. Additionally, component 3 ('a weak man') is relevant for cluster 0 and significantly less relevant for cluster 1."
   ]
  },
  {
   "cell_type": "markdown",
   "metadata": {},
   "source": [
    " - Four-Cluster Solution:"
   ]
  },
  {
   "cell_type": "code",
   "execution_count": 122,
   "metadata": {},
   "outputs": [
    {
     "data": {
      "text/html": [
       "<div>\n",
       "<style scoped>\n",
       "    .dataframe tbody tr th:only-of-type {\n",
       "        vertical-align: middle;\n",
       "    }\n",
       "\n",
       "    .dataframe tbody tr th {\n",
       "        vertical-align: top;\n",
       "    }\n",
       "\n",
       "    .dataframe thead th {\n",
       "        text-align: right;\n",
       "    }\n",
       "</style>\n",
       "<table border=\"1\" class=\"dataframe\">\n",
       "  <thead>\n",
       "    <tr style=\"text-align: right;\">\n",
       "      <th></th>\n",
       "      <th>0</th>\n",
       "      <th>1</th>\n",
       "      <th>2</th>\n",
       "      <th>3</th>\n",
       "      <th>4</th>\n",
       "    </tr>\n",
       "  </thead>\n",
       "  <tbody>\n",
       "    <tr>\n",
       "      <th>0</th>\n",
       "      <td>0.159498</td>\n",
       "      <td>-0.093888</td>\n",
       "      <td>0.094870</td>\n",
       "      <td>-0.008463</td>\n",
       "      <td>0.020742</td>\n",
       "    </tr>\n",
       "    <tr>\n",
       "      <th>1</th>\n",
       "      <td>0.141093</td>\n",
       "      <td>-0.060234</td>\n",
       "      <td>-0.040414</td>\n",
       "      <td>0.120009</td>\n",
       "      <td>0.011719</td>\n",
       "    </tr>\n",
       "    <tr>\n",
       "      <th>2</th>\n",
       "      <td>0.230828</td>\n",
       "      <td>-0.075917</td>\n",
       "      <td>-0.071342</td>\n",
       "      <td>-0.024841</td>\n",
       "      <td>-0.016615</td>\n",
       "    </tr>\n",
       "    <tr>\n",
       "      <th>3</th>\n",
       "      <td>0.318519</td>\n",
       "      <td>0.221831</td>\n",
       "      <td>0.025975</td>\n",
       "      <td>0.001821</td>\n",
       "      <td>-0.005481</td>\n",
       "    </tr>\n",
       "  </tbody>\n",
       "</table>\n",
       "</div>"
      ],
      "text/plain": [
       "          0         1         2         3         4\n",
       "0  0.159498 -0.093888  0.094870 -0.008463  0.020742\n",
       "1  0.141093 -0.060234 -0.040414  0.120009  0.011719\n",
       "2  0.230828 -0.075917 -0.071342 -0.024841 -0.016615\n",
       "3  0.318519  0.221831  0.025975  0.001821 -0.005481"
      ]
     },
     "execution_count": 122,
     "metadata": {},
     "output_type": "execute_result"
    }
   ],
   "source": [
    "#first five lsa components of the cluster centers\n",
    "pd.DataFrame(km_four.cluster_centers_).iloc[:, :5]"
   ]
  },
  {
   "cell_type": "markdown",
   "metadata": {},
   "source": [
    "As we can see, the clusters have significant differences in terms of their underlying poetic themes.:\n",
    "\n",
    "- `Cluster 0:` somewhat relevant component 0 ('celebration of love and beauty'), component 2 ('death') is important. Component 4 ('farewell to love') is more pertinent to this cluster than to the rest of the clusters.\n",
    "\n",
    "- `Cluster 1:` somewhat relevant component 0 ('celebration of love and beauty'). Particularly significant component 3 ('a weak man'), also component 4 ('farewell to love'). \n",
    "\n",
    "- `Cluster 2:` only component 0 is relevant ('celebration of love and beauty'). This cluster seems to comprise happy and light poems.\n",
    "\n",
    "- `Cluster 3:` component 0 ('celebration of love and beauty') is more pertinent to this cluster than to any other clusters. The same is true of component 1 ('fading'). Compoent 2('death') is also relevant but not so much as it is in cluster 0."
   ]
  },
  {
   "cell_type": "markdown",
   "metadata": {},
   "source": [
    "Clustering helped us uncover groups of data which existed but were not originally apparent to us. While the corpus of the poems used for this analysis was within the established literary cannon, a similar analysis could be applied to a vast corpus of \"the great unread\" or any other body of texts which had not been previously studied or even read by a human. "
   ]
  },
  {
   "cell_type": "markdown",
   "metadata": {},
   "source": [
    "# Conclusions:\n"
   ]
  },
  {
   "cell_type": "markdown",
   "metadata": {},
   "source": [
    "This project managed to accomplish the following tasks:\n",
    " - compare effectiveness of tf_idf lsa features vs. word2vec features for this particular dataset\n",
    " - utilize tf_idf lsa features to:\n",
    "     - predict time period of a poem with the best roc_auc score of 0.9766.\n",
    "     - classify poems into two classes (love vs. non-love) with roc_auc score of 0.812.\n",
    "     - discover clusters in the data and interpret cluster membership based on shared themes.\n",
    "     \n",
    "Our corpus was rather small and, therefore, it is not surprising that Latent Semantic Analysis worked better that word2vec which typically requires a very large corpus to perform well. Additionally, it is also important to point out that further fine-tuning of algorithm parameters is possible which is indicated by the fact that the best results were achieved with extreme values. Due to time constraints, this issue was not addressed."
   ]
  },
  {
   "cell_type": "code",
   "execution_count": null,
   "metadata": {},
   "outputs": [],
   "source": []
  }
 ],
 "metadata": {
  "kernelspec": {
   "display_name": "Python 3",
   "language": "python",
   "name": "python3"
  },
  "language_info": {
   "codemirror_mode": {
    "name": "ipython",
    "version": 3
   },
   "file_extension": ".py",
   "mimetype": "text/x-python",
   "name": "python",
   "nbconvert_exporter": "python",
   "pygments_lexer": "ipython3",
   "version": "3.7.0"
  }
 },
 "nbformat": 4,
 "nbformat_minor": 2
}
